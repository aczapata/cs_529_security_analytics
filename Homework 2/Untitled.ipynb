{
 "cells": [
  {
   "cell_type": "code",
   "execution_count": 18,
   "metadata": {},
   "outputs": [
    {
     "data": {
      "text/plain": [
       "[Text(220.44444444444446, 323.4, 'X[1] <= 0.5\\nentropy = 0.492\\nsamples = 16\\nvalue = [7, 9]'),\n",
       " Text(110.22222222222223, 230.99999999999997, 'X[0] <= 0.5\\nentropy = 0.469\\nsamples = 8\\nvalue = [5, 3]'),\n",
       " Text(55.111111111111114, 138.6, 'entropy = 0.0\\nsamples = 1\\nvalue = [1, 0]'),\n",
       " Text(165.33333333333334, 138.6, 'X[2] <= 0.5\\nentropy = 0.49\\nsamples = 7\\nvalue = [4, 3]'),\n",
       " Text(110.22222222222223, 46.19999999999999, 'entropy = 0.0\\nsamples = 1\\nvalue = [0, 1]'),\n",
       " Text(220.44444444444446, 46.19999999999999, 'entropy = 0.444\\nsamples = 6\\nvalue = [4, 2]'),\n",
       " Text(330.6666666666667, 230.99999999999997, 'X[2] <= 0.5\\nentropy = 0.375\\nsamples = 8\\nvalue = [2, 6]'),\n",
       " Text(275.55555555555554, 138.6, 'entropy = 0.0\\nsamples = 2\\nvalue = [0, 2]'),\n",
       " Text(385.7777777777778, 138.6, 'X[0] <= 0.5\\nentropy = 0.444\\nsamples = 6\\nvalue = [2, 4]'),\n",
       " Text(330.6666666666667, 46.19999999999999, 'entropy = 0.0\\nsamples = 1\\nvalue = [1, 0]'),\n",
       " Text(440.8888888888889, 46.19999999999999, 'entropy = 0.32\\nsamples = 5\\nvalue = [1, 4]')]"
      ]
     },
     "execution_count": 18,
     "metadata": {},
     "output_type": "execute_result"
    }
   ],
   "source": [
    "from sklearn import tree\n",
    "import pandas as pd\n",
    "data = pd.DataFrame()\n",
    "data['Color'] = ['y','g','g','y','y','y','y','y','g','y','y','y','y','y','y','y']\n",
    "data['Size'] = ['s','l','s','l','l','l','l','s','s','l','s','s','s','l','s','l']\n",
    "data['Shape'] = ['r','i','r','r','r','r','r','r','i','r','r','r','r','r','i','i']\n",
    "Y = [0,0,0,0,0,0,0,1,1,1,1,1,1,1,1,1]\n",
    "dt = tree.DecisionTreeClassifier()\n",
    "one_hot_data = pd.get_dummies(data[['Color','Size','Shape']],drop_first=True)\n",
    "tree.plot_tree(dt.fit(one_hot_data, Y))"
   ]
  },
  {
   "cell_type": "code",
   "execution_count": null,
   "metadata": {},
   "outputs": [],
   "source": []
  }
 ],
 "metadata": {
  "kernelspec": {
   "display_name": "Python 3",
   "language": "python",
   "name": "python3"
  },
  "language_info": {
   "codemirror_mode": {
    "name": "ipython",
    "version": 3
   },
   "file_extension": ".py",
   "mimetype": "text/x-python",
   "name": "python",
   "nbconvert_exporter": "python",
   "pygments_lexer": "ipython3",
   "version": "3.7.3"
  }
 },
 "nbformat": 4,
 "nbformat_minor": 2
}
