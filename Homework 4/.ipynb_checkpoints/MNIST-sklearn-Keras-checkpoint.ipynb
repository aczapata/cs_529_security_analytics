{
 "cells": [
  {
   "cell_type": "markdown",
   "metadata": {
    "_uuid": "972f90217a185b93981aef489046a0aefbc64dc8"
   },
   "source": [
    "# **MNIST: Sklearn and Keras** \n",
    "**Comparing the performance of ML and DL classification models on**  \n",
    "**the Digit Recognizer (MNIST) competition**  \n",
    "\n",
    "\n",
    "*from Kaggle:*   \n",
    "MNIST (\"Modified National Institute of Standards and Technology\") is the de facto “hello world” dataset of computer vision.  \n",
    "In this competition, your goal is to correctly identify digits from a dataset of tens of thousands of handwritten images."
   ]
  },
  {
   "cell_type": "markdown",
   "metadata": {},
   "source": [
    "**Ref** : **https://www.kaggle.com/dejavu23/mnist-sklearn-and-keras**"
   ]
  },
  {
   "cell_type": "markdown",
   "metadata": {
    "_uuid": "a8840cfb479892df49d74122e7281a1b949d4036"
   },
   "source": [
    "The kernel includes an **EDA part** on the distribution of labels and some sample images for each digit.  \n",
    "We explore how the images of handwritten digits are stored as 784 values (pixels).  \n",
    "We transform these 784 pixels back to images of 28 x 28 (width x heigth) and have a look at possible difficulties in identifying and distinguishing certain digits.  \n",
    "The part on **prediction modelling** starts with **classifiers from sklearn**:  \n",
    "Perceptron, Logistic Regression, Random Forest, SVM, Multi Layer Perceptron  \n",
    "and then continues to **Neural Networks with Keras**:   \n",
    "Dense (1,2 and 3 layers) and CNN (Conv2D, MaxPooling, Dropout)"
   ]
  },
  {
   "cell_type": "markdown",
   "metadata": {
    "_uuid": "5a15f0810640d7baad9c31c5b530814343d65dc6"
   },
   "source": [
    "**Outline of the kernel:**\n",
    "\n",
    "**Part 0: Imports, functions**\n",
    "\n",
    "[some useful functions](#some-useful-functions)\n",
    "\n",
    "\n",
    "**Part 1: Exploring the Data**\n",
    "\n",
    "[Distribution of labels](#Distribution-of-labels)  \n",
    "[first 10 samples for each digit](#first-10-image-samples-for-each-digit)  \n",
    "[Conclusions on EDA](#Conclusions-on-EDA) \n",
    "\n",
    "\n",
    "**Part 2: Sklearn Classifiers** \n",
    "\n",
    "[Perceptron](#Perceptron)  \n",
    "[Logistic Regression](#Logistic-Regression)  \n",
    "[KNN](#KNN)  \n",
    "[Random Forest Classifier](#Random-Forest-Classifier)  \n",
    "[Support Vector Machine Classifier](#Support-Vector-Machine-Classifier)  \n",
    "[Multi Layer Perceptron](#Multi-Layer-Perceptron)\n",
    "\n",
    "\n",
    "**Part 3: NN and CNN Classifiers with Keras**\n",
    "\n",
    "3.1 Fully-Connected Neural Networks  \n",
    "[Keras: dense, 1 hidden layer](#Keras:-1-hidden-layer)  \n",
    "[Keras: dense, 2 hidden layers](#Keras:-2-hidden-layers)  \n",
    "[Keras: dense, 3 hidden layers](#Keras:-3-hidden-layers)  \n",
    "3.2 Convolutional Neural Networks, CNN  \n",
    "[features : reshaping 1d vector to 2d images](#features-:-reshaping-1d-vector-to-2d-images)  \n",
    "[Keras: CNN, model 1](#Keras:-CNN-model-1)  \n",
    "[Keras: CNN, model 2](#Keras:-CNN-model-2)\n",
    "\n",
    "**Part 4: Predictions for test data**  \n",
    "[Fitting on all training data](#Fitting-on-all-training-data)  \n",
    "\n",
    "**Part 5: Comparing classifier performance**  \n",
    "[Validation scores](#Validation-scores)  \n",
    "[Test scores](#Test-scores)  \n",
    "\n",
    "\n",
    "**Part 6: Different optimizers**  \n",
    "adadelta  \n",
    "rmsprop  \n",
    "adam  \n",
    "\n",
    "**Part 7: Investigating false predictions**\n"
   ]
  },
  {
   "cell_type": "code",
   "execution_count": null,
   "metadata": {},
   "outputs": [],
   "source": []
  },
  {
   "cell_type": "markdown",
   "metadata": {
    "_uuid": "f001988cbe36bd9d1ce9dcc712c7b06635fd8a7d"
   },
   "source": [
    "# Part 0: Imports, Functions"
   ]
  },
  {
   "cell_type": "code",
   "execution_count": 1,
   "metadata": {
    "_cell_guid": "b1076dfc-b9ad-4769-8c92-a6c4dae69d19",
    "_uuid": "8f2839f25d086af736a60e9eeb907d3b93b6e0e5"
   },
   "outputs": [
    {
     "name": "stderr",
     "output_type": "stream",
     "text": [
      "Using TensorFlow backend.\n"
     ]
    }
   ],
   "source": [
    "import numpy as np \n",
    "import pandas as pd \n",
    "\n",
    "import random as rn\n",
    "\n",
    "import matplotlib.pyplot as plt\n",
    "import matplotlib.image as mpimg\n",
    "import seaborn as sns\n",
    "%matplotlib inline\n",
    "\n",
    "from sklearn.preprocessing import LabelEncoder\n",
    "from sklearn.metrics import confusion_matrix, classification_report, accuracy_score\n",
    "from sklearn.model_selection import train_test_split\n",
    "from sklearn.model_selection import cross_val_score, KFold \n",
    "from sklearn.model_selection import RandomizedSearchCV, GridSearchCV\n",
    "from sklearn.pipeline import Pipeline\n",
    "from scipy.stats import uniform\n",
    "\n",
    "import itertools\n",
    "\n",
    "import warnings\n",
    "from sklearn.exceptions import ConvergenceWarning\n",
    "warnings.filterwarnings(\"ignore\", category=ConvergenceWarning)\n",
    "\n",
    "from keras.utils.np_utils import to_categorical\n",
    "from keras.utils import np_utils\n",
    "\n",
    "from keras.models import Sequential\n",
    "from keras.layers import Dense, Dropout, Flatten\n",
    "from keras.layers import Conv2D, MaxPooling2D, MaxPool2D\n",
    "#from keras.layers import AvgPool2D, BatchNormalization, Reshape\n",
    "from keras.optimizers import Adadelta, RMSprop, Adam\n",
    "from keras.losses import categorical_crossentropy\n",
    "from keras.wrappers.scikit_learn import KerasClassifier\n",
    "\n",
    "import tensorflow as tf"
   ]
  },
  {
   "cell_type": "markdown",
   "metadata": {
    "_uuid": "613c5dcdfdde0b99ef2292da1d59c22edfc70fcf"
   },
   "source": [
    "**some global variables**"
   ]
  },
  {
   "cell_type": "code",
   "execution_count": 2,
   "metadata": {
    "_uuid": "d20ddc5ea49a5ddd0cb251a32c1fafe257afb124"
   },
   "outputs": [],
   "source": [
    "img_rows, img_cols = 28, 28\n",
    "\n",
    "np.random.seed(5)\n",
    "#rn.seed(5)\n",
    "#tf.set_random_seed(5)"
   ]
  },
  {
   "cell_type": "markdown",
   "metadata": {
    "_uuid": "e76e22587309810772340c55880e3c721772257a"
   },
   "source": [
    "### **some useful functions**"
   ]
  },
  {
   "cell_type": "markdown",
   "metadata": {
    "_uuid": "67b0d192f7523e0bae49f6fc5498d83418f6d97b"
   },
   "source": [
    "### get_best_score for GridSearchCV"
   ]
  },
  {
   "cell_type": "code",
   "execution_count": 3,
   "metadata": {
    "_uuid": "3796d134b019785d4b60357db28151a4b32dc7ab"
   },
   "outputs": [],
   "source": [
    "def get_best_score(model):\n",
    "    \n",
    "    print(model.best_score_)    \n",
    "    print(model.best_params_)\n",
    "    print(model.best_estimator_)\n",
    "    \n",
    "    return model.best_score_"
   ]
  },
  {
   "cell_type": "markdown",
   "metadata": {
    "_uuid": "0b48ff13fda2010e77067f7f9e0a312774f7c6b7"
   },
   "source": [
    "### print Classification Report and Accuracy"
   ]
  },
  {
   "cell_type": "code",
   "execution_count": 4,
   "metadata": {
    "_uuid": "6b2924e8055b1cd5c87db52dc75c5d18fb2f932f"
   },
   "outputs": [],
   "source": [
    "def print_validation_report(y_true, y_pred):\n",
    "    print(\"Classification Report\")\n",
    "    print(classification_report(y_true, y_pred))\n",
    "    acc_sc = accuracy_score(y_true, y_pred)\n",
    "    print(\"Accuracy : \"+ str(acc_sc))\n",
    "    \n",
    "    return acc_sc"
   ]
  },
  {
   "cell_type": "markdown",
   "metadata": {
    "_uuid": "be3fac7d609a819d441a1799b57891381d21253c"
   },
   "source": [
    "### plot_confusion_matrix"
   ]
  },
  {
   "cell_type": "code",
   "execution_count": 5,
   "metadata": {
    "_uuid": "be399813086badb7465791bc904ff95970687f3b"
   },
   "outputs": [],
   "source": [
    "def plot_confusion_matrix(y_true, y_pred):\n",
    "    mtx = confusion_matrix(y_true, y_pred)\n",
    "    fig, ax = plt.subplots(figsize=(8,8))\n",
    "    sns.heatmap(mtx, annot=True, fmt='d', linewidths=.5,  cbar=False, ax=ax)\n",
    "    #  square=True,\n",
    "    plt.ylabel('true label')\n",
    "    plt.xlabel('predicted label')"
   ]
  },
  {
   "cell_type": "markdown",
   "metadata": {
    "_uuid": "95c1ee02cd8ecc860c901bb5d91a34544dd7e3ad"
   },
   "source": [
    "### plot_history_loss_and_acc"
   ]
  },
  {
   "cell_type": "code",
   "execution_count": 6,
   "metadata": {
    "_uuid": "678cc8ca95af1cc66bf9b365e996225751156242"
   },
   "outputs": [],
   "source": [
    "def plot_history_loss_and_acc(history_keras_nn):\n",
    "\n",
    "    fig, axs = plt.subplots(1,2, figsize=(12,4))\n",
    "\n",
    "    axs[0].plot(history_keras_nn.history['loss'])\n",
    "    axs[0].plot(history_keras_nn.history['val_loss'])\n",
    "    axs[0].set_title('model loss')\n",
    "    axs[0].set_ylabel('loss')\n",
    "    axs[0].set_xlabel('epoch')\n",
    "    axs[0].legend(['train', 'validation'], loc='upper left')\n",
    "\n",
    "    axs[1].plot(history_keras_nn.history['acc'])\n",
    "    axs[1].plot(history_keras_nn.history['val_acc'])\n",
    "    axs[1].set_title('model accuracy')\n",
    "    axs[1].set_ylabel('accuracy')\n",
    "    axs[1].set_xlabel('epoch')\n",
    "    axs[1].legend(['train', 'validation'], loc='upper left')\n",
    "\n",
    "    plt.show()"
   ]
  },
  {
   "cell_type": "markdown",
   "metadata": {
    "_uuid": "4c709b6bd14531e7b0248d7e0ef3abb378ae2ae3"
   },
   "source": [
    "### **Reading the data**"
   ]
  },
  {
   "cell_type": "code",
   "execution_count": 7,
   "metadata": {
    "_uuid": "a5ecb7548864377c6d794e0f61b79884e45602fe"
   },
   "outputs": [],
   "source": [
    "train = pd.read_csv(\"input/train.csv\")\n",
    "test = pd.read_csv(\"input/test.csv\")"
   ]
  },
  {
   "cell_type": "code",
   "execution_count": 8,
   "metadata": {
    "_uuid": "02f31d6447f9f2f554f6055314a4d7d60ffa8d2a"
   },
   "outputs": [],
   "source": [
    "y = train[\"label\"]\n",
    "X = train.drop([\"label\"],axis = 1)\n",
    "X_test = test"
   ]
  },
  {
   "cell_type": "markdown",
   "metadata": {
    "_uuid": "81951a034d3cbe377d8d6ab3ca6386e3fc6ba278"
   },
   "source": [
    "### Normalization"
   ]
  },
  {
   "cell_type": "code",
   "execution_count": 9,
   "metadata": {
    "scrolled": true
   },
   "outputs": [
    {
     "data": {
      "text/html": [
       "<div>\n",
       "<style scoped>\n",
       "    .dataframe tbody tr th:only-of-type {\n",
       "        vertical-align: middle;\n",
       "    }\n",
       "\n",
       "    .dataframe tbody tr th {\n",
       "        vertical-align: top;\n",
       "    }\n",
       "\n",
       "    .dataframe thead th {\n",
       "        text-align: right;\n",
       "    }\n",
       "</style>\n",
       "<table border=\"1\" class=\"dataframe\">\n",
       "  <thead>\n",
       "    <tr style=\"text-align: right;\">\n",
       "      <th></th>\n",
       "      <th>pixel0</th>\n",
       "      <th>pixel1</th>\n",
       "      <th>pixel2</th>\n",
       "      <th>pixel3</th>\n",
       "      <th>pixel4</th>\n",
       "      <th>pixel5</th>\n",
       "      <th>pixel6</th>\n",
       "      <th>pixel7</th>\n",
       "      <th>pixel8</th>\n",
       "      <th>pixel9</th>\n",
       "      <th>...</th>\n",
       "      <th>pixel774</th>\n",
       "      <th>pixel775</th>\n",
       "      <th>pixel776</th>\n",
       "      <th>pixel777</th>\n",
       "      <th>pixel778</th>\n",
       "      <th>pixel779</th>\n",
       "      <th>pixel780</th>\n",
       "      <th>pixel781</th>\n",
       "      <th>pixel782</th>\n",
       "      <th>pixel783</th>\n",
       "    </tr>\n",
       "  </thead>\n",
       "  <tbody>\n",
       "    <tr>\n",
       "      <th>count</th>\n",
       "      <td>42000.0</td>\n",
       "      <td>42000.0</td>\n",
       "      <td>42000.0</td>\n",
       "      <td>42000.0</td>\n",
       "      <td>42000.0</td>\n",
       "      <td>42000.0</td>\n",
       "      <td>42000.0</td>\n",
       "      <td>42000.0</td>\n",
       "      <td>42000.0</td>\n",
       "      <td>42000.0</td>\n",
       "      <td>...</td>\n",
       "      <td>42000.000000</td>\n",
       "      <td>42000.000000</td>\n",
       "      <td>42000.000000</td>\n",
       "      <td>42000.00000</td>\n",
       "      <td>42000.000000</td>\n",
       "      <td>42000.000000</td>\n",
       "      <td>42000.0</td>\n",
       "      <td>42000.0</td>\n",
       "      <td>42000.0</td>\n",
       "      <td>42000.0</td>\n",
       "    </tr>\n",
       "    <tr>\n",
       "      <th>mean</th>\n",
       "      <td>0.0</td>\n",
       "      <td>0.0</td>\n",
       "      <td>0.0</td>\n",
       "      <td>0.0</td>\n",
       "      <td>0.0</td>\n",
       "      <td>0.0</td>\n",
       "      <td>0.0</td>\n",
       "      <td>0.0</td>\n",
       "      <td>0.0</td>\n",
       "      <td>0.0</td>\n",
       "      <td>...</td>\n",
       "      <td>0.219286</td>\n",
       "      <td>0.117095</td>\n",
       "      <td>0.059024</td>\n",
       "      <td>0.02019</td>\n",
       "      <td>0.017238</td>\n",
       "      <td>0.002857</td>\n",
       "      <td>0.0</td>\n",
       "      <td>0.0</td>\n",
       "      <td>0.0</td>\n",
       "      <td>0.0</td>\n",
       "    </tr>\n",
       "    <tr>\n",
       "      <th>std</th>\n",
       "      <td>0.0</td>\n",
       "      <td>0.0</td>\n",
       "      <td>0.0</td>\n",
       "      <td>0.0</td>\n",
       "      <td>0.0</td>\n",
       "      <td>0.0</td>\n",
       "      <td>0.0</td>\n",
       "      <td>0.0</td>\n",
       "      <td>0.0</td>\n",
       "      <td>0.0</td>\n",
       "      <td>...</td>\n",
       "      <td>6.312890</td>\n",
       "      <td>4.633819</td>\n",
       "      <td>3.274488</td>\n",
       "      <td>1.75987</td>\n",
       "      <td>1.894498</td>\n",
       "      <td>0.414264</td>\n",
       "      <td>0.0</td>\n",
       "      <td>0.0</td>\n",
       "      <td>0.0</td>\n",
       "      <td>0.0</td>\n",
       "    </tr>\n",
       "    <tr>\n",
       "      <th>min</th>\n",
       "      <td>0.0</td>\n",
       "      <td>0.0</td>\n",
       "      <td>0.0</td>\n",
       "      <td>0.0</td>\n",
       "      <td>0.0</td>\n",
       "      <td>0.0</td>\n",
       "      <td>0.0</td>\n",
       "      <td>0.0</td>\n",
       "      <td>0.0</td>\n",
       "      <td>0.0</td>\n",
       "      <td>...</td>\n",
       "      <td>0.000000</td>\n",
       "      <td>0.000000</td>\n",
       "      <td>0.000000</td>\n",
       "      <td>0.00000</td>\n",
       "      <td>0.000000</td>\n",
       "      <td>0.000000</td>\n",
       "      <td>0.0</td>\n",
       "      <td>0.0</td>\n",
       "      <td>0.0</td>\n",
       "      <td>0.0</td>\n",
       "    </tr>\n",
       "    <tr>\n",
       "      <th>25%</th>\n",
       "      <td>0.0</td>\n",
       "      <td>0.0</td>\n",
       "      <td>0.0</td>\n",
       "      <td>0.0</td>\n",
       "      <td>0.0</td>\n",
       "      <td>0.0</td>\n",
       "      <td>0.0</td>\n",
       "      <td>0.0</td>\n",
       "      <td>0.0</td>\n",
       "      <td>0.0</td>\n",
       "      <td>...</td>\n",
       "      <td>0.000000</td>\n",
       "      <td>0.000000</td>\n",
       "      <td>0.000000</td>\n",
       "      <td>0.00000</td>\n",
       "      <td>0.000000</td>\n",
       "      <td>0.000000</td>\n",
       "      <td>0.0</td>\n",
       "      <td>0.0</td>\n",
       "      <td>0.0</td>\n",
       "      <td>0.0</td>\n",
       "    </tr>\n",
       "    <tr>\n",
       "      <th>50%</th>\n",
       "      <td>0.0</td>\n",
       "      <td>0.0</td>\n",
       "      <td>0.0</td>\n",
       "      <td>0.0</td>\n",
       "      <td>0.0</td>\n",
       "      <td>0.0</td>\n",
       "      <td>0.0</td>\n",
       "      <td>0.0</td>\n",
       "      <td>0.0</td>\n",
       "      <td>0.0</td>\n",
       "      <td>...</td>\n",
       "      <td>0.000000</td>\n",
       "      <td>0.000000</td>\n",
       "      <td>0.000000</td>\n",
       "      <td>0.00000</td>\n",
       "      <td>0.000000</td>\n",
       "      <td>0.000000</td>\n",
       "      <td>0.0</td>\n",
       "      <td>0.0</td>\n",
       "      <td>0.0</td>\n",
       "      <td>0.0</td>\n",
       "    </tr>\n",
       "    <tr>\n",
       "      <th>75%</th>\n",
       "      <td>0.0</td>\n",
       "      <td>0.0</td>\n",
       "      <td>0.0</td>\n",
       "      <td>0.0</td>\n",
       "      <td>0.0</td>\n",
       "      <td>0.0</td>\n",
       "      <td>0.0</td>\n",
       "      <td>0.0</td>\n",
       "      <td>0.0</td>\n",
       "      <td>0.0</td>\n",
       "      <td>...</td>\n",
       "      <td>0.000000</td>\n",
       "      <td>0.000000</td>\n",
       "      <td>0.000000</td>\n",
       "      <td>0.00000</td>\n",
       "      <td>0.000000</td>\n",
       "      <td>0.000000</td>\n",
       "      <td>0.0</td>\n",
       "      <td>0.0</td>\n",
       "      <td>0.0</td>\n",
       "      <td>0.0</td>\n",
       "    </tr>\n",
       "    <tr>\n",
       "      <th>max</th>\n",
       "      <td>0.0</td>\n",
       "      <td>0.0</td>\n",
       "      <td>0.0</td>\n",
       "      <td>0.0</td>\n",
       "      <td>0.0</td>\n",
       "      <td>0.0</td>\n",
       "      <td>0.0</td>\n",
       "      <td>0.0</td>\n",
       "      <td>0.0</td>\n",
       "      <td>0.0</td>\n",
       "      <td>...</td>\n",
       "      <td>254.000000</td>\n",
       "      <td>254.000000</td>\n",
       "      <td>253.000000</td>\n",
       "      <td>253.00000</td>\n",
       "      <td>254.000000</td>\n",
       "      <td>62.000000</td>\n",
       "      <td>0.0</td>\n",
       "      <td>0.0</td>\n",
       "      <td>0.0</td>\n",
       "      <td>0.0</td>\n",
       "    </tr>\n",
       "  </tbody>\n",
       "</table>\n",
       "<p>8 rows × 784 columns</p>\n",
       "</div>"
      ],
      "text/plain": [
       "        pixel0   pixel1   pixel2   pixel3   pixel4   pixel5   pixel6   pixel7  \\\n",
       "count  42000.0  42000.0  42000.0  42000.0  42000.0  42000.0  42000.0  42000.0   \n",
       "mean       0.0      0.0      0.0      0.0      0.0      0.0      0.0      0.0   \n",
       "std        0.0      0.0      0.0      0.0      0.0      0.0      0.0      0.0   \n",
       "min        0.0      0.0      0.0      0.0      0.0      0.0      0.0      0.0   \n",
       "25%        0.0      0.0      0.0      0.0      0.0      0.0      0.0      0.0   \n",
       "50%        0.0      0.0      0.0      0.0      0.0      0.0      0.0      0.0   \n",
       "75%        0.0      0.0      0.0      0.0      0.0      0.0      0.0      0.0   \n",
       "max        0.0      0.0      0.0      0.0      0.0      0.0      0.0      0.0   \n",
       "\n",
       "        pixel8   pixel9  ...      pixel774      pixel775      pixel776  \\\n",
       "count  42000.0  42000.0  ...  42000.000000  42000.000000  42000.000000   \n",
       "mean       0.0      0.0  ...      0.219286      0.117095      0.059024   \n",
       "std        0.0      0.0  ...      6.312890      4.633819      3.274488   \n",
       "min        0.0      0.0  ...      0.000000      0.000000      0.000000   \n",
       "25%        0.0      0.0  ...      0.000000      0.000000      0.000000   \n",
       "50%        0.0      0.0  ...      0.000000      0.000000      0.000000   \n",
       "75%        0.0      0.0  ...      0.000000      0.000000      0.000000   \n",
       "max        0.0      0.0  ...    254.000000    254.000000    253.000000   \n",
       "\n",
       "          pixel777      pixel778      pixel779  pixel780  pixel781  pixel782  \\\n",
       "count  42000.00000  42000.000000  42000.000000   42000.0   42000.0   42000.0   \n",
       "mean       0.02019      0.017238      0.002857       0.0       0.0       0.0   \n",
       "std        1.75987      1.894498      0.414264       0.0       0.0       0.0   \n",
       "min        0.00000      0.000000      0.000000       0.0       0.0       0.0   \n",
       "25%        0.00000      0.000000      0.000000       0.0       0.0       0.0   \n",
       "50%        0.00000      0.000000      0.000000       0.0       0.0       0.0   \n",
       "75%        0.00000      0.000000      0.000000       0.0       0.0       0.0   \n",
       "max      253.00000    254.000000     62.000000       0.0       0.0       0.0   \n",
       "\n",
       "       pixel783  \n",
       "count   42000.0  \n",
       "mean        0.0  \n",
       "std         0.0  \n",
       "min         0.0  \n",
       "25%         0.0  \n",
       "50%         0.0  \n",
       "75%         0.0  \n",
       "max         0.0  \n",
       "\n",
       "[8 rows x 784 columns]"
      ]
     },
     "execution_count": 9,
     "metadata": {},
     "output_type": "execute_result"
    }
   ],
   "source": [
    "X.describe()"
   ]
  },
  {
   "cell_type": "code",
   "execution_count": 10,
   "metadata": {
    "_uuid": "865c65cb54e8c0f619914a445133800453620fd1"
   },
   "outputs": [],
   "source": [
    "X = X/255.0\n",
    "X_test = X_test/255.0"
   ]
  },
  {
   "cell_type": "code",
   "execution_count": 11,
   "metadata": {
    "scrolled": true
   },
   "outputs": [
    {
     "data": {
      "text/html": [
       "<div>\n",
       "<style scoped>\n",
       "    .dataframe tbody tr th:only-of-type {\n",
       "        vertical-align: middle;\n",
       "    }\n",
       "\n",
       "    .dataframe tbody tr th {\n",
       "        vertical-align: top;\n",
       "    }\n",
       "\n",
       "    .dataframe thead th {\n",
       "        text-align: right;\n",
       "    }\n",
       "</style>\n",
       "<table border=\"1\" class=\"dataframe\">\n",
       "  <thead>\n",
       "    <tr style=\"text-align: right;\">\n",
       "      <th></th>\n",
       "      <th>pixel0</th>\n",
       "      <th>pixel1</th>\n",
       "      <th>pixel2</th>\n",
       "      <th>pixel3</th>\n",
       "      <th>pixel4</th>\n",
       "      <th>pixel5</th>\n",
       "      <th>pixel6</th>\n",
       "      <th>pixel7</th>\n",
       "      <th>pixel8</th>\n",
       "      <th>pixel9</th>\n",
       "      <th>...</th>\n",
       "      <th>pixel774</th>\n",
       "      <th>pixel775</th>\n",
       "      <th>pixel776</th>\n",
       "      <th>pixel777</th>\n",
       "      <th>pixel778</th>\n",
       "      <th>pixel779</th>\n",
       "      <th>pixel780</th>\n",
       "      <th>pixel781</th>\n",
       "      <th>pixel782</th>\n",
       "      <th>pixel783</th>\n",
       "    </tr>\n",
       "  </thead>\n",
       "  <tbody>\n",
       "    <tr>\n",
       "      <th>count</th>\n",
       "      <td>42000.0</td>\n",
       "      <td>42000.0</td>\n",
       "      <td>42000.0</td>\n",
       "      <td>42000.0</td>\n",
       "      <td>42000.0</td>\n",
       "      <td>42000.0</td>\n",
       "      <td>42000.0</td>\n",
       "      <td>42000.0</td>\n",
       "      <td>42000.0</td>\n",
       "      <td>42000.0</td>\n",
       "      <td>...</td>\n",
       "      <td>42000.000000</td>\n",
       "      <td>42000.000000</td>\n",
       "      <td>42000.000000</td>\n",
       "      <td>42000.000000</td>\n",
       "      <td>42000.000000</td>\n",
       "      <td>42000.000000</td>\n",
       "      <td>42000.0</td>\n",
       "      <td>42000.0</td>\n",
       "      <td>42000.0</td>\n",
       "      <td>42000.0</td>\n",
       "    </tr>\n",
       "    <tr>\n",
       "      <th>mean</th>\n",
       "      <td>0.0</td>\n",
       "      <td>0.0</td>\n",
       "      <td>0.0</td>\n",
       "      <td>0.0</td>\n",
       "      <td>0.0</td>\n",
       "      <td>0.0</td>\n",
       "      <td>0.0</td>\n",
       "      <td>0.0</td>\n",
       "      <td>0.0</td>\n",
       "      <td>0.0</td>\n",
       "      <td>...</td>\n",
       "      <td>0.000860</td>\n",
       "      <td>0.000459</td>\n",
       "      <td>0.000231</td>\n",
       "      <td>0.000079</td>\n",
       "      <td>0.000068</td>\n",
       "      <td>0.000011</td>\n",
       "      <td>0.0</td>\n",
       "      <td>0.0</td>\n",
       "      <td>0.0</td>\n",
       "      <td>0.0</td>\n",
       "    </tr>\n",
       "    <tr>\n",
       "      <th>std</th>\n",
       "      <td>0.0</td>\n",
       "      <td>0.0</td>\n",
       "      <td>0.0</td>\n",
       "      <td>0.0</td>\n",
       "      <td>0.0</td>\n",
       "      <td>0.0</td>\n",
       "      <td>0.0</td>\n",
       "      <td>0.0</td>\n",
       "      <td>0.0</td>\n",
       "      <td>0.0</td>\n",
       "      <td>...</td>\n",
       "      <td>0.024756</td>\n",
       "      <td>0.018172</td>\n",
       "      <td>0.012841</td>\n",
       "      <td>0.006901</td>\n",
       "      <td>0.007429</td>\n",
       "      <td>0.001625</td>\n",
       "      <td>0.0</td>\n",
       "      <td>0.0</td>\n",
       "      <td>0.0</td>\n",
       "      <td>0.0</td>\n",
       "    </tr>\n",
       "    <tr>\n",
       "      <th>min</th>\n",
       "      <td>0.0</td>\n",
       "      <td>0.0</td>\n",
       "      <td>0.0</td>\n",
       "      <td>0.0</td>\n",
       "      <td>0.0</td>\n",
       "      <td>0.0</td>\n",
       "      <td>0.0</td>\n",
       "      <td>0.0</td>\n",
       "      <td>0.0</td>\n",
       "      <td>0.0</td>\n",
       "      <td>...</td>\n",
       "      <td>0.000000</td>\n",
       "      <td>0.000000</td>\n",
       "      <td>0.000000</td>\n",
       "      <td>0.000000</td>\n",
       "      <td>0.000000</td>\n",
       "      <td>0.000000</td>\n",
       "      <td>0.0</td>\n",
       "      <td>0.0</td>\n",
       "      <td>0.0</td>\n",
       "      <td>0.0</td>\n",
       "    </tr>\n",
       "    <tr>\n",
       "      <th>25%</th>\n",
       "      <td>0.0</td>\n",
       "      <td>0.0</td>\n",
       "      <td>0.0</td>\n",
       "      <td>0.0</td>\n",
       "      <td>0.0</td>\n",
       "      <td>0.0</td>\n",
       "      <td>0.0</td>\n",
       "      <td>0.0</td>\n",
       "      <td>0.0</td>\n",
       "      <td>0.0</td>\n",
       "      <td>...</td>\n",
       "      <td>0.000000</td>\n",
       "      <td>0.000000</td>\n",
       "      <td>0.000000</td>\n",
       "      <td>0.000000</td>\n",
       "      <td>0.000000</td>\n",
       "      <td>0.000000</td>\n",
       "      <td>0.0</td>\n",
       "      <td>0.0</td>\n",
       "      <td>0.0</td>\n",
       "      <td>0.0</td>\n",
       "    </tr>\n",
       "    <tr>\n",
       "      <th>50%</th>\n",
       "      <td>0.0</td>\n",
       "      <td>0.0</td>\n",
       "      <td>0.0</td>\n",
       "      <td>0.0</td>\n",
       "      <td>0.0</td>\n",
       "      <td>0.0</td>\n",
       "      <td>0.0</td>\n",
       "      <td>0.0</td>\n",
       "      <td>0.0</td>\n",
       "      <td>0.0</td>\n",
       "      <td>...</td>\n",
       "      <td>0.000000</td>\n",
       "      <td>0.000000</td>\n",
       "      <td>0.000000</td>\n",
       "      <td>0.000000</td>\n",
       "      <td>0.000000</td>\n",
       "      <td>0.000000</td>\n",
       "      <td>0.0</td>\n",
       "      <td>0.0</td>\n",
       "      <td>0.0</td>\n",
       "      <td>0.0</td>\n",
       "    </tr>\n",
       "    <tr>\n",
       "      <th>75%</th>\n",
       "      <td>0.0</td>\n",
       "      <td>0.0</td>\n",
       "      <td>0.0</td>\n",
       "      <td>0.0</td>\n",
       "      <td>0.0</td>\n",
       "      <td>0.0</td>\n",
       "      <td>0.0</td>\n",
       "      <td>0.0</td>\n",
       "      <td>0.0</td>\n",
       "      <td>0.0</td>\n",
       "      <td>...</td>\n",
       "      <td>0.000000</td>\n",
       "      <td>0.000000</td>\n",
       "      <td>0.000000</td>\n",
       "      <td>0.000000</td>\n",
       "      <td>0.000000</td>\n",
       "      <td>0.000000</td>\n",
       "      <td>0.0</td>\n",
       "      <td>0.0</td>\n",
       "      <td>0.0</td>\n",
       "      <td>0.0</td>\n",
       "    </tr>\n",
       "    <tr>\n",
       "      <th>max</th>\n",
       "      <td>0.0</td>\n",
       "      <td>0.0</td>\n",
       "      <td>0.0</td>\n",
       "      <td>0.0</td>\n",
       "      <td>0.0</td>\n",
       "      <td>0.0</td>\n",
       "      <td>0.0</td>\n",
       "      <td>0.0</td>\n",
       "      <td>0.0</td>\n",
       "      <td>0.0</td>\n",
       "      <td>...</td>\n",
       "      <td>0.996078</td>\n",
       "      <td>0.996078</td>\n",
       "      <td>0.992157</td>\n",
       "      <td>0.992157</td>\n",
       "      <td>0.996078</td>\n",
       "      <td>0.243137</td>\n",
       "      <td>0.0</td>\n",
       "      <td>0.0</td>\n",
       "      <td>0.0</td>\n",
       "      <td>0.0</td>\n",
       "    </tr>\n",
       "  </tbody>\n",
       "</table>\n",
       "<p>8 rows × 784 columns</p>\n",
       "</div>"
      ],
      "text/plain": [
       "        pixel0   pixel1   pixel2   pixel3   pixel4   pixel5   pixel6   pixel7  \\\n",
       "count  42000.0  42000.0  42000.0  42000.0  42000.0  42000.0  42000.0  42000.0   \n",
       "mean       0.0      0.0      0.0      0.0      0.0      0.0      0.0      0.0   \n",
       "std        0.0      0.0      0.0      0.0      0.0      0.0      0.0      0.0   \n",
       "min        0.0      0.0      0.0      0.0      0.0      0.0      0.0      0.0   \n",
       "25%        0.0      0.0      0.0      0.0      0.0      0.0      0.0      0.0   \n",
       "50%        0.0      0.0      0.0      0.0      0.0      0.0      0.0      0.0   \n",
       "75%        0.0      0.0      0.0      0.0      0.0      0.0      0.0      0.0   \n",
       "max        0.0      0.0      0.0      0.0      0.0      0.0      0.0      0.0   \n",
       "\n",
       "        pixel8   pixel9  ...      pixel774      pixel775      pixel776  \\\n",
       "count  42000.0  42000.0  ...  42000.000000  42000.000000  42000.000000   \n",
       "mean       0.0      0.0  ...      0.000860      0.000459      0.000231   \n",
       "std        0.0      0.0  ...      0.024756      0.018172      0.012841   \n",
       "min        0.0      0.0  ...      0.000000      0.000000      0.000000   \n",
       "25%        0.0      0.0  ...      0.000000      0.000000      0.000000   \n",
       "50%        0.0      0.0  ...      0.000000      0.000000      0.000000   \n",
       "75%        0.0      0.0  ...      0.000000      0.000000      0.000000   \n",
       "max        0.0      0.0  ...      0.996078      0.996078      0.992157   \n",
       "\n",
       "           pixel777      pixel778      pixel779  pixel780  pixel781  pixel782  \\\n",
       "count  42000.000000  42000.000000  42000.000000   42000.0   42000.0   42000.0   \n",
       "mean       0.000079      0.000068      0.000011       0.0       0.0       0.0   \n",
       "std        0.006901      0.007429      0.001625       0.0       0.0       0.0   \n",
       "min        0.000000      0.000000      0.000000       0.0       0.0       0.0   \n",
       "25%        0.000000      0.000000      0.000000       0.0       0.0       0.0   \n",
       "50%        0.000000      0.000000      0.000000       0.0       0.0       0.0   \n",
       "75%        0.000000      0.000000      0.000000       0.0       0.0       0.0   \n",
       "max        0.992157      0.996078      0.243137       0.0       0.0       0.0   \n",
       "\n",
       "       pixel783  \n",
       "count   42000.0  \n",
       "mean        0.0  \n",
       "std         0.0  \n",
       "min         0.0  \n",
       "25%         0.0  \n",
       "50%         0.0  \n",
       "75%         0.0  \n",
       "max         0.0  \n",
       "\n",
       "[8 rows x 784 columns]"
      ]
     },
     "execution_count": 11,
     "metadata": {},
     "output_type": "execute_result"
    }
   ],
   "source": [
    "X.describe()"
   ]
  },
  {
   "cell_type": "markdown",
   "metadata": {
    "_uuid": "486e5a1ec5ea278cf8404cdc289bf252c453b8ed"
   },
   "source": [
    "### setting train and validation data"
   ]
  },
  {
   "cell_type": "code",
   "execution_count": 12,
   "metadata": {
    "_uuid": "551c7ff8551d3c080b22d7f014cb4b9f0d64ae23"
   },
   "outputs": [
    {
     "name": "stdout",
     "output_type": "stream",
     "text": [
      "nr_samples train data: 30000\n",
      "start_ix_val: 30000\n",
      "end_ix_val: 40000\n"
     ]
    }
   ],
   "source": [
    "# for best performance, especially of the NN classfiers,\n",
    "# set mode = \"commit\"\n",
    "mode = \"edit\"\n",
    "mode = \"commit\"\n",
    "#\n",
    "\n",
    "if mode == \"edit\" :\n",
    "    nr_samples = 1200\n",
    "\n",
    "if mode == \"commit\" :    \n",
    "    nr_samples = 30000\n",
    "\n",
    "y_train=y[:nr_samples]\n",
    "X_train=X[:nr_samples]\n",
    "start_ix_val = nr_samples \n",
    "end_ix_val = nr_samples + int(nr_samples/3)\n",
    "y_val=y[start_ix_val:end_ix_val]\n",
    "X_val=X[start_ix_val:end_ix_val]\n",
    "    \n",
    "print(\"nr_samples train data:\", nr_samples)\n",
    "print(\"start_ix_val:\", start_ix_val)\n",
    "print(\"end_ix_val:\", end_ix_val)"
   ]
  },
  {
   "cell_type": "code",
   "execution_count": null,
   "metadata": {
    "_uuid": "4fe3baf442262e4e1a6b7e79595ea0651c043754"
   },
   "outputs": [],
   "source": []
  },
  {
   "cell_type": "markdown",
   "metadata": {
    "_uuid": "dc36e607a9b91f6b3629a69b04fcd4c63a9d00a2"
   },
   "source": [
    "# Part 1 : Exploring the Data"
   ]
  },
  {
   "cell_type": "code",
   "execution_count": 36,
   "metadata": {
    "_uuid": "3a29bc0afc5386409cbc482d99e5907dc45c4771"
   },
   "outputs": [
    {
     "name": "stdout",
     "output_type": "stream",
     "text": [
      "X:\n",
      "<class 'pandas.core.frame.DataFrame'>\n",
      "RangeIndex: 42000 entries, 0 to 41999\n",
      "Columns: 784 entries, pixel0 to pixel783\n",
      "dtypes: float64(784)\n",
      "memory usage: 251.2 MB\n",
      "None\n",
      "**************************************************\n",
      "X_test:\n",
      "<class 'pandas.core.frame.DataFrame'>\n",
      "RangeIndex: 28000 entries, 0 to 27999\n",
      "Columns: 784 entries, pixel0 to pixel783\n",
      "dtypes: float64(784)\n",
      "memory usage: 167.5 MB\n",
      "None\n",
      "**************************************************\n",
      "y:\n",
      "(42000,)\n"
     ]
    }
   ],
   "source": [
    "print(\"X:\")\n",
    "print(X.info())\n",
    "print(\"*\"*50)\n",
    "print(\"X_test:\")\n",
    "print(X_test.info())\n",
    "print(\"*\"*50)\n",
    "print(\"y:\")\n",
    "print(y.shape)"
   ]
  },
  {
   "cell_type": "code",
   "execution_count": 14,
   "metadata": {
    "_uuid": "23b83df6872036ce3777486826a6752db65489e2"
   },
   "outputs": [
    {
     "data": {
      "text/html": [
       "<div>\n",
       "<style scoped>\n",
       "    .dataframe tbody tr th:only-of-type {\n",
       "        vertical-align: middle;\n",
       "    }\n",
       "\n",
       "    .dataframe tbody tr th {\n",
       "        vertical-align: top;\n",
       "    }\n",
       "\n",
       "    .dataframe thead th {\n",
       "        text-align: right;\n",
       "    }\n",
       "</style>\n",
       "<table border=\"1\" class=\"dataframe\">\n",
       "  <thead>\n",
       "    <tr style=\"text-align: right;\">\n",
       "      <th></th>\n",
       "      <th>pixel0</th>\n",
       "      <th>pixel1</th>\n",
       "      <th>pixel2</th>\n",
       "      <th>pixel3</th>\n",
       "      <th>pixel4</th>\n",
       "      <th>pixel5</th>\n",
       "      <th>pixel6</th>\n",
       "      <th>pixel7</th>\n",
       "      <th>pixel8</th>\n",
       "      <th>pixel9</th>\n",
       "      <th>...</th>\n",
       "      <th>pixel774</th>\n",
       "      <th>pixel775</th>\n",
       "      <th>pixel776</th>\n",
       "      <th>pixel777</th>\n",
       "      <th>pixel778</th>\n",
       "      <th>pixel779</th>\n",
       "      <th>pixel780</th>\n",
       "      <th>pixel781</th>\n",
       "      <th>pixel782</th>\n",
       "      <th>pixel783</th>\n",
       "    </tr>\n",
       "  </thead>\n",
       "  <tbody>\n",
       "    <tr>\n",
       "      <th>0</th>\n",
       "      <td>0.0</td>\n",
       "      <td>0.0</td>\n",
       "      <td>0.0</td>\n",
       "      <td>0.0</td>\n",
       "      <td>0.0</td>\n",
       "      <td>0.0</td>\n",
       "      <td>0.0</td>\n",
       "      <td>0.0</td>\n",
       "      <td>0.0</td>\n",
       "      <td>0.0</td>\n",
       "      <td>...</td>\n",
       "      <td>0.0</td>\n",
       "      <td>0.0</td>\n",
       "      <td>0.0</td>\n",
       "      <td>0.0</td>\n",
       "      <td>0.0</td>\n",
       "      <td>0.0</td>\n",
       "      <td>0.0</td>\n",
       "      <td>0.0</td>\n",
       "      <td>0.0</td>\n",
       "      <td>0.0</td>\n",
       "    </tr>\n",
       "    <tr>\n",
       "      <th>1</th>\n",
       "      <td>0.0</td>\n",
       "      <td>0.0</td>\n",
       "      <td>0.0</td>\n",
       "      <td>0.0</td>\n",
       "      <td>0.0</td>\n",
       "      <td>0.0</td>\n",
       "      <td>0.0</td>\n",
       "      <td>0.0</td>\n",
       "      <td>0.0</td>\n",
       "      <td>0.0</td>\n",
       "      <td>...</td>\n",
       "      <td>0.0</td>\n",
       "      <td>0.0</td>\n",
       "      <td>0.0</td>\n",
       "      <td>0.0</td>\n",
       "      <td>0.0</td>\n",
       "      <td>0.0</td>\n",
       "      <td>0.0</td>\n",
       "      <td>0.0</td>\n",
       "      <td>0.0</td>\n",
       "      <td>0.0</td>\n",
       "    </tr>\n",
       "    <tr>\n",
       "      <th>2</th>\n",
       "      <td>0.0</td>\n",
       "      <td>0.0</td>\n",
       "      <td>0.0</td>\n",
       "      <td>0.0</td>\n",
       "      <td>0.0</td>\n",
       "      <td>0.0</td>\n",
       "      <td>0.0</td>\n",
       "      <td>0.0</td>\n",
       "      <td>0.0</td>\n",
       "      <td>0.0</td>\n",
       "      <td>...</td>\n",
       "      <td>0.0</td>\n",
       "      <td>0.0</td>\n",
       "      <td>0.0</td>\n",
       "      <td>0.0</td>\n",
       "      <td>0.0</td>\n",
       "      <td>0.0</td>\n",
       "      <td>0.0</td>\n",
       "      <td>0.0</td>\n",
       "      <td>0.0</td>\n",
       "      <td>0.0</td>\n",
       "    </tr>\n",
       "    <tr>\n",
       "      <th>3</th>\n",
       "      <td>0.0</td>\n",
       "      <td>0.0</td>\n",
       "      <td>0.0</td>\n",
       "      <td>0.0</td>\n",
       "      <td>0.0</td>\n",
       "      <td>0.0</td>\n",
       "      <td>0.0</td>\n",
       "      <td>0.0</td>\n",
       "      <td>0.0</td>\n",
       "      <td>0.0</td>\n",
       "      <td>...</td>\n",
       "      <td>0.0</td>\n",
       "      <td>0.0</td>\n",
       "      <td>0.0</td>\n",
       "      <td>0.0</td>\n",
       "      <td>0.0</td>\n",
       "      <td>0.0</td>\n",
       "      <td>0.0</td>\n",
       "      <td>0.0</td>\n",
       "      <td>0.0</td>\n",
       "      <td>0.0</td>\n",
       "    </tr>\n",
       "    <tr>\n",
       "      <th>4</th>\n",
       "      <td>0.0</td>\n",
       "      <td>0.0</td>\n",
       "      <td>0.0</td>\n",
       "      <td>0.0</td>\n",
       "      <td>0.0</td>\n",
       "      <td>0.0</td>\n",
       "      <td>0.0</td>\n",
       "      <td>0.0</td>\n",
       "      <td>0.0</td>\n",
       "      <td>0.0</td>\n",
       "      <td>...</td>\n",
       "      <td>0.0</td>\n",
       "      <td>0.0</td>\n",
       "      <td>0.0</td>\n",
       "      <td>0.0</td>\n",
       "      <td>0.0</td>\n",
       "      <td>0.0</td>\n",
       "      <td>0.0</td>\n",
       "      <td>0.0</td>\n",
       "      <td>0.0</td>\n",
       "      <td>0.0</td>\n",
       "    </tr>\n",
       "  </tbody>\n",
       "</table>\n",
       "<p>5 rows × 784 columns</p>\n",
       "</div>"
      ],
      "text/plain": [
       "   pixel0  pixel1  pixel2  pixel3  pixel4  pixel5  pixel6  pixel7  pixel8  \\\n",
       "0     0.0     0.0     0.0     0.0     0.0     0.0     0.0     0.0     0.0   \n",
       "1     0.0     0.0     0.0     0.0     0.0     0.0     0.0     0.0     0.0   \n",
       "2     0.0     0.0     0.0     0.0     0.0     0.0     0.0     0.0     0.0   \n",
       "3     0.0     0.0     0.0     0.0     0.0     0.0     0.0     0.0     0.0   \n",
       "4     0.0     0.0     0.0     0.0     0.0     0.0     0.0     0.0     0.0   \n",
       "\n",
       "   pixel9  ...  pixel774  pixel775  pixel776  pixel777  pixel778  pixel779  \\\n",
       "0     0.0  ...       0.0       0.0       0.0       0.0       0.0       0.0   \n",
       "1     0.0  ...       0.0       0.0       0.0       0.0       0.0       0.0   \n",
       "2     0.0  ...       0.0       0.0       0.0       0.0       0.0       0.0   \n",
       "3     0.0  ...       0.0       0.0       0.0       0.0       0.0       0.0   \n",
       "4     0.0  ...       0.0       0.0       0.0       0.0       0.0       0.0   \n",
       "\n",
       "   pixel780  pixel781  pixel782  pixel783  \n",
       "0       0.0       0.0       0.0       0.0  \n",
       "1       0.0       0.0       0.0       0.0  \n",
       "2       0.0       0.0       0.0       0.0  \n",
       "3       0.0       0.0       0.0       0.0  \n",
       "4       0.0       0.0       0.0       0.0  \n",
       "\n",
       "[5 rows x 784 columns]"
      ]
     },
     "execution_count": 14,
     "metadata": {},
     "output_type": "execute_result"
    }
   ],
   "source": [
    "X.iloc[0:5,:]"
   ]
  },
  {
   "cell_type": "code",
   "execution_count": 15,
   "metadata": {
    "_uuid": "b6fe345d6f690bffcfbdb2bd1484c56922cb8a78"
   },
   "outputs": [
    {
     "data": {
      "text/plain": [
       "0    1\n",
       "1    0\n",
       "2    1\n",
       "3    4\n",
       "4    0\n",
       "Name: label, dtype: int64"
      ]
     },
     "execution_count": 15,
     "metadata": {},
     "output_type": "execute_result"
    }
   ],
   "source": [
    "y.iloc[0:5]"
   ]
  },
  {
   "cell_type": "code",
   "execution_count": 16,
   "metadata": {
    "_uuid": "015ed5a417dcb5af2d4ade65726e9eeb5db58bc1"
   },
   "outputs": [
    {
     "data": {
      "image/png": "[encoded data removed]",
      "text/plain": [
       "<Figure size 720x432 with 5 Axes>"
      ]
     },
     "metadata": {
      "needs_background": "light"
     },
     "output_type": "display_data"
    }
   ],
   "source": [
    "fig, axs = plt.subplots(1, 5, sharex=True, sharey=True, figsize=(10,6))\n",
    "axs = axs.flatten()\n",
    "for i in range(0,5):\n",
    "    im = X.iloc[i]\n",
    "    im = im.values.reshape(-1,28,28,1)\n",
    "    axs[i].imshow(im[0,:,:,0], cmap=plt.get_cmap('gray'))\n",
    "    axs[i].set_title(y[i])\n",
    "plt.tight_layout()    "
   ]
  },
  {
   "cell_type": "code",
   "execution_count": null,
   "metadata": {
    "_uuid": "ec0b8d7effc2646021d3774443b14051986bccb1"
   },
   "outputs": [],
   "source": []
  },
  {
   "cell_type": "markdown",
   "metadata": {
    "_uuid": "ba4253f25dc25b8e0f8bb6e95669d28d5e253161"
   },
   "source": [
    "### Distribution of labels \n",
    "**(in train set)**"
   ]
  },
  {
   "cell_type": "code",
   "execution_count": 17,
   "metadata": {
    "_uuid": "2bd17d6ddc16abc28916fbffba8d8f1dc85d5889"
   },
   "outputs": [
    {
     "data": {
      "text/plain": [
       "1    4684\n",
       "7    4401\n",
       "3    4351\n",
       "9    4188\n",
       "2    4177\n",
       "6    4137\n",
       "0    4132\n",
       "4    4072\n",
       "8    4063\n",
       "5    3795\n",
       "Name: label, dtype: int64"
      ]
     },
     "execution_count": 17,
     "metadata": {},
     "output_type": "execute_result"
    }
   ],
   "source": [
    "y.value_counts()"
   ]
  },
  {
   "cell_type": "code",
   "execution_count": 18,
   "metadata": {
    "_uuid": "1d6341bf5524ea7fb274360332ad5823c4982fd0"
   },
   "outputs": [
    {
     "data": {
      "image/png": "[encoded data removed]",
      "text/plain": [
       "<Figure size 576x360 with 1 Axes>"
      ]
     },
     "metadata": {
      "needs_background": "light"
     },
     "output_type": "display_data"
    }
   ],
   "source": [
    "fig, ax = plt.subplots(figsize=(8,5))\n",
    "g = sns.countplot(y)"
   ]
  },
  {
   "cell_type": "markdown",
   "metadata": {
    "_uuid": "49a93e3fb04db8f2bdf2cc3571025becfabf0c5a"
   },
   "source": [
    "### Check some images"
   ]
  },
  {
   "cell_type": "markdown",
   "metadata": {
    "_uuid": "1b37d40c34f0764b5b380a387b85c0e375c7ca33"
   },
   "source": [
    "**get indexes of first 10 occurences for each number**"
   ]
  },
  {
   "cell_type": "code",
   "execution_count": 19,
   "metadata": {
    "_uuid": "2ca8bc2ba4dbce27182114deb56570021b978320"
   },
   "outputs": [],
   "source": [
    "li_idxs = []\n",
    "for i in range(10):\n",
    "    for nr in range(10):\n",
    "        ix = y[y==nr].index[i]\n",
    "        li_idxs.append(ix) "
   ]
  },
  {
   "cell_type": "markdown",
   "metadata": {
    "_uuid": "fc04c8a1b0483378d761d1f750e4543d33136638"
   },
   "source": [
    "### first 10 image samples for each digit"
   ]
  },
  {
   "cell_type": "code",
   "execution_count": 20,
   "metadata": {
    "_uuid": "248fd67a691c82e7cb152b84e4d0d85514c22856"
   },
   "outputs": [
    {
     "data": {
      "image/png": "[encoded data removed]",
      "text/plain": [
       "<Figure size 720x864 with 100 Axes>"
      ]
     },
     "metadata": {
      "needs_background": "light"
     },
     "output_type": "display_data"
    }
   ],
   "source": [
    "fig, axs = plt.subplots(10, 10, sharex=True, sharey=True, figsize=(10,12))\n",
    "axs = axs.flatten()\n",
    "for n, i in enumerate(li_idxs):\n",
    "    im = X.iloc[i]\n",
    "    im = im.values.reshape(-1,28,28,1)\n",
    "    axs[n].imshow(im[0,:,:,0], cmap=plt.get_cmap('gray'))\n",
    "    axs[n].set_title(y[i])\n",
    "plt.tight_layout()    "
   ]
  },
  {
   "cell_type": "markdown",
   "metadata": {
    "_uuid": "38b7b8cdbd0f70e3829e42ae638811c696e6579b"
   },
   "source": [
    "### **Conclusions on EDA**"
   ]
  },
  {
   "cell_type": "markdown",
   "metadata": {
    "_uuid": "c7b46c80bd0cc204f81dcb993aa9bd00bfa214f7"
   },
   "source": [
    "1. **We can see that there is a lot of variety in the look of the numbers**  \n",
    "2. **The digits are obviously written by many different people**\n",
    "3. **And it seems that there might be difficulties identifying some of the digits correctly also for humans:**\n",
    "\n",
    "\n"
   ]
  },
  {
   "cell_type": "markdown",
   "metadata": {
    "_uuid": "cd5d6a3309f095b03b1247157793d10a92f99c82"
   },
   "source": [
    "* The 6s in row 0 1 and 6 look close to a 4  \n",
    "* The 5 in row 1 looks close to a 6 and the 5 in row 8 looks close to a 8  \n",
    "* The 4 in row 4 is wriiten differently as the other 4s and the 4 in row 7 almost looks like a 7  \n",
    "* The 8 in row 8 is wriiten differently as the other 8s  "
   ]
  },
  {
   "cell_type": "markdown",
   "metadata": {
    "_uuid": "d9f9f7fd24e590abaca77f1ffded6c7af50427ea"
   },
   "source": [
    "# Part 2 : Sklearn Classifiers"
   ]
  },
  {
   "cell_type": "code",
   "execution_count": null,
   "metadata": {
    "_uuid": "b8bb8350dbc4f58052cfce448e998b3302690ea1"
   },
   "outputs": [],
   "source": []
  },
  {
   "cell_type": "markdown",
   "metadata": {
    "_uuid": "77ee05aabb4dfd5eb1eceabc1a98b21e020ee2a9"
   },
   "source": [
    "### Perceptron"
   ]
  },
  {
   "cell_type": "code",
   "execution_count": 21,
   "metadata": {},
   "outputs": [],
   "source": [
    "from sklearn.linear_model import Perceptron"
   ]
  },
  {
   "cell_type": "code",
   "execution_count": 19,
   "metadata": {
    "_uuid": "1ae5cd03701f0c0555927f24d469123113a436cd"
   },
   "outputs": [
    {
     "name": "stdout",
     "output_type": "stream",
     "text": [
      "Fitting 5 folds for each of 4 candidates, totalling 20 fits\n"
     ]
    },
    {
     "name": "stderr",
     "output_type": "stream",
     "text": [
      "[Parallel(n_jobs=1)]: Using backend SequentialBackend with 1 concurrent workers.\n",
      "[Parallel(n_jobs=1)]: Done  20 out of  20 | elapsed:  2.2min finished\n"
     ]
    },
    {
     "name": "stdout",
     "output_type": "stream",
     "text": [
      "0.8753\n",
      "{'penalty': 'l1', 'tol': 0.05}\n",
      "Perceptron(alpha=0.0001, class_weight=None, early_stopping=False, eta0=1.0,\n",
      "           fit_intercept=True, max_iter=1000, n_iter_no_change=5, n_jobs=None,\n",
      "           penalty='l1', random_state=0, shuffle=True, tol=0.05,\n",
      "           validation_fraction=0.1, verbose=0, warm_start=False)\n"
     ]
    }
   ],
   "source": [
    "clf_Perceptron = Perceptron(random_state=0)\n",
    "param_grid = { 'penalty': ['l1','l2'], 'tol': [0.05, 0.1] }\n",
    "GridCV_Perceptron = GridSearchCV(clf_Perceptron, param_grid, verbose=1, cv=5)\n",
    "GridCV_Perceptron.fit(X_train,y_train)\n",
    "score_grid_Perceptron = get_best_score(GridCV_Perceptron)"
   ]
  },
  {
   "cell_type": "code",
   "execution_count": 20,
   "metadata": {
    "_uuid": "a837cd6234557015c8326cd281107d2209ca8a40"
   },
   "outputs": [],
   "source": [
    "pred_val_perc = GridCV_Perceptron.predict(X_val)"
   ]
  },
  {
   "cell_type": "code",
   "execution_count": 21,
   "metadata": {
    "_uuid": "e8fcea4c58c1467b7e6f9d1990e4b924180786e2"
   },
   "outputs": [
    {
     "name": "stdout",
     "output_type": "stream",
     "text": [
      "Classification Report\n",
      "              precision    recall  f1-score   support\n",
      "\n",
      "           0       0.95      0.96      0.96       998\n",
      "           1       0.91      0.95      0.93      1127\n",
      "           2       0.91      0.86      0.88       967\n",
      "           3       0.85      0.88      0.87      1060\n",
      "           4       0.90      0.87      0.88       914\n",
      "           5       0.84      0.83      0.84       914\n",
      "           6       0.93      0.95      0.94       951\n",
      "           7       0.84      0.93      0.88      1066\n",
      "           8       0.78      0.82      0.80       995\n",
      "           9       0.90      0.72      0.80      1008\n",
      "\n",
      "    accuracy                           0.88     10000\n",
      "   macro avg       0.88      0.88      0.88     10000\n",
      "weighted avg       0.88      0.88      0.88     10000\n",
      "\n",
      "Accuracy : 0.8787\n"
     ]
    }
   ],
   "source": [
    "acc_perc = print_validation_report(y_val, pred_val_perc)"
   ]
  },
  {
   "cell_type": "code",
   "execution_count": 22,
   "metadata": {
    "_uuid": "8290c219c3d81cb6856231e6360f70a5f65481c9"
   },
   "outputs": [
    {
     "data": {
      "image/png": "[encoded data removed]",
      "text/plain": [
       "<Figure size 576x576 with 1 Axes>"
      ]
     },
     "metadata": {
      "needs_background": "light"
     },
     "output_type": "display_data"
    }
   ],
   "source": [
    "plot_confusion_matrix(y_val, pred_val_perc)"
   ]
  },
  {
   "cell_type": "markdown",
   "metadata": {
    "_uuid": "d0c06780cfac00efcde0a07784785b9b68e55c14"
   },
   "source": [
    "### Logistic Regression"
   ]
  },
  {
   "cell_type": "code",
   "execution_count": 22,
   "metadata": {},
   "outputs": [],
   "source": [
    "from sklearn.linear_model import LogisticRegression"
   ]
  },
  {
   "cell_type": "code",
   "execution_count": 23,
   "metadata": {
    "_uuid": "6509cf8da9e4666006dc7b72f55bb510ef29309c"
   },
   "outputs": [
    {
     "name": "stdout",
     "output_type": "stream",
     "text": [
      "Fitting 5 folds for each of 2 candidates, totalling 10 fits\n"
     ]
    },
    {
     "name": "stderr",
     "output_type": "stream",
     "text": [
      "[Parallel(n_jobs=1)]: Using backend SequentialBackend with 1 concurrent workers.\n",
      "[Parallel(n_jobs=1)]: Done  10 out of  10 | elapsed:  1.2min finished\n"
     ]
    },
    {
     "name": "stdout",
     "output_type": "stream",
     "text": [
      "0.8723\n",
      "{'C': 0.014, 'multi_class': 'multinomial', 'penalty': 'l1', 'solver': 'saga', 'tol': 0.1}\n",
      "LogisticRegression(C=0.014, class_weight=None, dual=False, fit_intercept=True,\n",
      "                   intercept_scaling=1, l1_ratio=None, max_iter=100,\n",
      "                   multi_class='multinomial', n_jobs=None, penalty='l1',\n",
      "                   random_state=0, solver='saga', tol=0.1, verbose=0,\n",
      "                   warm_start=False)\n"
     ]
    }
   ],
   "source": [
    "clf_LR = LogisticRegression(random_state=0)\n",
    "param_grid = {'C': [0.014,0.012], 'multi_class': ['multinomial'],  \n",
    "              'penalty': ['l1'],'solver': ['saga'], 'tol': [0.1] }\n",
    "GridCV_LR = GridSearchCV(clf_LR, param_grid, verbose=1, cv=5)\n",
    "GridCV_LR.fit(X_train,y_train)\n",
    "score_grid_LR = get_best_score(GridCV_LR)"
   ]
  },
  {
   "cell_type": "code",
   "execution_count": 24,
   "metadata": {
    "_uuid": "47ff8a03c200fe2984be94514008591c5ba37c47"
   },
   "outputs": [
    {
     "name": "stdout",
     "output_type": "stream",
     "text": [
      "Classification Report\n",
      "              precision    recall  f1-score   support\n",
      "\n",
      "           0       0.92      0.95      0.94       998\n",
      "           1       0.88      0.98      0.93      1127\n",
      "           2       0.89      0.87      0.88       967\n",
      "           3       0.87      0.84      0.86      1060\n",
      "           4       0.86      0.90      0.88       914\n",
      "           5       0.84      0.79      0.82       914\n",
      "           6       0.90      0.92      0.91       951\n",
      "           7       0.90      0.89      0.89      1066\n",
      "           8       0.89      0.80      0.84       995\n",
      "           9       0.84      0.83      0.83      1008\n",
      "\n",
      "    accuracy                           0.88     10000\n",
      "   macro avg       0.88      0.88      0.88     10000\n",
      "weighted avg       0.88      0.88      0.88     10000\n",
      "\n",
      "Accuracy : 0.8789\n"
     ]
    }
   ],
   "source": [
    "pred_val_lr = GridCV_LR.predict(X_val)\n",
    "acc_lr = print_validation_report(y_val, pred_val_lr)"
   ]
  },
  {
   "cell_type": "code",
   "execution_count": 25,
   "metadata": {
    "_uuid": "ef5fd871318e6d17943399294ac149c5a10680af"
   },
   "outputs": [
    {
     "data": {
      "image/png": "[encoded data removed]",
      "text/plain": [
       "<Figure size 576x576 with 1 Axes>"
      ]
     },
     "metadata": {
      "needs_background": "light"
     },
     "output_type": "display_data"
    }
   ],
   "source": [
    "plot_confusion_matrix(y_val, pred_val_lr)"
   ]
  },
  {
   "cell_type": "code",
   "execution_count": null,
   "metadata": {},
   "outputs": [],
   "source": []
  },
  {
   "cell_type": "markdown",
   "metadata": {},
   "source": [
    "### KNN"
   ]
  },
  {
   "cell_type": "markdown",
   "metadata": {},
   "source": [
    "Using GridSearchCV with KNN takes very long for this dataset.  \n",
    "Therefore I fit the data with one parameter: neighbors = 10  \n",
    "The resulting accuracy is already quite good."
   ]
  },
  {
   "cell_type": "code",
   "execution_count": 26,
   "metadata": {},
   "outputs": [
    {
     "data": {
      "text/plain": [
       "KNeighborsClassifier(algorithm='auto', leaf_size=30, metric='minkowski',\n",
       "                     metric_params=None, n_jobs=None, n_neighbors=10, p=2,\n",
       "                     weights='uniform')"
      ]
     },
     "execution_count": 26,
     "metadata": {},
     "output_type": "execute_result"
    }
   ],
   "source": [
    "from sklearn.neighbors import KNeighborsClassifier\n",
    "clf_knn = KNeighborsClassifier(n_neighbors=10)\n",
    "clf_knn.fit(X_train,y_train)"
   ]
  },
  {
   "cell_type": "code",
   "execution_count": 27,
   "metadata": {},
   "outputs": [
    {
     "name": "stdout",
     "output_type": "stream",
     "text": [
      "Classification Report\n",
      "              precision    recall  f1-score   support\n",
      "\n",
      "           0       0.97      0.99      0.98       998\n",
      "           1       0.93      1.00      0.96      1127\n",
      "           2       0.98      0.95      0.97       967\n",
      "           3       0.97      0.96      0.97      1060\n",
      "           4       0.98      0.96      0.97       914\n",
      "           5       0.96      0.96      0.96       914\n",
      "           6       0.97      0.99      0.98       951\n",
      "           7       0.95      0.97      0.96      1066\n",
      "           8       0.99      0.92      0.95       995\n",
      "           9       0.95      0.94      0.94      1008\n",
      "\n",
      "    accuracy                           0.96     10000\n",
      "   macro avg       0.97      0.96      0.96     10000\n",
      "weighted avg       0.96      0.96      0.96     10000\n",
      "\n",
      "Accuracy : 0.9638\n"
     ]
    }
   ],
   "source": [
    "pred_val_knn = clf_knn.predict(X_val)\n",
    "acc_knn = print_validation_report(y_val, pred_val_knn)"
   ]
  },
  {
   "cell_type": "code",
   "execution_count": 28,
   "metadata": {},
   "outputs": [
    {
     "data": {
      "image/png": "[encoded data removed]",
      "text/plain": [
       "<Figure size 576x576 with 1 Axes>"
      ]
     },
     "metadata": {
      "needs_background": "light"
     },
     "output_type": "display_data"
    }
   ],
   "source": [
    "plot_confusion_matrix(y_val, pred_val_knn)"
   ]
  },
  {
   "cell_type": "markdown",
   "metadata": {
    "_uuid": "716f78e7643e6ec7053c036588f2d93a85ac6d46"
   },
   "source": [
    "### Multi Layer Perceptron"
   ]
  },
  {
   "cell_type": "code",
   "execution_count": 29,
   "metadata": {
    "_uuid": "3658d5421e64553a02fa77736f671dd96adce9e5"
   },
   "outputs": [],
   "source": [
    "batchsize = int(nr_samples/15) "
   ]
  },
  {
   "cell_type": "code",
   "execution_count": 30,
   "metadata": {
    "_uuid": "e15b9d68379a260c295e8b957669d3440af34a48"
   },
   "outputs": [
    {
     "name": "stdout",
     "output_type": "stream",
     "text": [
      "Fitting 3 folds for each of 2 candidates, totalling 6 fits\n"
     ]
    },
    {
     "name": "stderr",
     "output_type": "stream",
     "text": [
      "[Parallel(n_jobs=1)]: Using backend SequentialBackend with 1 concurrent workers.\n",
      "[Parallel(n_jobs=1)]: Done   6 out of   6 | elapsed: 21.5min finished\n"
     ]
    },
    {
     "name": "stdout",
     "output_type": "stream",
     "text": [
      "0.9497\n",
      "{'alpha': 0.0001, 'batch_size': 2000, 'learning_rate_init': 0.06, 'max_iter': 600, 'solver': 'sgd', 'tol': 0.0001}\n",
      "MLPClassifier(activation='logistic', alpha=0.0001, batch_size=2000, beta_1=0.9,\n",
      "              beta_2=0.999, early_stopping=False, epsilon=1e-08,\n",
      "              hidden_layer_sizes=(200,), learning_rate='constant',\n",
      "              learning_rate_init=0.06, max_iter=600, momentum=0.9,\n",
      "              n_iter_no_change=10, nesterovs_momentum=True, power_t=0.5,\n",
      "              random_state=0, shuffle=True, solver='sgd', tol=0.0001,\n",
      "              validation_fraction=0.1, verbose=False, warm_start=False)\n"
     ]
    }
   ],
   "source": [
    "from sklearn.neural_network import MLPClassifier\n",
    "\n",
    "clf_mlp = MLPClassifier(activation = \"logistic\", hidden_layer_sizes=(200,), random_state=0)\n",
    "param_grid = { 'batch_size' : [batchsize] , 'max_iter': [600], 'alpha': [1e-4], \n",
    "               'solver': ['sgd'], 'learning_rate_init': [0.05,0.06],'tol': [1e-4] }\n",
    "    \n",
    "'''\n",
    "    Key Point : You can use sklearn's GridSearchCV object with Keras estimators and MLP from sklearn too!!\n",
    "'''\n",
    "GridCV_MLP = GridSearchCV(clf_mlp, param_grid, verbose=1, cv=3)\n",
    "\n",
    "GridCV_MLP.fit(X_train,y_train)\n",
    "\n",
    "score_grid_MLP = get_best_score(GridCV_MLP)   "
   ]
  },
  {
   "cell_type": "code",
   "execution_count": 23,
   "metadata": {},
   "outputs": [
    {
     "name": "stderr",
     "output_type": "stream",
     "text": [
      "UsageError: %%time is a cell magic, but the cell body is empty. Did you mean the line magic %time (single %)?\n"
     ]
    }
   ],
   "source": [
    "%%time"
   ]
  },
  {
   "cell_type": "code",
   "execution_count": 31,
   "metadata": {
    "_uuid": "4ee434b45062ad02a390b2166cc5965b832eca45"
   },
   "outputs": [
    {
     "data": {
      "image/png": "[encoded data removed]",
      "text/plain": [
       "<Figure size 432x216 with 1 Axes>"
      ]
     },
     "metadata": {
      "needs_background": "light"
     },
     "output_type": "display_data"
    }
   ],
   "source": [
    "fig, ax = plt.subplots(figsize=(6,3))\n",
    "ax.plot(GridCV_MLP.best_estimator_.loss_curve_)\n",
    "\n",
    "plt.xlabel(\"number of steps\") \n",
    "plt.ylabel(\"Loss During GD\")\n",
    "plt.title(\"loss function\")\n",
    "plt.show()"
   ]
  },
  {
   "cell_type": "code",
   "execution_count": 32,
   "metadata": {
    "_uuid": "f459f1891db4014d53e8b3095b194257c67a35fe"
   },
   "outputs": [],
   "source": [
    "pred_val_mlp = GridCV_MLP.predict(X_val)"
   ]
  },
  {
   "cell_type": "code",
   "execution_count": 33,
   "metadata": {
    "_uuid": "b7d06686ac5bfe2d4564f340bb2e65fba84c91ef"
   },
   "outputs": [
    {
     "name": "stdout",
     "output_type": "stream",
     "text": [
      "Classification Report\n",
      "              precision    recall  f1-score   support\n",
      "\n",
      "           0       0.98      0.98      0.98       998\n",
      "           1       0.98      0.99      0.98      1127\n",
      "           2       0.98      0.97      0.98       967\n",
      "           3       0.97      0.97      0.97      1060\n",
      "           4       0.97      0.97      0.97       914\n",
      "           5       0.97      0.96      0.97       914\n",
      "           6       0.97      0.98      0.98       951\n",
      "           7       0.97      0.97      0.97      1066\n",
      "           8       0.97      0.97      0.97       995\n",
      "           9       0.96      0.95      0.95      1008\n",
      "\n",
      "    accuracy                           0.97     10000\n",
      "   macro avg       0.97      0.97      0.97     10000\n",
      "weighted avg       0.97      0.97      0.97     10000\n",
      "\n",
      "Accuracy : 0.9723\n"
     ]
    }
   ],
   "source": [
    "acc_mlp = print_validation_report(y_val, pred_val_mlp)"
   ]
  },
  {
   "cell_type": "code",
   "execution_count": 34,
   "metadata": {
    "_uuid": "a535848bbfce597e6d669765a96ca51e42983338"
   },
   "outputs": [
    {
     "data": {
      "image/png": "[encoded data removed]",
      "text/plain": [
       "<Figure size 576x576 with 1 Axes>"
      ]
     },
     "metadata": {
      "needs_background": "light"
     },
     "output_type": "display_data"
    }
   ],
   "source": [
    "plot_confusion_matrix(y_val, pred_val_mlp)"
   ]
  },
  {
   "cell_type": "markdown",
   "metadata": {
    "_uuid": "143c1fb5c6bc3717dc777320e3f7dcce7d4c0ac3"
   },
   "source": [
    "# Part 3: NN Classifiers with Keras"
   ]
  },
  {
   "cell_type": "code",
   "execution_count": 23,
   "metadata": {
    "_uuid": "470be43f625218e38f19c27bb36e8b05f3e12eef"
   },
   "outputs": [],
   "source": [
    "# Function to one-hot encode the class labels.\n",
    "y_train = to_categorical(y_train, 10)\n",
    "y_val_10 = to_categorical(y_val, 10)"
   ]
  },
  {
   "cell_type": "code",
   "execution_count": 24,
   "metadata": {},
   "outputs": [
    {
     "data": {
      "text/plain": [
       "array([[0., 1., 0., ..., 0., 0., 0.],\n",
       "       [1., 0., 0., ..., 0., 0., 0.],\n",
       "       [0., 1., 0., ..., 0., 0., 0.],\n",
       "       ...,\n",
       "       [0., 0., 1., ..., 0., 0., 0.],\n",
       "       [0., 0., 0., ..., 0., 0., 0.],\n",
       "       [1., 0., 0., ..., 0., 0., 0.]], dtype=float32)"
      ]
     },
     "execution_count": 24,
     "metadata": {},
     "output_type": "execute_result"
    }
   ],
   "source": [
    "y_train"
   ]
  },
  {
   "cell_type": "markdown",
   "metadata": {
    "_uuid": "16450c1055090761ba1bf1ab7f15f4fbbee6322b"
   },
   "source": [
    "## 3.1 Fully-Connected Neural Networks  \n",
    "dense layers : every node is connected to every other node in the next layer"
   ]
  },
  {
   "cell_type": "markdown",
   "metadata": {
    "_uuid": "3c484e94988c360c58c7b740c84f6cd679a70f9d"
   },
   "source": [
    "### 3.1.1 Keras: only input and output layer"
   ]
  },
  {
   "cell_type": "code",
   "execution_count": 39,
   "metadata": {
    "_uuid": "fc358789c6fbf0c32509647e895fa6d52d2c23d6"
   },
   "outputs": [],
   "source": [
    "def dense_model_0():\n",
    "    model = Sequential()\n",
    "    \n",
    "    model.add(Dense(10, input_dim=784, activation='softmax'))\n",
    "    \n",
    "    model.compile(loss='mae', optimizer='adam', metrics=['accuracy'])\n",
    "    return model"
   ]
  },
  {
   "cell_type": "code",
   "execution_count": 40,
   "metadata": {
    "_uuid": "48a5a62896ef961e959086b8450c3f9212db1302"
   },
   "outputs": [
    {
     "name": "stdout",
     "output_type": "stream",
     "text": [
      "_________________________________________________________________\n",
      "Layer (type)                 Output Shape              Param #   \n",
      "=================================================================\n",
      "dense_3 (Dense)              (None, 10)                7850      \n",
      "=================================================================\n",
      "Total params: 7,850\n",
      "Trainable params: 7,850\n",
      "Non-trainable params: 0\n",
      "_________________________________________________________________\n"
     ]
    }
   ],
   "source": [
    "model_dense_0 = dense_model_0()\n",
    "model_dense_0.summary()"
   ]
  },
  {
   "cell_type": "code",
   "execution_count": 41,
   "metadata": {
    "_kg_hide-output": true,
    "_uuid": "ffacc9b33d66d05f52dd2f45889ebe9b0478ad35",
    "scrolled": true
   },
   "outputs": [
    {
     "name": "stdout",
     "output_type": "stream",
     "text": [
      "Epoch 1/50\n",
      "30000/30000 [==============================] - 1s 46us/step - loss: 0.1725 - acc: 0.1950\n",
      "Epoch 2/50\n",
      "30000/30000 [==============================] - 1s 32us/step - loss: 0.1500 - acc: 0.4467\n",
      "Epoch 3/50\n",
      "30000/30000 [==============================] - 1s 30us/step - loss: 0.1253 - acc: 0.6306\n",
      "Epoch 4/50\n",
      "30000/30000 [==============================] - 1s 29us/step - loss: 0.1019 - acc: 0.7536\n",
      "Epoch 5/50\n",
      "30000/30000 [==============================] - 1s 28us/step - loss: 0.0845 - acc: 0.7899\n",
      "Epoch 6/50\n",
      "30000/30000 [==============================] - 1s 28us/step - loss: 0.0729 - acc: 0.8111\n",
      "Epoch 7/50\n",
      "30000/30000 [==============================] - 1s 27us/step - loss: 0.0650 - acc: 0.8280\n",
      "Epoch 8/50\n",
      "30000/30000 [==============================] - 1s 28us/step - loss: 0.0594 - acc: 0.8388\n",
      "Epoch 9/50\n",
      "30000/30000 [==============================] - 1s 27us/step - loss: 0.0551 - acc: 0.8476\n",
      "Epoch 10/50\n",
      "30000/30000 [==============================] - 1s 27us/step - loss: 0.0517 - acc: 0.8553\n",
      "Epoch 11/50\n",
      "30000/30000 [==============================] - 1s 30us/step - loss: 0.0489 - acc: 0.8618\n",
      "Epoch 12/50\n",
      "30000/30000 [==============================] - 1s 31us/step - loss: 0.0466 - acc: 0.8659\n",
      "Epoch 13/50\n",
      "30000/30000 [==============================] - 1s 31us/step - loss: 0.0447 - acc: 0.8707\n",
      "Epoch 14/50\n",
      "30000/30000 [==============================] - 1s 32us/step - loss: 0.0429 - acc: 0.8740\n",
      "Epoch 15/50\n",
      "30000/30000 [==============================] - 1s 30us/step - loss: 0.0414 - acc: 0.8770\n",
      "Epoch 16/50\n",
      "30000/30000 [==============================] - 1s 29us/step - loss: 0.0401 - acc: 0.8793\n",
      "Epoch 17/50\n",
      "30000/30000 [==============================] - 1s 31us/step - loss: 0.0389 - acc: 0.8818\n",
      "Epoch 18/50\n",
      "30000/30000 [==============================] - 1s 31us/step - loss: 0.0379 - acc: 0.8842\n",
      "Epoch 19/50\n",
      "30000/30000 [==============================] - 1s 32us/step - loss: 0.0369 - acc: 0.8858\n",
      "Epoch 20/50\n",
      "30000/30000 [==============================] - 1s 33us/step - loss: 0.0360 - acc: 0.8878\n",
      "Epoch 21/50\n",
      "30000/30000 [==============================] - 1s 31us/step - loss: 0.0352 - acc: 0.8899\n",
      "Epoch 22/50\n",
      "30000/30000 [==============================] - 1s 33us/step - loss: 0.0344 - acc: 0.8920\n",
      "Epoch 23/50\n",
      "30000/30000 [==============================] - 1s 33us/step - loss: 0.0337 - acc: 0.8929\n",
      "Epoch 24/50\n",
      "30000/30000 [==============================] - 1s 34us/step - loss: 0.0331 - acc: 0.8944\n",
      "Epoch 25/50\n",
      "30000/30000 [==============================] - 1s 33us/step - loss: 0.0325 - acc: 0.8957\n",
      "Epoch 26/50\n",
      "30000/30000 [==============================] - 1s 32us/step - loss: 0.0319 - acc: 0.8969\n",
      "Epoch 27/50\n",
      "30000/30000 [==============================] - 1s 32us/step - loss: 0.0314 - acc: 0.8977\n",
      "Epoch 28/50\n",
      "30000/30000 [==============================] - 1s 31us/step - loss: 0.0309 - acc: 0.8991\n",
      "Epoch 29/50\n",
      "30000/30000 [==============================] - 1s 33us/step - loss: 0.0305 - acc: 0.9001\n",
      "Epoch 30/50\n",
      "30000/30000 [==============================] - 1s 34us/step - loss: 0.0300 - acc: 0.9009\n",
      "Epoch 31/50\n",
      "30000/30000 [==============================] - 1s 34us/step - loss: 0.0296 - acc: 0.9020\n",
      "Epoch 32/50\n",
      "30000/30000 [==============================] - 1s 33us/step - loss: 0.0292 - acc: 0.9026\n",
      "Epoch 33/50\n",
      "30000/30000 [==============================] - 1s 32us/step - loss: 0.0288 - acc: 0.9035\n",
      "Epoch 34/50\n",
      "30000/30000 [==============================] - 1s 33us/step - loss: 0.0285 - acc: 0.9042\n",
      "Epoch 35/50\n",
      "30000/30000 [==============================] - 1s 33us/step - loss: 0.0282 - acc: 0.9051\n",
      "Epoch 36/50\n",
      "30000/30000 [==============================] - 1s 32us/step - loss: 0.0278 - acc: 0.9055\n",
      "Epoch 37/50\n",
      "30000/30000 [==============================] - 1s 31us/step - loss: 0.0275 - acc: 0.9065\n",
      "Epoch 38/50\n",
      "30000/30000 [==============================] - 1s 30us/step - loss: 0.0272 - acc: 0.9067\n",
      "Epoch 39/50\n",
      "30000/30000 [==============================] - 1s 30us/step - loss: 0.0269 - acc: 0.9078\n",
      "Epoch 40/50\n",
      "30000/30000 [==============================] - 1s 31us/step - loss: 0.0267 - acc: 0.9082\n",
      "Epoch 41/50\n",
      "30000/30000 [==============================] - 1s 31us/step - loss: 0.0264 - acc: 0.9087\n",
      "Epoch 42/50\n",
      "30000/30000 [==============================] - 1s 31us/step - loss: 0.0262 - acc: 0.9093\n",
      "Epoch 43/50\n",
      "30000/30000 [==============================] - 1s 31us/step - loss: 0.0259 - acc: 0.9097\n",
      "Epoch 44/50\n",
      "30000/30000 [==============================] - 1s 31us/step - loss: 0.0257 - acc: 0.9104\n",
      "Epoch 45/50\n",
      "30000/30000 [==============================] - 1s 31us/step - loss: 0.0255 - acc: 0.9112\n",
      "Epoch 46/50\n",
      "30000/30000 [==============================] - 1s 31us/step - loss: 0.0252 - acc: 0.9112\n",
      "Epoch 47/50\n",
      "30000/30000 [==============================] - 1s 31us/step - loss: 0.0250 - acc: 0.9123\n",
      "Epoch 48/50\n",
      "30000/30000 [==============================] - 1s 31us/step - loss: 0.0248 - acc: 0.9126\n",
      "Epoch 49/50\n",
      "30000/30000 [==============================] - 1s 31us/step - loss: 0.0246 - acc: 0.9128\n",
      "Epoch 50/50\n",
      "30000/30000 [==============================] - 1s 31us/step - loss: 0.0245 - acc: 0.9137\n",
      "CPU times: user 48.3 s, sys: 3.13 s, total: 51.4 s\n",
      "Wall time: 47.3 s\n"
     ]
    },
    {
     "data": {
      "text/plain": [
       "<keras.callbacks.History at 0x1a35ed75c0>"
      ]
     },
     "execution_count": 41,
     "metadata": {},
     "output_type": "execute_result"
    }
   ],
   "source": [
    "%%time\n",
    "model_dense_0.fit(X_train, y_train, epochs=50, batch_size=batchsize)"
   ]
  },
  {
   "cell_type": "code",
   "execution_count": 42,
   "metadata": {
    "_uuid": "6d6ff3ada3417c10d34f1ededd39767e917981c3"
   },
   "outputs": [],
   "source": [
    "pred_val_dense0 = model_dense_0.predict_classes(X_val)"
   ]
  },
  {
   "cell_type": "code",
   "execution_count": 43,
   "metadata": {
    "_uuid": "f55b909222491635ae3d91fb5b7900bbc2bd1e04"
   },
   "outputs": [
    {
     "name": "stdout",
     "output_type": "stream",
     "text": [
      "Classification Report\n",
      "              precision    recall  f1-score   support\n",
      "\n",
      "           0       0.94      0.97      0.95       998\n",
      "           1       0.94      0.97      0.96      1127\n",
      "           2       0.91      0.88      0.90       967\n",
      "           3       0.92      0.89      0.90      1060\n",
      "           4       0.90      0.93      0.91       914\n",
      "           5       0.90      0.81      0.85       914\n",
      "           6       0.92      0.95      0.94       951\n",
      "           7       0.94      0.92      0.93      1066\n",
      "           8       0.86      0.89      0.88       995\n",
      "           9       0.88      0.89      0.89      1008\n",
      "\n",
      "    accuracy                           0.91     10000\n",
      "   macro avg       0.91      0.91      0.91     10000\n",
      "weighted avg       0.91      0.91      0.91     10000\n",
      "\n",
      "Accuracy : 0.9115\n"
     ]
    }
   ],
   "source": [
    "acc_fc0 = print_validation_report(y_val, pred_val_dense0)"
   ]
  },
  {
   "cell_type": "code",
   "execution_count": 44,
   "metadata": {
    "_uuid": "75140ffcb2a90a14caf9c1c5dd280dca80a12a24"
   },
   "outputs": [
    {
     "data": {
      "image/png": "[encoded data removed]",
      "text/plain": [
       "<Figure size 576x576 with 1 Axes>"
      ]
     },
     "metadata": {
      "needs_background": "light"
     },
     "output_type": "display_data"
    }
   ],
   "source": [
    "plot_confusion_matrix(y_val, pred_val_dense0)"
   ]
  },
  {
   "cell_type": "markdown",
   "metadata": {
    "_uuid": "b01e3e51fba907baa34d4aafbde9f8715b9e201e"
   },
   "source": [
    "### Keras: 1 hidden layer"
   ]
  },
  {
   "cell_type": "code",
   "execution_count": 43,
   "metadata": {
    "_uuid": "73b54c77ec3ec628e4ccf9e6c44754a00b16cfea"
   },
   "outputs": [],
   "source": [
    "def dense_model_1():\n",
    "    model = Sequential()\n",
    "    \n",
    "    model.add(Dense(100, input_dim=784, activation='relu'))\n",
    "    model.add(Dense(10, activation='softmax'))\n",
    "    \n",
    "    model.compile(loss='categorical_crossentropy', optimizer='adam', metrics=['accuracy'])\n",
    "    return model"
   ]
  },
  {
   "cell_type": "code",
   "execution_count": 44,
   "metadata": {
    "_uuid": "a87ca19fa6dc47a415743eb17e42612d2fcfc5de"
   },
   "outputs": [
    {
     "name": "stdout",
     "output_type": "stream",
     "text": [
      "_________________________________________________________________\n",
      "Layer (type)                 Output Shape              Param #   \n",
      "=================================================================\n",
      "dense_2 (Dense)              (None, 100)               78500     \n",
      "_________________________________________________________________\n",
      "dense_3 (Dense)              (None, 10)                1010      \n",
      "=================================================================\n",
      "Total params: 79,510\n",
      "Trainable params: 79,510\n",
      "Non-trainable params: 0\n",
      "_________________________________________________________________\n"
     ]
    }
   ],
   "source": [
    "model_dense_1 = dense_model_1()\n",
    "model_dense_1.summary()"
   ]
  },
  {
   "cell_type": "code",
   "execution_count": 45,
   "metadata": {
    "_kg_hide-output": true,
    "_uuid": "a2587a85de2ebf23a894c8e32fc108dc6e1544fc",
    "scrolled": true
   },
   "outputs": [
    {
     "name": "stdout",
     "output_type": "stream",
     "text": [
      "Train on 30000 samples, validate on 10000 samples\n",
      "Epoch 1/50\n",
      "30000/30000 [==============================] - 1s 50us/step - loss: 1.6463 - acc: 0.5604 - val_loss: 1.0084 - val_acc: 0.7865\n",
      "Epoch 2/50\n",
      "30000/30000 [==============================] - 2s 61us/step - loss: 0.7551 - acc: 0.8230 - val_loss: 0.5534 - val_acc: 0.8593\n",
      "Epoch 3/50\n",
      "30000/30000 [==============================] - 2s 57us/step - loss: 0.4884 - acc: 0.8699 - val_loss: 0.4149 - val_acc: 0.8883\n",
      "Epoch 4/50\n",
      "30000/30000 [==============================] - 1s 46us/step - loss: 0.3922 - acc: 0.8917 - val_loss: 0.3526 - val_acc: 0.9009\n",
      "Epoch 5/50\n",
      "30000/30000 [==============================] - 1s 40us/step - loss: 0.3431 - acc: 0.9056 - val_loss: 0.3164 - val_acc: 0.9114\n",
      "Epoch 6/50\n",
      "30000/30000 [==============================] - 1s 42us/step - loss: 0.3117 - acc: 0.9143 - val_loss: 0.2914 - val_acc: 0.9192\n",
      "Epoch 7/50\n",
      "30000/30000 [==============================] - 1s 42us/step - loss: 0.2887 - acc: 0.9203 - val_loss: 0.2721 - val_acc: 0.9228\n",
      "Epoch 8/50\n",
      "30000/30000 [==============================] - 1s 42us/step - loss: 0.2703 - acc: 0.9248 - val_loss: 0.2573 - val_acc: 0.9278\n",
      "Epoch 9/50\n",
      "30000/30000 [==============================] - 1s 42us/step - loss: 0.2549 - acc: 0.9289 - val_loss: 0.2453 - val_acc: 0.9297\n",
      "Epoch 10/50\n",
      "30000/30000 [==============================] - 1s 42us/step - loss: 0.2415 - acc: 0.9329 - val_loss: 0.2351 - val_acc: 0.9321\n",
      "Epoch 11/50\n",
      "30000/30000 [==============================] - 1s 41us/step - loss: 0.2299 - acc: 0.9368 - val_loss: 0.2248 - val_acc: 0.9367\n",
      "Epoch 12/50\n",
      "30000/30000 [==============================] - 1s 42us/step - loss: 0.2192 - acc: 0.9391 - val_loss: 0.2173 - val_acc: 0.9392\n",
      "Epoch 13/50\n",
      "30000/30000 [==============================] - 1s 41us/step - loss: 0.2094 - acc: 0.9424 - val_loss: 0.2117 - val_acc: 0.9396\n",
      "Epoch 14/50\n",
      "30000/30000 [==============================] - 1s 42us/step - loss: 0.2010 - acc: 0.9442 - val_loss: 0.2021 - val_acc: 0.9441\n",
      "Epoch 15/50\n",
      "30000/30000 [==============================] - 1s 42us/step - loss: 0.1926 - acc: 0.9469 - val_loss: 0.1964 - val_acc: 0.9451\n",
      "Epoch 16/50\n",
      "30000/30000 [==============================] - 1s 42us/step - loss: 0.1849 - acc: 0.9489 - val_loss: 0.1906 - val_acc: 0.9469\n",
      "Epoch 17/50\n",
      "30000/30000 [==============================] - 1s 42us/step - loss: 0.1780 - acc: 0.9513 - val_loss: 0.1862 - val_acc: 0.9469\n",
      "Epoch 18/50\n",
      "30000/30000 [==============================] - 1s 42us/step - loss: 0.1710 - acc: 0.9535 - val_loss: 0.1820 - val_acc: 0.9472\n",
      "Epoch 19/50\n",
      "30000/30000 [==============================] - 1s 41us/step - loss: 0.1653 - acc: 0.9550 - val_loss: 0.1761 - val_acc: 0.9492\n",
      "Epoch 20/50\n",
      "30000/30000 [==============================] - 1s 41us/step - loss: 0.1592 - acc: 0.9566 - val_loss: 0.1712 - val_acc: 0.9512\n",
      "Epoch 21/50\n",
      "30000/30000 [==============================] - 1s 41us/step - loss: 0.1536 - acc: 0.9583 - val_loss: 0.1682 - val_acc: 0.9516\n",
      "Epoch 22/50\n",
      "30000/30000 [==============================] - 1s 43us/step - loss: 0.1488 - acc: 0.9596 - val_loss: 0.1647 - val_acc: 0.9515\n",
      "Epoch 23/50\n",
      "30000/30000 [==============================] - 1s 41us/step - loss: 0.1440 - acc: 0.9608 - val_loss: 0.1607 - val_acc: 0.9535\n",
      "Epoch 24/50\n",
      "30000/30000 [==============================] - 1s 42us/step - loss: 0.1385 - acc: 0.9625 - val_loss: 0.1582 - val_acc: 0.9538\n",
      "Epoch 25/50\n",
      "30000/30000 [==============================] - 1s 42us/step - loss: 0.1343 - acc: 0.9635 - val_loss: 0.1552 - val_acc: 0.9546\n",
      "Epoch 26/50\n",
      "30000/30000 [==============================] - 1s 41us/step - loss: 0.1295 - acc: 0.9651 - val_loss: 0.1532 - val_acc: 0.9563\n",
      "Epoch 27/50\n",
      "30000/30000 [==============================] - 1s 41us/step - loss: 0.1260 - acc: 0.9655 - val_loss: 0.1503 - val_acc: 0.9545\n",
      "Epoch 28/50\n",
      "30000/30000 [==============================] - 1s 41us/step - loss: 0.1219 - acc: 0.9668 - val_loss: 0.1484 - val_acc: 0.9552\n",
      "Epoch 29/50\n",
      "30000/30000 [==============================] - 1s 42us/step - loss: 0.1187 - acc: 0.9681 - val_loss: 0.1457 - val_acc: 0.9570\n",
      "Epoch 30/50\n",
      "30000/30000 [==============================] - 1s 40us/step - loss: 0.1144 - acc: 0.9689 - val_loss: 0.1428 - val_acc: 0.9568\n",
      "Epoch 31/50\n",
      "30000/30000 [==============================] - 1s 42us/step - loss: 0.1112 - acc: 0.9699 - val_loss: 0.1407 - val_acc: 0.9582\n",
      "Epoch 32/50\n",
      "30000/30000 [==============================] - 1s 40us/step - loss: 0.1082 - acc: 0.9708 - val_loss: 0.1393 - val_acc: 0.9580\n",
      "Epoch 33/50\n",
      "30000/30000 [==============================] - 1s 41us/step - loss: 0.1051 - acc: 0.9718 - val_loss: 0.1372 - val_acc: 0.9588\n",
      "Epoch 34/50\n",
      "30000/30000 [==============================] - 1s 42us/step - loss: 0.1019 - acc: 0.9731 - val_loss: 0.1360 - val_acc: 0.9597\n",
      "Epoch 35/50\n",
      "30000/30000 [==============================] - 1s 41us/step - loss: 0.0987 - acc: 0.9743 - val_loss: 0.1346 - val_acc: 0.9595\n",
      "Epoch 36/50\n",
      "30000/30000 [==============================] - 1s 41us/step - loss: 0.0960 - acc: 0.9748 - val_loss: 0.1326 - val_acc: 0.9604\n",
      "Epoch 37/50\n",
      "30000/30000 [==============================] - 1s 41us/step - loss: 0.0931 - acc: 0.9752 - val_loss: 0.1322 - val_acc: 0.9611\n",
      "Epoch 38/50\n",
      "30000/30000 [==============================] - 1s 41us/step - loss: 0.0908 - acc: 0.9763 - val_loss: 0.1310 - val_acc: 0.9599\n",
      "Epoch 39/50\n",
      "30000/30000 [==============================] - 1s 41us/step - loss: 0.0892 - acc: 0.9767 - val_loss: 0.1295 - val_acc: 0.9605\n",
      "Epoch 40/50\n",
      "30000/30000 [==============================] - 1s 40us/step - loss: 0.0864 - acc: 0.9778 - val_loss: 0.1277 - val_acc: 0.9612\n",
      "Epoch 41/50\n",
      "30000/30000 [==============================] - 1s 41us/step - loss: 0.0836 - acc: 0.9784 - val_loss: 0.1257 - val_acc: 0.9620\n",
      "Epoch 42/50\n",
      "30000/30000 [==============================] - 1s 40us/step - loss: 0.0813 - acc: 0.9791 - val_loss: 0.1250 - val_acc: 0.9619\n",
      "Epoch 43/50\n",
      "30000/30000 [==============================] - 1s 40us/step - loss: 0.0787 - acc: 0.9798 - val_loss: 0.1244 - val_acc: 0.9617\n",
      "Epoch 44/50\n",
      "30000/30000 [==============================] - 1s 40us/step - loss: 0.0767 - acc: 0.9803 - val_loss: 0.1239 - val_acc: 0.9626\n",
      "Epoch 45/50\n",
      "30000/30000 [==============================] - 1s 41us/step - loss: 0.0753 - acc: 0.9809 - val_loss: 0.1227 - val_acc: 0.9630\n",
      "Epoch 46/50\n",
      "30000/30000 [==============================] - 1s 41us/step - loss: 0.0734 - acc: 0.9813 - val_loss: 0.1234 - val_acc: 0.9625\n",
      "Epoch 47/50\n",
      "30000/30000 [==============================] - 1s 40us/step - loss: 0.0715 - acc: 0.9821 - val_loss: 0.1209 - val_acc: 0.9634\n",
      "Epoch 48/50\n",
      "30000/30000 [==============================] - 1s 40us/step - loss: 0.0698 - acc: 0.9827 - val_loss: 0.1200 - val_acc: 0.9636\n",
      "Epoch 49/50\n",
      "30000/30000 [==============================] - 1s 41us/step - loss: 0.0676 - acc: 0.9831 - val_loss: 0.1197 - val_acc: 0.9631\n",
      "Epoch 50/50\n",
      "30000/30000 [==============================] - 1s 40us/step - loss: 0.0656 - acc: 0.9834 - val_loss: 0.1187 - val_acc: 0.9625\n"
     ]
    }
   ],
   "source": [
    "history_dense_1 = model_dense_1.fit(X_train, y_train, validation_data=(X_val,y_val_10), \n",
    "                                    epochs=50, batch_size=batchsize)"
   ]
  },
  {
   "cell_type": "code",
   "execution_count": 46,
   "metadata": {
    "_uuid": "4d359f79d899cb8c42cd5c39d045846bfbc233c6"
   },
   "outputs": [
    {
     "data": {
      "image/png": "[encoded data removed]",
      "text/plain": [
       "<Figure size 864x288 with 2 Axes>"
      ]
     },
     "metadata": {
      "needs_background": "light"
     },
     "output_type": "display_data"
    }
   ],
   "source": [
    "plot_history_loss_and_acc(history_dense_1)"
   ]
  },
  {
   "cell_type": "code",
   "execution_count": 47,
   "metadata": {
    "_uuid": "5c90f70cc1503464de85adf5a93393e2e69ea687"
   },
   "outputs": [
    {
     "name": "stdout",
     "output_type": "stream",
     "text": [
      "              precision    recall  f1-score   support\n",
      "\n",
      "           0       0.98      0.97      0.97       998\n",
      "           1       0.97      0.99      0.98      1127\n",
      "           2       0.96      0.96      0.96       967\n",
      "           3       0.97      0.95      0.96      1060\n",
      "           4       0.96      0.95      0.96       914\n",
      "           5       0.95      0.96      0.96       914\n",
      "           6       0.96      0.97      0.97       951\n",
      "           7       0.96      0.98      0.97      1066\n",
      "           8       0.96      0.96      0.96       995\n",
      "           9       0.95      0.92      0.93      1008\n",
      "\n",
      "    accuracy                           0.96     10000\n",
      "   macro avg       0.96      0.96      0.96     10000\n",
      "weighted avg       0.96      0.96      0.96     10000\n",
      "\n",
      "0.9625\n"
     ]
    },
    {
     "data": {
      "image/png": "[encoded data removed]",
      "text/plain": [
       "<Figure size 576x576 with 1 Axes>"
      ]
     },
     "metadata": {
      "needs_background": "light"
     },
     "output_type": "display_data"
    }
   ],
   "source": [
    "pred_val_dense1 = model_dense_1.predict_classes(X_val)\n",
    "plot_confusion_matrix(y_val, pred_val_dense1)\n",
    "print(classification_report(y_val, pred_val_dense1))\n",
    "acc_fc1 = accuracy_score(y_val, pred_val_dense1)\n",
    "print(acc_fc1)"
   ]
  },
  {
   "cell_type": "code",
   "execution_count": null,
   "metadata": {
    "_uuid": "7e1eab41f877a4589e58bb668f7e421d9240f352"
   },
   "outputs": [],
   "source": []
  },
  {
   "cell_type": "markdown",
   "metadata": {
    "_uuid": "811d096ef0c9ff6a9f43dd6efd456999cb3bc1a6"
   },
   "source": [
    "### Keras: 2 hidden layers"
   ]
  },
  {
   "cell_type": "code",
   "execution_count": 48,
   "metadata": {
    "_uuid": "77cad84ecaf24475533a22c046ff7530da157337"
   },
   "outputs": [],
   "source": [
    "def dense_model_2():\n",
    "    model = Sequential()\n",
    "    \n",
    "    model.add(Dense(100, input_dim=784, activation='relu'))\n",
    "    model.add(Dense(200, activation='relu'))\n",
    "    model.add(Dense(10, activation='softmax'))\n",
    "    \n",
    "    model.compile(loss='categorical_crossentropy', optimizer='adam', metrics=['accuracy'])\n",
    "    return model"
   ]
  },
  {
   "cell_type": "code",
   "execution_count": 49,
   "metadata": {
    "_uuid": "576a5bc338ac468bb363a0f0d3c9a153cd0c733e"
   },
   "outputs": [
    {
     "name": "stdout",
     "output_type": "stream",
     "text": [
      "_________________________________________________________________\n",
      "Layer (type)                 Output Shape              Param #   \n",
      "=================================================================\n",
      "dense_4 (Dense)              (None, 100)               78500     \n",
      "_________________________________________________________________\n",
      "dense_5 (Dense)              (None, 200)               20200     \n",
      "_________________________________________________________________\n",
      "dense_6 (Dense)              (None, 10)                2010      \n",
      "=================================================================\n",
      "Total params: 100,710\n",
      "Trainable params: 100,710\n",
      "Non-trainable params: 0\n",
      "_________________________________________________________________\n"
     ]
    }
   ],
   "source": [
    "model_dense_2 = dense_model_2()\n",
    "model_dense_2.summary()"
   ]
  },
  {
   "cell_type": "code",
   "execution_count": 50,
   "metadata": {
    "_kg_hide-output": true,
    "_uuid": "8647769ac840d15de38114d9820586277591b2f1",
    "scrolled": true
   },
   "outputs": [
    {
     "name": "stdout",
     "output_type": "stream",
     "text": [
      "Train on 30000 samples, validate on 10000 samples\n",
      "Epoch 1/50\n",
      "30000/30000 [==============================] - 2s 55us/step - loss: 1.6675 - acc: 0.5887 - val_loss: 0.9006 - val_acc: 0.7974\n",
      "Epoch 2/50\n",
      "30000/30000 [==============================] - 1s 42us/step - loss: 0.6033 - acc: 0.8450 - val_loss: 0.4132 - val_acc: 0.8842\n",
      "Epoch 3/50\n",
      "30000/30000 [==============================] - 1s 42us/step - loss: 0.3736 - acc: 0.8925 - val_loss: 0.3163 - val_acc: 0.9095\n",
      "Epoch 4/50\n",
      "30000/30000 [==============================] - 1s 42us/step - loss: 0.3076 - acc: 0.9112 - val_loss: 0.2751 - val_acc: 0.9202\n",
      "Epoch 5/50\n",
      "30000/30000 [==============================] - 1s 42us/step - loss: 0.2694 - acc: 0.9218 - val_loss: 0.2518 - val_acc: 0.9272\n",
      "Epoch 6/50\n",
      "30000/30000 [==============================] - 1s 46us/step - loss: 0.2426 - acc: 0.9306 - val_loss: 0.2315 - val_acc: 0.9331\n",
      "Epoch 7/50\n",
      "30000/30000 [==============================] - 1s 48us/step - loss: 0.2235 - acc: 0.9357 - val_loss: 0.2192 - val_acc: 0.9362\n",
      "Epoch 8/50\n",
      "30000/30000 [==============================] - 2s 56us/step - loss: 0.2061 - acc: 0.9404 - val_loss: 0.2009 - val_acc: 0.9426\n",
      "Epoch 9/50\n",
      "30000/30000 [==============================] - 2s 65us/step - loss: 0.1871 - acc: 0.9463 - val_loss: 0.1880 - val_acc: 0.9476\n",
      "Epoch 10/50\n",
      "30000/30000 [==============================] - 1s 46us/step - loss: 0.1722 - acc: 0.9504 - val_loss: 0.1773 - val_acc: 0.9505\n",
      "Epoch 11/50\n",
      "30000/30000 [==============================] - 1s 49us/step - loss: 0.1592 - acc: 0.9544 - val_loss: 0.1685 - val_acc: 0.9524\n",
      "Epoch 12/50\n",
      "30000/30000 [==============================] - 2s 53us/step - loss: 0.1484 - acc: 0.9575 - val_loss: 0.1645 - val_acc: 0.9519\n",
      "Epoch 13/50\n",
      "30000/30000 [==============================] - 2s 55us/step - loss: 0.1381 - acc: 0.9611 - val_loss: 0.1530 - val_acc: 0.9553\n",
      "Epoch 14/50\n",
      "30000/30000 [==============================] - 2s 58us/step - loss: 0.1283 - acc: 0.9652 - val_loss: 0.1498 - val_acc: 0.9573\n",
      "Epoch 15/50\n",
      "30000/30000 [==============================] - 2s 56us/step - loss: 0.1196 - acc: 0.9670 - val_loss: 0.1420 - val_acc: 0.9591\n",
      "Epoch 16/50\n",
      "30000/30000 [==============================] - 1s 46us/step - loss: 0.1130 - acc: 0.9687 - val_loss: 0.1391 - val_acc: 0.9582\n",
      "Epoch 17/50\n",
      "30000/30000 [==============================] - 1s 43us/step - loss: 0.1066 - acc: 0.9714 - val_loss: 0.1387 - val_acc: 0.9586\n",
      "Epoch 18/50\n",
      "30000/30000 [==============================] - 1s 42us/step - loss: 0.1007 - acc: 0.9722 - val_loss: 0.1310 - val_acc: 0.9611\n",
      "Epoch 19/50\n",
      "30000/30000 [==============================] - 1s 42us/step - loss: 0.0949 - acc: 0.9741 - val_loss: 0.1286 - val_acc: 0.9623\n",
      "Epoch 20/50\n",
      "30000/30000 [==============================] - 1s 42us/step - loss: 0.0900 - acc: 0.9751 - val_loss: 0.1255 - val_acc: 0.9616\n",
      "Epoch 21/50\n",
      "30000/30000 [==============================] - 1s 41us/step - loss: 0.0834 - acc: 0.9774 - val_loss: 0.1248 - val_acc: 0.9623\n",
      "Epoch 22/50\n",
      "30000/30000 [==============================] - 1s 41us/step - loss: 0.0777 - acc: 0.9795 - val_loss: 0.1203 - val_acc: 0.9640\n",
      "Epoch 23/50\n",
      "30000/30000 [==============================] - 1s 41us/step - loss: 0.0742 - acc: 0.9799 - val_loss: 0.1203 - val_acc: 0.9644\n",
      "Epoch 24/50\n",
      "30000/30000 [==============================] - 1s 41us/step - loss: 0.0702 - acc: 0.9811 - val_loss: 0.1171 - val_acc: 0.9636\n",
      "Epoch 25/50\n",
      "30000/30000 [==============================] - 1s 41us/step - loss: 0.0661 - acc: 0.9828 - val_loss: 0.1158 - val_acc: 0.9639\n",
      "Epoch 26/50\n",
      "30000/30000 [==============================] - 1s 41us/step - loss: 0.0632 - acc: 0.9822 - val_loss: 0.1157 - val_acc: 0.9642\n",
      "Epoch 27/50\n",
      "30000/30000 [==============================] - 1s 41us/step - loss: 0.0595 - acc: 0.9844 - val_loss: 0.1151 - val_acc: 0.9629\n",
      "Epoch 28/50\n",
      "30000/30000 [==============================] - 1s 41us/step - loss: 0.0573 - acc: 0.9844 - val_loss: 0.1119 - val_acc: 0.9648\n",
      "Epoch 29/50\n",
      "30000/30000 [==============================] - 1s 41us/step - loss: 0.0530 - acc: 0.9857 - val_loss: 0.1137 - val_acc: 0.9653\n",
      "Epoch 30/50\n",
      "30000/30000 [==============================] - 1s 41us/step - loss: 0.0497 - acc: 0.9873 - val_loss: 0.1107 - val_acc: 0.9652\n",
      "Epoch 31/50\n",
      "30000/30000 [==============================] - 1s 41us/step - loss: 0.0482 - acc: 0.9872 - val_loss: 0.1101 - val_acc: 0.9662\n",
      "Epoch 32/50\n",
      "30000/30000 [==============================] - 1s 41us/step - loss: 0.0448 - acc: 0.9893 - val_loss: 0.1110 - val_acc: 0.9665\n",
      "Epoch 33/50\n",
      "30000/30000 [==============================] - 1s 41us/step - loss: 0.0424 - acc: 0.9893 - val_loss: 0.1102 - val_acc: 0.9653\n",
      "Epoch 34/50\n",
      "30000/30000 [==============================] - 1s 41us/step - loss: 0.0403 - acc: 0.9900 - val_loss: 0.1081 - val_acc: 0.9666\n",
      "Epoch 35/50\n",
      "30000/30000 [==============================] - 1s 41us/step - loss: 0.0382 - acc: 0.9910 - val_loss: 0.1117 - val_acc: 0.9672\n",
      "Epoch 36/50\n",
      "30000/30000 [==============================] - 1s 41us/step - loss: 0.0368 - acc: 0.9907 - val_loss: 0.1111 - val_acc: 0.9674\n",
      "Epoch 37/50\n",
      "30000/30000 [==============================] - 1s 41us/step - loss: 0.0350 - acc: 0.9920 - val_loss: 0.1096 - val_acc: 0.9659\n",
      "Epoch 38/50\n",
      "30000/30000 [==============================] - 1s 40us/step - loss: 0.0332 - acc: 0.9923 - val_loss: 0.1096 - val_acc: 0.9664\n",
      "Epoch 39/50\n",
      "30000/30000 [==============================] - 1s 41us/step - loss: 0.0309 - acc: 0.9936 - val_loss: 0.1072 - val_acc: 0.9669\n",
      "Epoch 40/50\n",
      "30000/30000 [==============================] - 1s 41us/step - loss: 0.0292 - acc: 0.9936 - val_loss: 0.1081 - val_acc: 0.9675\n",
      "Epoch 41/50\n",
      "30000/30000 [==============================] - 1s 41us/step - loss: 0.0280 - acc: 0.9940 - val_loss: 0.1083 - val_acc: 0.9674\n",
      "Epoch 42/50\n",
      "30000/30000 [==============================] - 1s 41us/step - loss: 0.0254 - acc: 0.9956 - val_loss: 0.1075 - val_acc: 0.9674\n",
      "Epoch 43/50\n",
      "30000/30000 [==============================] - 1s 41us/step - loss: 0.0243 - acc: 0.9955 - val_loss: 0.1105 - val_acc: 0.9672\n",
      "Epoch 44/50\n",
      "30000/30000 [==============================] - 1s 41us/step - loss: 0.0231 - acc: 0.9961 - val_loss: 0.1101 - val_acc: 0.9672\n",
      "Epoch 45/50\n",
      "30000/30000 [==============================] - 1s 41us/step - loss: 0.0218 - acc: 0.9963 - val_loss: 0.1107 - val_acc: 0.9671\n",
      "Epoch 46/50\n",
      "30000/30000 [==============================] - 1s 41us/step - loss: 0.0210 - acc: 0.9966 - val_loss: 0.1117 - val_acc: 0.9667\n",
      "Epoch 47/50\n",
      "30000/30000 [==============================] - 1s 41us/step - loss: 0.0201 - acc: 0.9967 - val_loss: 0.1137 - val_acc: 0.9671\n",
      "Epoch 48/50\n",
      "30000/30000 [==============================] - 1s 41us/step - loss: 0.0187 - acc: 0.9974 - val_loss: 0.1128 - val_acc: 0.9671\n",
      "Epoch 49/50\n",
      "30000/30000 [==============================] - 1s 41us/step - loss: 0.0178 - acc: 0.9976 - val_loss: 0.1128 - val_acc: 0.9664\n",
      "Epoch 50/50\n",
      "30000/30000 [==============================] - 1s 41us/step - loss: 0.0168 - acc: 0.9979 - val_loss: 0.1143 - val_acc: 0.9674\n"
     ]
    }
   ],
   "source": [
    "history_dense_2 = model_dense_2.fit(X_train, y_train, validation_data=(X_val,y_val_10), \n",
    "                                    epochs=50, batch_size=batchsize)"
   ]
  },
  {
   "cell_type": "code",
   "execution_count": 51,
   "metadata": {
    "_uuid": "06588fc9807fff9f3052853a356ef705ca33d4ca"
   },
   "outputs": [
    {
     "data": {
      "image/png": "[encoded data removed]",
      "text/plain": [
       "<Figure size 864x288 with 2 Axes>"
      ]
     },
     "metadata": {
      "needs_background": "light"
     },
     "output_type": "display_data"
    }
   ],
   "source": [
    "plot_history_loss_and_acc(history_dense_2)"
   ]
  },
  {
   "cell_type": "code",
   "execution_count": 52,
   "metadata": {
    "_uuid": "8fc16105c3463f70b16ede4ce2baa656ae066f5b"
   },
   "outputs": [
    {
     "name": "stdout",
     "output_type": "stream",
     "text": [
      "              precision    recall  f1-score   support\n",
      "\n",
      "           0       0.98      0.98      0.98       998\n",
      "           1       0.97      0.99      0.98      1127\n",
      "           2       0.97      0.97      0.97       967\n",
      "           3       0.97      0.96      0.96      1060\n",
      "           4       0.96      0.97      0.96       914\n",
      "           5       0.97      0.95      0.96       914\n",
      "           6       0.97      0.98      0.98       951\n",
      "           7       0.96      0.98      0.97      1066\n",
      "           8       0.96      0.96      0.96       995\n",
      "           9       0.96      0.92      0.94      1008\n",
      "\n",
      "    accuracy                           0.97     10000\n",
      "   macro avg       0.97      0.97      0.97     10000\n",
      "weighted avg       0.97      0.97      0.97     10000\n",
      "\n",
      "0.9674\n"
     ]
    },
    {
     "data": {
      "image/png": "[encoded data removed]",
      "text/plain": [
       "<Figure size 576x576 with 1 Axes>"
      ]
     },
     "metadata": {
      "needs_background": "light"
     },
     "output_type": "display_data"
    }
   ],
   "source": [
    "pred_val_dense2 = model_dense_2.predict_classes(X_val)\n",
    "plot_confusion_matrix(y_val, pred_val_dense2)\n",
    "print(classification_report(y_val, pred_val_dense2))\n",
    "acc_fc2 = accuracy_score(y_val, pred_val_dense2)\n",
    "print(acc_fc2)"
   ]
  },
  {
   "cell_type": "code",
   "execution_count": null,
   "metadata": {
    "_uuid": "6114bf8e74a07dd1ee491cec48c4a2108baec72b"
   },
   "outputs": [],
   "source": []
  },
  {
   "cell_type": "markdown",
   "metadata": {
    "_uuid": "df592740e70fa6b82ddd044002ed407016b9fe97"
   },
   "source": [
    "### Keras: 3 hidden layers"
   ]
  },
  {
   "cell_type": "code",
   "execution_count": 53,
   "metadata": {
    "_uuid": "5a7e7c7b7b79894988a3955eefc60a4610dff5a3"
   },
   "outputs": [],
   "source": [
    "def dense_model_3():\n",
    "    \n",
    "    model = Sequential()  \n",
    "    \n",
    "    model.add(Dense(100, activation='relu', input_dim=784))\n",
    "    model.add(Dense(200, activation='relu')) \n",
    "    model.add(Dense(100, activation='relu')) \n",
    "    model.add(Dense(10, activation='softmax'))\n",
    "         \n",
    "    model.compile(loss='categorical_crossentropy', optimizer='adam', metrics=['accuracy'])\n",
    "    \n",
    "    #model.compile(optimizer=RMSprop(lr=0.001),\n",
    "    #         loss='categorical_crossentropy',\n",
    "    #         metrics=['accuracy'])\n",
    "    \n",
    "    return model"
   ]
  },
  {
   "cell_type": "code",
   "execution_count": 54,
   "metadata": {
    "_uuid": "074df37093573fe1d0b82902608c1cdc60f46fbb"
   },
   "outputs": [
    {
     "name": "stdout",
     "output_type": "stream",
     "text": [
      "_________________________________________________________________\n",
      "Layer (type)                 Output Shape              Param #   \n",
      "=================================================================\n",
      "dense_7 (Dense)              (None, 100)               78500     \n",
      "_________________________________________________________________\n",
      "dense_8 (Dense)              (None, 200)               20200     \n",
      "_________________________________________________________________\n",
      "dense_9 (Dense)              (None, 100)               20100     \n",
      "_________________________________________________________________\n",
      "dense_10 (Dense)             (None, 10)                1010      \n",
      "=================================================================\n",
      "Total params: 119,810\n",
      "Trainable params: 119,810\n",
      "Non-trainable params: 0\n",
      "_________________________________________________________________\n"
     ]
    }
   ],
   "source": [
    "model_dense_3 = dense_model_3()\n",
    "model_dense_3.summary()"
   ]
  },
  {
   "cell_type": "code",
   "execution_count": 55,
   "metadata": {
    "_kg_hide-output": true,
    "_uuid": "c84be17854c5a36bdaab946a6e78ad978f6733fa"
   },
   "outputs": [
    {
     "name": "stdout",
     "output_type": "stream",
     "text": [
      "Train on 30000 samples, validate on 10000 samples\n",
      "Epoch 1/50\n",
      "30000/30000 [==============================] - 2s 62us/step - loss: 1.7640 - acc: 0.5433 - val_loss: 0.9144 - val_acc: 0.7981\n",
      "Epoch 2/50\n",
      "30000/30000 [==============================] - 1s 45us/step - loss: 0.5759 - acc: 0.8449 - val_loss: 0.3782 - val_acc: 0.8857\n",
      "Epoch 3/50\n",
      "30000/30000 [==============================] - 1s 45us/step - loss: 0.3393 - acc: 0.8999 - val_loss: 0.2927 - val_acc: 0.9090\n",
      "Epoch 4/50\n",
      "30000/30000 [==============================] - 1s 45us/step - loss: 0.2703 - acc: 0.9212 - val_loss: 0.2416 - val_acc: 0.9267\n",
      "Epoch 5/50\n",
      "30000/30000 [==============================] - 1s 45us/step - loss: 0.2272 - acc: 0.9337 - val_loss: 0.2135 - val_acc: 0.9378\n",
      "Epoch 6/50\n",
      "30000/30000 [==============================] - 1s 45us/step - loss: 0.1984 - acc: 0.9418 - val_loss: 0.1920 - val_acc: 0.9423\n",
      "Epoch 7/50\n",
      "30000/30000 [==============================] - 1s 46us/step - loss: 0.1774 - acc: 0.9481 - val_loss: 0.1763 - val_acc: 0.9465\n",
      "Epoch 8/50\n",
      "30000/30000 [==============================] - 1s 45us/step - loss: 0.1571 - acc: 0.9543 - val_loss: 0.1601 - val_acc: 0.9529\n",
      "Epoch 9/50\n",
      "30000/30000 [==============================] - 1s 45us/step - loss: 0.1409 - acc: 0.9593 - val_loss: 0.1521 - val_acc: 0.9546\n",
      "Epoch 10/50\n",
      "30000/30000 [==============================] - 1s 44us/step - loss: 0.1256 - acc: 0.9637 - val_loss: 0.1439 - val_acc: 0.9577\n",
      "Epoch 11/50\n",
      "30000/30000 [==============================] - 1s 45us/step - loss: 0.1144 - acc: 0.9680 - val_loss: 0.1392 - val_acc: 0.9582\n",
      "Epoch 12/50\n",
      "30000/30000 [==============================] - 1s 45us/step - loss: 0.1043 - acc: 0.9707 - val_loss: 0.1342 - val_acc: 0.9600\n",
      "Epoch 13/50\n",
      "30000/30000 [==============================] - 1s 45us/step - loss: 0.0948 - acc: 0.9740 - val_loss: 0.1287 - val_acc: 0.9617\n",
      "Epoch 14/50\n",
      "30000/30000 [==============================] - 1s 45us/step - loss: 0.0878 - acc: 0.9755 - val_loss: 0.1245 - val_acc: 0.9630\n",
      "Epoch 15/50\n",
      "30000/30000 [==============================] - 1s 46us/step - loss: 0.0819 - acc: 0.9765 - val_loss: 0.1223 - val_acc: 0.9634\n",
      "Epoch 16/50\n",
      "30000/30000 [==============================] - 1s 45us/step - loss: 0.0741 - acc: 0.9796 - val_loss: 0.1180 - val_acc: 0.9649\n",
      "Epoch 17/50\n",
      "30000/30000 [==============================] - 1s 45us/step - loss: 0.0681 - acc: 0.9814 - val_loss: 0.1193 - val_acc: 0.9647\n",
      "Epoch 18/50\n",
      "30000/30000 [==============================] - 1s 45us/step - loss: 0.0629 - acc: 0.9828 - val_loss: 0.1150 - val_acc: 0.9653\n",
      "Epoch 19/50\n",
      "30000/30000 [==============================] - 1s 46us/step - loss: 0.0575 - acc: 0.9854 - val_loss: 0.1162 - val_acc: 0.9644\n",
      "Epoch 20/50\n",
      "30000/30000 [==============================] - 1s 46us/step - loss: 0.0533 - acc: 0.9862 - val_loss: 0.1166 - val_acc: 0.9655\n",
      "Epoch 21/50\n",
      "30000/30000 [==============================] - 1s 45us/step - loss: 0.0505 - acc: 0.9864 - val_loss: 0.1144 - val_acc: 0.9660\n",
      "Epoch 22/50\n",
      "30000/30000 [==============================] - 1s 47us/step - loss: 0.0452 - acc: 0.9885 - val_loss: 0.1155 - val_acc: 0.9659\n",
      "Epoch 23/50\n",
      "30000/30000 [==============================] - 1s 47us/step - loss: 0.0420 - acc: 0.9900 - val_loss: 0.1132 - val_acc: 0.9670\n",
      "Epoch 24/50\n",
      "30000/30000 [==============================] - 1s 47us/step - loss: 0.0373 - acc: 0.9909 - val_loss: 0.1139 - val_acc: 0.9664\n",
      "Epoch 25/50\n",
      "30000/30000 [==============================] - 1s 47us/step - loss: 0.0347 - acc: 0.9913 - val_loss: 0.1142 - val_acc: 0.9656\n",
      "Epoch 26/50\n",
      "30000/30000 [==============================] - 1s 47us/step - loss: 0.0322 - acc: 0.9926 - val_loss: 0.1152 - val_acc: 0.9659\n",
      "Epoch 27/50\n",
      "30000/30000 [==============================] - 1s 47us/step - loss: 0.0294 - acc: 0.9933 - val_loss: 0.1139 - val_acc: 0.9667\n",
      "Epoch 28/50\n",
      "30000/30000 [==============================] - 1s 47us/step - loss: 0.0270 - acc: 0.9941 - val_loss: 0.1153 - val_acc: 0.9668\n",
      "Epoch 29/50\n",
      "30000/30000 [==============================] - 1s 47us/step - loss: 0.0261 - acc: 0.9946 - val_loss: 0.1172 - val_acc: 0.9670\n",
      "Epoch 30/50\n",
      "30000/30000 [==============================] - 1s 47us/step - loss: 0.0259 - acc: 0.9937 - val_loss: 0.1168 - val_acc: 0.9681\n",
      "Epoch 31/50\n",
      "30000/30000 [==============================] - 1s 47us/step - loss: 0.0225 - acc: 0.9955 - val_loss: 0.1167 - val_acc: 0.9675\n",
      "Epoch 32/50\n",
      "30000/30000 [==============================] - 1s 48us/step - loss: 0.0192 - acc: 0.9964 - val_loss: 0.1167 - val_acc: 0.9680\n",
      "Epoch 33/50\n",
      "30000/30000 [==============================] - 1s 47us/step - loss: 0.0171 - acc: 0.9969 - val_loss: 0.1165 - val_acc: 0.9670\n",
      "Epoch 34/50\n",
      "30000/30000 [==============================] - 1s 47us/step - loss: 0.0161 - acc: 0.9975 - val_loss: 0.1173 - val_acc: 0.9671\n",
      "Epoch 35/50\n",
      "30000/30000 [==============================] - 1s 47us/step - loss: 0.0145 - acc: 0.9979 - val_loss: 0.1203 - val_acc: 0.9683\n",
      "Epoch 36/50\n",
      "30000/30000 [==============================] - 1s 46us/step - loss: 0.0142 - acc: 0.9978 - val_loss: 0.1202 - val_acc: 0.9684\n",
      "Epoch 37/50\n",
      "30000/30000 [==============================] - 1s 45us/step - loss: 0.0132 - acc: 0.9983 - val_loss: 0.1199 - val_acc: 0.9672\n",
      "Epoch 38/50\n",
      "30000/30000 [==============================] - 1s 44us/step - loss: 0.0124 - acc: 0.9983 - val_loss: 0.1229 - val_acc: 0.9681\n",
      "Epoch 39/50\n",
      "30000/30000 [==============================] - 1s 45us/step - loss: 0.0111 - acc: 0.9985 - val_loss: 0.1214 - val_acc: 0.9685\n",
      "Epoch 40/50\n",
      "30000/30000 [==============================] - 1s 43us/step - loss: 0.0099 - acc: 0.9992 - val_loss: 0.1252 - val_acc: 0.9669\n",
      "Epoch 41/50\n",
      "30000/30000 [==============================] - 1s 44us/step - loss: 0.0090 - acc: 0.9992 - val_loss: 0.1255 - val_acc: 0.9679\n",
      "Epoch 42/50\n",
      "30000/30000 [==============================] - 1s 44us/step - loss: 0.0082 - acc: 0.9995 - val_loss: 0.1280 - val_acc: 0.9674\n",
      "Epoch 43/50\n",
      "30000/30000 [==============================] - 1s 44us/step - loss: 0.0077 - acc: 0.9994 - val_loss: 0.1250 - val_acc: 0.9684\n",
      "Epoch 44/50\n",
      "30000/30000 [==============================] - 1s 44us/step - loss: 0.0069 - acc: 0.9995 - val_loss: 0.1274 - val_acc: 0.9688\n",
      "Epoch 45/50\n",
      "30000/30000 [==============================] - 1s 44us/step - loss: 0.0068 - acc: 0.9993 - val_loss: 0.1315 - val_acc: 0.9671\n",
      "Epoch 46/50\n",
      "30000/30000 [==============================] - 1s 44us/step - loss: 0.0062 - acc: 0.9997 - val_loss: 0.1273 - val_acc: 0.9693\n",
      "Epoch 47/50\n",
      "30000/30000 [==============================] - 1s 44us/step - loss: 0.0057 - acc: 0.9996 - val_loss: 0.1326 - val_acc: 0.9671\n",
      "Epoch 48/50\n",
      "30000/30000 [==============================] - 1s 44us/step - loss: 0.0057 - acc: 0.9997 - val_loss: 0.1320 - val_acc: 0.9670\n",
      "Epoch 49/50\n",
      "30000/30000 [==============================] - 1s 43us/step - loss: 0.0051 - acc: 0.9997 - val_loss: 0.1316 - val_acc: 0.9677\n",
      "Epoch 50/50\n",
      "30000/30000 [==============================] - 1s 44us/step - loss: 0.0048 - acc: 0.9997 - val_loss: 0.1324 - val_acc: 0.9682\n"
     ]
    }
   ],
   "source": [
    "history_dense_3 = model_dense_3.fit(X_train, y_train, validation_data=(X_val,y_val_10), \n",
    "                                    epochs=50, batch_size=batchsize)"
   ]
  },
  {
   "cell_type": "code",
   "execution_count": 56,
   "metadata": {
    "_uuid": "abcb580d09c4f6df6b592a9eaf8c02306033fe73"
   },
   "outputs": [
    {
     "data": {
      "image/png": "[encoded data removed]",
      "text/plain": [
       "<Figure size 864x288 with 2 Axes>"
      ]
     },
     "metadata": {
      "needs_background": "light"
     },
     "output_type": "display_data"
    }
   ],
   "source": [
    "plot_history_loss_and_acc(history_dense_3)"
   ]
  },
  {
   "cell_type": "code",
   "execution_count": 57,
   "metadata": {
    "_uuid": "15639f762176cbb6d6d1ac69836355491ccb4b9d"
   },
   "outputs": [
    {
     "name": "stdout",
     "output_type": "stream",
     "text": [
      "              precision    recall  f1-score   support\n",
      "\n",
      "           0       0.99      0.97      0.98       998\n",
      "           1       0.98      0.99      0.99      1127\n",
      "           2       0.97      0.97      0.97       967\n",
      "           3       0.97      0.97      0.97      1060\n",
      "           4       0.97      0.96      0.97       914\n",
      "           5       0.95      0.96      0.96       914\n",
      "           6       0.97      0.97      0.97       951\n",
      "           7       0.97      0.97      0.97      1066\n",
      "           8       0.96      0.97      0.96       995\n",
      "           9       0.95      0.94      0.95      1008\n",
      "\n",
      "    accuracy                           0.97     10000\n",
      "   macro avg       0.97      0.97      0.97     10000\n",
      "weighted avg       0.97      0.97      0.97     10000\n",
      "\n",
      "0.9682\n"
     ]
    },
    {
     "data": {
      "image/png": "[encoded data removed]",
      "text/plain": [
       "<Figure size 576x576 with 1 Axes>"
      ]
     },
     "metadata": {
      "needs_background": "light"
     },
     "output_type": "display_data"
    }
   ],
   "source": [
    "pred_val_dense3 = model_dense_3.predict_classes(X_val)\n",
    "plot_confusion_matrix(y_val, pred_val_dense3)\n",
    "print(classification_report(y_val, pred_val_dense3))\n",
    "acc_fc3 = accuracy_score(y_val, pred_val_dense3)\n",
    "print(acc_fc3)"
   ]
  },
  {
   "cell_type": "code",
   "execution_count": null,
   "metadata": {
    "_uuid": "738eaed5f252286a9369896e371683ec42b86813"
   },
   "outputs": [],
   "source": []
  },
  {
   "cell_type": "markdown",
   "metadata": {
    "_uuid": "9a38a7511b03011c453cc5f0f7ba35a77dfb04f0"
   },
   "source": [
    "## 3.2 Keras : Convolutional Neural Networks, CNN"
   ]
  },
  {
   "cell_type": "markdown",
   "metadata": {
    "_uuid": "fe26d5c4ab3661208005e023026c623557df9e13"
   },
   "source": [
    "Convnets:  \n",
    "[Udacity](https://www.youtube.com/watch?v=jajksuQW4mc) "
   ]
  },
  {
   "cell_type": "markdown",
   "metadata": {
    "_uuid": "a5233ad4dea6af705b60075c491ef21cf2bf7403"
   },
   "source": [
    "### **features : reshaping 1d vector to 2d images**\n",
    "\n",
    "(784) --> (28,28,1)"
   ]
  },
  {
   "cell_type": "code",
   "execution_count": 58,
   "metadata": {
    "_uuid": "1f740d4ed4a06f9e1e2a13443e4d4075ccbcccb6"
   },
   "outputs": [
    {
     "data": {
      "text/plain": [
       "(30000, 784)"
      ]
     },
     "execution_count": 58,
     "metadata": {},
     "output_type": "execute_result"
    }
   ],
   "source": [
    "X_train.shape"
   ]
  },
  {
   "cell_type": "code",
   "execution_count": 59,
   "metadata": {
    "_uuid": "1426af50bb6ed93408b9350ebd3acdf98c52bc36"
   },
   "outputs": [],
   "source": [
    "X_train = X_train.values.reshape(X_train.shape[0], img_rows, img_cols, 1)\n",
    "X_val = X_val.values.reshape(X_val.shape[0], img_rows, img_cols, 1)\n",
    "\n",
    "input_shape = (img_rows, img_cols, 1)"
   ]
  },
  {
   "cell_type": "code",
   "execution_count": 60,
   "metadata": {
    "_uuid": "f5b6926f5a25cedfc35862367b608524dad7c05c"
   },
   "outputs": [
    {
     "data": {
      "text/plain": [
       "(30000, 28, 28, 1)"
      ]
     },
     "execution_count": 60,
     "metadata": {},
     "output_type": "execute_result"
    }
   ],
   "source": [
    "X_train.shape"
   ]
  },
  {
   "cell_type": "code",
   "execution_count": 61,
   "metadata": {
    "_uuid": "a76db0b3da04ff3b7358cca60a6eeb155a81a2c3"
   },
   "outputs": [
    {
     "data": {
      "text/plain": [
       "(30000, 10)"
      ]
     },
     "execution_count": 61,
     "metadata": {},
     "output_type": "execute_result"
    }
   ],
   "source": [
    "y_train.shape"
   ]
  },
  {
   "cell_type": "markdown",
   "metadata": {
    "_uuid": "c64474f903a5389ea7c385156076ae532ca73105"
   },
   "source": [
    "## Keras: CNN model 1\n",
    "Conv2D (32, (3, 3))  \n",
    "Conv2D (64, (3, 3))  \n",
    "Pooling2D (2,2)  \n",
    "Dropout (0.25)\n",
    "Flatten  \n",
    "Dense(128, relu)  \n",
    "Dropout (0.5)  \n",
    "Dense(10, softmax)"
   ]
  },
  {
   "cell_type": "code",
   "execution_count": 62,
   "metadata": {
    "_uuid": "4d4074066d9b6f38380dfaded0b43151f75406c8"
   },
   "outputs": [],
   "source": [
    "batchsize = 128\n",
    "epochs = 12"
   ]
  },
  {
   "cell_type": "code",
   "execution_count": 63,
   "metadata": {
    "_uuid": "df839fc323bb17df0815fc012fec140db1689059"
   },
   "outputs": [],
   "source": [
    "activation = 'relu'\n",
    "adadelta = Adadelta()\n",
    "loss = categorical_crossentropy"
   ]
  },
  {
   "cell_type": "code",
   "execution_count": 64,
   "metadata": {
    "_uuid": "ad9d406a087d879d27fcf33dc1a7412beb5044d6"
   },
   "outputs": [],
   "source": [
    "def cnn_model_1(activation):\n",
    "    \n",
    "    model = Sequential()\n",
    "    \n",
    "    model.add(Conv2D(32, kernel_size=(3, 3), activation=activation, input_shape=input_shape)) \n",
    "    \n",
    "    model.add(Conv2D(64, (3, 3), activation=activation))\n",
    "    model.add(MaxPooling2D(pool_size=(2, 2)))\n",
    "    model.add(Dropout(0.25))\n",
    " \n",
    "    model.add(Flatten())\n",
    "\n",
    "    model.add(Dense(128, activation=activation))\n",
    "    model.add(Dropout(0.5))\n",
    "\n",
    "    model.add(Dense(10, activation='softmax'))\n",
    "\n",
    "    model.compile(loss=loss, optimizer=adadelta, metrics=['accuracy'])\n",
    "\n",
    "    return model"
   ]
  },
  {
   "cell_type": "code",
   "execution_count": 65,
   "metadata": {
    "_uuid": "a4a6637f192b18d3fc1b887f88d94398a4dca431"
   },
   "outputs": [
    {
     "name": "stdout",
     "output_type": "stream",
     "text": [
      "WARNING:tensorflow:From //anaconda3/envs/work/lib/python3.6/site-packages/keras/backend/tensorflow_backend.py:3445: calling dropout (from tensorflow.python.ops.nn_ops) with keep_prob is deprecated and will be removed in a future version.\n",
      "Instructions for updating:\n",
      "Please use `rate` instead of `keep_prob`. Rate should be set to `rate = 1 - keep_prob`.\n",
      "_________________________________________________________________\n",
      "Layer (type)                 Output Shape              Param #   \n",
      "=================================================================\n",
      "conv2d_1 (Conv2D)            (None, 26, 26, 32)        320       \n",
      "_________________________________________________________________\n",
      "conv2d_2 (Conv2D)            (None, 24, 24, 64)        18496     \n",
      "_________________________________________________________________\n",
      "max_pooling2d_1 (MaxPooling2 (None, 12, 12, 64)        0         \n",
      "_________________________________________________________________\n",
      "dropout_1 (Dropout)          (None, 12, 12, 64)        0         \n",
      "_________________________________________________________________\n",
      "flatten_1 (Flatten)          (None, 9216)              0         \n",
      "_________________________________________________________________\n",
      "dense_11 (Dense)             (None, 128)               1179776   \n",
      "_________________________________________________________________\n",
      "dropout_2 (Dropout)          (None, 128)               0         \n",
      "_________________________________________________________________\n",
      "dense_12 (Dense)             (None, 10)                1290      \n",
      "=================================================================\n",
      "Total params: 1,199,882\n",
      "Trainable params: 1,199,882\n",
      "Non-trainable params: 0\n",
      "_________________________________________________________________\n"
     ]
    }
   ],
   "source": [
    "model_cnn_1 = cnn_model_1(activation)\n",
    "model_cnn_1.summary()"
   ]
  },
  {
   "cell_type": "code",
   "execution_count": 66,
   "metadata": {
    "_kg_hide-output": true,
    "_uuid": "753a494ae46339d1f9f1973e04cd46dbca3026a9",
    "scrolled": true
   },
   "outputs": [
    {
     "name": "stdout",
     "output_type": "stream",
     "text": [
      "Train on 30000 samples, validate on 10000 samples\n",
      "Epoch 1/12\n",
      "30000/30000 [==============================] - 102s 3ms/step - loss: 0.3864 - acc: 0.8785 - val_loss: 0.0985 - val_acc: 0.9702\n",
      "Epoch 2/12\n",
      "30000/30000 [==============================] - 102s 3ms/step - loss: 0.1204 - acc: 0.9631 - val_loss: 0.0551 - val_acc: 0.9825\n",
      "Epoch 3/12\n",
      "30000/30000 [==============================] - 100s 3ms/step - loss: 0.0845 - acc: 0.9742 - val_loss: 0.0462 - val_acc: 0.9855\n",
      "Epoch 4/12\n",
      "30000/30000 [==============================] - 98s 3ms/step - loss: 0.0690 - acc: 0.9793 - val_loss: 0.0505 - val_acc: 0.9839\n",
      "Epoch 5/12\n",
      "30000/30000 [==============================] - 94s 3ms/step - loss: 0.0569 - acc: 0.9826 - val_loss: 0.0432 - val_acc: 0.9872\n",
      "Epoch 6/12\n",
      "30000/30000 [==============================] - 88s 3ms/step - loss: 0.0501 - acc: 0.9846 - val_loss: 0.0396 - val_acc: 0.9888\n",
      "Epoch 7/12\n",
      "30000/30000 [==============================] - 88s 3ms/step - loss: 0.0460 - acc: 0.9859 - val_loss: 0.0353 - val_acc: 0.9900\n",
      "Epoch 8/12\n",
      "30000/30000 [==============================] - 93s 3ms/step - loss: 0.0415 - acc: 0.9875 - val_loss: 0.0374 - val_acc: 0.9896\n",
      "Epoch 9/12\n",
      "30000/30000 [==============================] - 89s 3ms/step - loss: 0.0392 - acc: 0.9879 - val_loss: 0.0378 - val_acc: 0.9892\n",
      "Epoch 10/12\n",
      "30000/30000 [==============================] - 89s 3ms/step - loss: 0.0317 - acc: 0.9895 - val_loss: 0.0472 - val_acc: 0.9874\n",
      "Epoch 11/12\n",
      "30000/30000 [==============================] - 91s 3ms/step - loss: 0.0302 - acc: 0.9905 - val_loss: 0.0391 - val_acc: 0.9893\n",
      "Epoch 12/12\n",
      "30000/30000 [==============================] - 89s 3ms/step - loss: 0.0276 - acc: 0.9905 - val_loss: 0.0380 - val_acc: 0.9899\n"
     ]
    }
   ],
   "source": [
    "#model_cnn_1.fit(X_train, y_train, batch_size=batchsize, epochs=epochs, verbose=1)\n",
    "history_cnn_1 = model_cnn_1.fit(X_train, y_train, validation_data=(X_val,y_val_10), \n",
    "                                   epochs=epochs, batch_size=batchsize, verbose=1)"
   ]
  },
  {
   "cell_type": "code",
   "execution_count": 67,
   "metadata": {
    "_uuid": "8ba98c29b29be32ee0370797c8ac77366228bb87"
   },
   "outputs": [
    {
     "data": {
      "image/png": "[encoded data removed]",
      "text/plain": [
       "<Figure size 864x288 with 2 Axes>"
      ]
     },
     "metadata": {
      "needs_background": "light"
     },
     "output_type": "display_data"
    }
   ],
   "source": [
    "plot_history_loss_and_acc(history_cnn_1)"
   ]
  },
  {
   "cell_type": "code",
   "execution_count": 68,
   "metadata": {
    "_uuid": "9d31fbbbe5406d375029051c857fc903b101fcf4"
   },
   "outputs": [
    {
     "name": "stdout",
     "output_type": "stream",
     "text": [
      "              precision    recall  f1-score   support\n",
      "\n",
      "           0       0.99      1.00      0.99       998\n",
      "           1       0.99      1.00      1.00      1127\n",
      "           2       0.99      0.99      0.99       967\n",
      "           3       0.99      0.99      0.99      1060\n",
      "           4       0.99      0.99      0.99       914\n",
      "           5       0.99      0.99      0.99       914\n",
      "           6       1.00      0.99      0.99       951\n",
      "           7       0.98      0.99      0.99      1066\n",
      "           8       0.99      0.99      0.99       995\n",
      "           9       0.99      0.97      0.98      1008\n",
      "\n",
      "    accuracy                           0.99     10000\n",
      "   macro avg       0.99      0.99      0.99     10000\n",
      "weighted avg       0.99      0.99      0.99     10000\n",
      "\n",
      "0.9899\n"
     ]
    },
    {
     "data": {
      "image/png": "[encoded data removed]",
      "text/plain": [
       "<Figure size 576x576 with 1 Axes>"
      ]
     },
     "metadata": {
      "needs_background": "light"
     },
     "output_type": "display_data"
    }
   ],
   "source": [
    "pred_val_cnn1 = model_cnn_1.predict_classes(X_val)\n",
    "plot_confusion_matrix(y_val, pred_val_cnn1)\n",
    "print(classification_report(y_val, pred_val_cnn1))\n",
    "acc_cnn1 = accuracy_score(y_val, pred_val_cnn1)\n",
    "print(acc_cnn1)\n"
   ]
  },
  {
   "cell_type": "markdown",
   "metadata": {
    "_uuid": "de19d7786fd1cff44b3122da8bb283b62ba49f16"
   },
   "source": [
    "### Keras: CNN model 2  \n",
    "Conv2D (32, (3, 3))  \n",
    "Pooling2D (2,2)  \n",
    "Conv2D (32, (3, 3))  \n",
    "Pooling2D (2,2)  \n",
    "Flatten  \n",
    "Dense(256, relu)  \n",
    "Dense(10, softmax)  "
   ]
  },
  {
   "cell_type": "code",
   "execution_count": 69,
   "metadata": {
    "_uuid": "7ccfc62ebf08b287f8a49515bcd015f7bc91c4ea"
   },
   "outputs": [],
   "source": [
    "batch_size=90\n",
    "epochs=30\n"
   ]
  },
  {
   "cell_type": "code",
   "execution_count": 70,
   "metadata": {
    "_uuid": "5c79037260e74aba99f1676e64147d83c0357413"
   },
   "outputs": [],
   "source": [
    "'''\n",
    "    Method 1 : Building a model in Keras!!\n",
    "'''\n",
    "def cnn_model_2(optimizer,loss):\n",
    "\n",
    "    model = Sequential()\n",
    "\n",
    "    model.add(Conv2D(32, (3, 3), padding = 'Same', activation=\"relu\", input_shape=input_shape ))\n",
    "    model.add(MaxPooling2D(pool_size = (2, 2)))\n",
    "\n",
    "    model.add(Conv2D(32, (3, 3), activation=\"relu\"))\n",
    "    model.add(MaxPooling2D(pool_size = (2, 2)))\n",
    "\n",
    "    model.add(Flatten())\n",
    "\n",
    "    model.add(Dense(256, activation=activation))\n",
    "    model.add(Dense(10, activation='softmax'))\n",
    "\n",
    "    model.compile(optimizer = optimizer, loss = loss, metrics = ['accuracy']) \n",
    "\n",
    "    return model"
   ]
  },
  {
   "cell_type": "code",
   "execution_count": 130,
   "metadata": {},
   "outputs": [],
   "source": [
    "'''\n",
    "    Method 2 :\n",
    "    Efficient way to build models in Keras!!\n",
    "'''\n",
    "from keras.models import Model\n",
    "from keras.layers import Input\n",
    "\n",
    "\n",
    "def cnn_model_2_efficient(optimizer, loss):\n",
    "    inputs = Input(input_shape)\n",
    "    \n",
    "    x = Conv2D(32, (3,3), padding = 'Same', activation = 'relu')(inputs)\n",
    "    x = MaxPooling2D(pool_size = (2,2))(x)\n",
    "    \n",
    "    x = Conv2D(32, (3,3), activation = 'relu')(x)\n",
    "    x = MaxPooling2D(pool_size = (2,2))(x)\n",
    "    \n",
    "    x = Flatten()(x)  \n",
    "    \n",
    "    x = Dense(256, activation = activation)(x)\n",
    "    outputs = Dense(10, activation = 'softmax')(x)\n",
    "    \n",
    "    model = Model(inputs = inputs, outputs = outputs, name = 'cnn_model_2')\n",
    "    model.compile(optimizer = optimizer, loss = loss, metrics = ['accuracy'])\n",
    "    \n",
    "    return model"
   ]
  },
  {
   "cell_type": "code",
   "execution_count": 131,
   "metadata": {},
   "outputs": [
    {
     "name": "stdout",
     "output_type": "stream",
     "text": [
      "_________________________________________________________________\n",
      "Layer (type)                 Output Shape              Param #   \n",
      "=================================================================\n",
      "input_11 (InputLayer)        (None, 28, 28, 1)         0         \n",
      "_________________________________________________________________\n",
      "conv2d_44 (Conv2D)           (None, 28, 28, 32)        320       \n",
      "_________________________________________________________________\n",
      "max_pooling2d_39 (MaxPooling (None, 14, 14, 32)        0         \n",
      "_________________________________________________________________\n",
      "conv2d_45 (Conv2D)           (None, 12, 12, 32)        9248      \n",
      "_________________________________________________________________\n",
      "max_pooling2d_40 (MaxPooling (None, 6, 6, 32)          0         \n",
      "_________________________________________________________________\n",
      "flatten_22 (Flatten)         (None, 1152)              0         \n",
      "_________________________________________________________________\n",
      "dense_50 (Dense)             (None, 256)               295168    \n",
      "_________________________________________________________________\n",
      "dense_51 (Dense)             (None, 10)                2570      \n",
      "=================================================================\n",
      "Total params: 307,306\n",
      "Trainable params: 307,306\n",
      "Non-trainable params: 0\n",
      "_________________________________________________________________\n"
     ]
    }
   ],
   "source": [
    "model = cnn_model_2_efficient(adadelta, categorical_crossentropy)\n",
    "model.summary()"
   ]
  },
  {
   "cell_type": "code",
   "execution_count": 71,
   "metadata": {
    "_uuid": "118c6e0a388e7ed8ea0d856675a54d71c313276e"
   },
   "outputs": [
    {
     "name": "stdout",
     "output_type": "stream",
     "text": [
      "_________________________________________________________________\n",
      "Layer (type)                 Output Shape              Param #   \n",
      "=================================================================\n",
      "conv2d_3 (Conv2D)            (None, 28, 28, 32)        320       \n",
      "_________________________________________________________________\n",
      "max_pooling2d_2 (MaxPooling2 (None, 14, 14, 32)        0         \n",
      "_________________________________________________________________\n",
      "conv2d_4 (Conv2D)            (None, 12, 12, 32)        9248      \n",
      "_________________________________________________________________\n",
      "max_pooling2d_3 (MaxPooling2 (None, 6, 6, 32)          0         \n",
      "_________________________________________________________________\n",
      "flatten_2 (Flatten)          (None, 1152)              0         \n",
      "_________________________________________________________________\n",
      "dense_13 (Dense)             (None, 256)               295168    \n",
      "_________________________________________________________________\n",
      "dense_14 (Dense)             (None, 10)                2570      \n",
      "=================================================================\n",
      "Total params: 307,306\n",
      "Trainable params: 307,306\n",
      "Non-trainable params: 0\n",
      "_________________________________________________________________\n"
     ]
    }
   ],
   "source": [
    "model_cnn_2 = cnn_model_2(adadelta, categorical_crossentropy)\n",
    "model_cnn_2.summary()"
   ]
  },
  {
   "cell_type": "code",
   "execution_count": 72,
   "metadata": {
    "_kg_hide-output": true,
    "_uuid": "fe6b203292cc967c3ad35e1199694f0ca3755312",
    "scrolled": true
   },
   "outputs": [
    {
     "name": "stdout",
     "output_type": "stream",
     "text": [
      "Train on 30000 samples, validate on 10000 samples\n",
      "Epoch 1/30\n",
      "30000/30000 [==============================] - 26s 877us/step - loss: 0.3514 - acc: 0.8907 - val_loss: 0.1045 - val_acc: 0.9685\n",
      "Epoch 2/30\n",
      "30000/30000 [==============================] - 24s 812us/step - loss: 0.0869 - acc: 0.9728 - val_loss: 0.0731 - val_acc: 0.9769\n",
      "Epoch 3/30\n",
      "30000/30000 [==============================] - 25s 823us/step - loss: 0.0597 - acc: 0.9810 - val_loss: 0.0539 - val_acc: 0.9836\n",
      "Epoch 4/30\n",
      "30000/30000 [==============================] - 24s 808us/step - loss: 0.0448 - acc: 0.9852 - val_loss: 0.0507 - val_acc: 0.9841\n",
      "Epoch 5/30\n",
      "30000/30000 [==============================] - 24s 810us/step - loss: 0.0334 - acc: 0.9890 - val_loss: 0.0480 - val_acc: 0.9854\n",
      "Epoch 6/30\n",
      "30000/30000 [==============================] - 25s 835us/step - loss: 0.0265 - acc: 0.9912 - val_loss: 0.0562 - val_acc: 0.9840\n",
      "Epoch 7/30\n",
      "30000/30000 [==============================] - 25s 823us/step - loss: 0.0208 - acc: 0.9934 - val_loss: 0.0496 - val_acc: 0.9862\n",
      "Epoch 8/30\n",
      "30000/30000 [==============================] - 25s 819us/step - loss: 0.0164 - acc: 0.9946 - val_loss: 0.0444 - val_acc: 0.9888\n",
      "Epoch 9/30\n",
      "30000/30000 [==============================] - 25s 822us/step - loss: 0.0146 - acc: 0.9954 - val_loss: 0.0431 - val_acc: 0.9888\n",
      "Epoch 10/30\n",
      "30000/30000 [==============================] - 25s 824us/step - loss: 0.0102 - acc: 0.9970 - val_loss: 0.0425 - val_acc: 0.9885\n",
      "Epoch 11/30\n",
      "30000/30000 [==============================] - 1497s 50ms/step - loss: 0.0088 - acc: 0.9974 - val_loss: 0.0535 - val_acc: 0.9881\n",
      "Epoch 12/30\n",
      "30000/30000 [==============================] - 30s 1ms/step - loss: 0.0067 - acc: 0.9982 - val_loss: 0.0542 - val_acc: 0.9876\n",
      "Epoch 13/30\n",
      "30000/30000 [==============================] - 24s 808us/step - loss: 0.0060 - acc: 0.9985 - val_loss: 0.0456 - val_acc: 0.9895\n",
      "Epoch 14/30\n",
      "30000/30000 [==============================] - 24s 796us/step - loss: 0.0050 - acc: 0.9988 - val_loss: 0.0573 - val_acc: 0.9871\n",
      "Epoch 15/30\n",
      "30000/30000 [==============================] - 28s 935us/step - loss: 0.0035 - acc: 0.9991 - val_loss: 0.0516 - val_acc: 0.9885\n",
      "Epoch 16/30\n",
      "30000/30000 [==============================] - 29s 977us/step - loss: 0.0031 - acc: 0.9991 - val_loss: 0.0526 - val_acc: 0.9893\n",
      "Epoch 17/30\n",
      "30000/30000 [==============================] - 29s 977us/step - loss: 0.0024 - acc: 0.9995 - val_loss: 0.0538 - val_acc: 0.9895\n",
      "Epoch 18/30\n",
      "30000/30000 [==============================] - 26s 855us/step - loss: 0.0020 - acc: 0.9996 - val_loss: 0.0550 - val_acc: 0.9897\n",
      "Epoch 19/30\n",
      "30000/30000 [==============================] - 27s 901us/step - loss: 0.0012 - acc: 0.9998 - val_loss: 0.0547 - val_acc: 0.9894\n",
      "Epoch 20/30\n",
      "30000/30000 [==============================] - 26s 880us/step - loss: 0.0015 - acc: 0.9998 - val_loss: 0.0559 - val_acc: 0.9902\n",
      "Epoch 21/30\n",
      "30000/30000 [==============================] - 26s 872us/step - loss: 8.6864e-04 - acc: 0.9999 - val_loss: 0.0562 - val_acc: 0.9903\n",
      "Epoch 22/30\n",
      "30000/30000 [==============================] - 26s 882us/step - loss: 0.0010 - acc: 0.9999 - val_loss: 0.0579 - val_acc: 0.9896\n",
      "Epoch 23/30\n",
      "30000/30000 [==============================] - 26s 859us/step - loss: 6.8610e-04 - acc: 0.9999 - val_loss: 0.0580 - val_acc: 0.9904\n",
      "Epoch 24/30\n",
      "30000/30000 [==============================] - 26s 856us/step - loss: 6.3404e-04 - acc: 1.0000 - val_loss: 0.0575 - val_acc: 0.9902\n",
      "Epoch 25/30\n",
      "30000/30000 [==============================] - 26s 869us/step - loss: 8.2177e-04 - acc: 0.9999 - val_loss: 0.0674 - val_acc: 0.9885\n",
      "Epoch 26/30\n",
      "30000/30000 [==============================] - 25s 849us/step - loss: 6.8605e-04 - acc: 0.9999 - val_loss: 0.0678 - val_acc: 0.9885\n",
      "Epoch 27/30\n",
      "30000/30000 [==============================] - 26s 856us/step - loss: 6.0508e-04 - acc: 1.0000 - val_loss: 0.0602 - val_acc: 0.9899\n",
      "Epoch 28/30\n",
      "30000/30000 [==============================] - 26s 851us/step - loss: 5.9821e-04 - acc: 1.0000 - val_loss: 0.0602 - val_acc: 0.9903\n",
      "Epoch 29/30\n",
      "30000/30000 [==============================] - 25s 837us/step - loss: 5.7479e-04 - acc: 1.0000 - val_loss: 0.0639 - val_acc: 0.9890\n",
      "Epoch 30/30\n",
      "30000/30000 [==============================] - 25s 837us/step - loss: 6.1605e-04 - acc: 1.0000 - val_loss: 0.0614 - val_acc: 0.9903\n"
     ]
    }
   ],
   "source": [
    "#model_cnn_2.fit(X_train, y_train, batch_size=batch_size, epochs=epochs)\n",
    "history_cnn_2 = model_cnn_2.fit(X_train, y_train, validation_data=(X_val,y_val_10), \n",
    "                                epochs=epochs, batch_size=batchsize, verbose=1)"
   ]
  },
  {
   "cell_type": "code",
   "execution_count": 73,
   "metadata": {
    "_uuid": "adbe3d7a391ec4eedfcba6c64410dcd24b94c74f"
   },
   "outputs": [
    {
     "data": {
      "image/png": "[encoded data removed]",
      "text/plain": [
       "<Figure size 864x288 with 2 Axes>"
      ]
     },
     "metadata": {
      "needs_background": "light"
     },
     "output_type": "display_data"
    }
   ],
   "source": [
    "plot_history_loss_and_acc(history_cnn_2)"
   ]
  },
  {
   "cell_type": "code",
   "execution_count": 74,
   "metadata": {
    "_uuid": "7060a5a43d925c3c66dd9b7a0ee2ca8215543c28"
   },
   "outputs": [
    {
     "name": "stdout",
     "output_type": "stream",
     "text": [
      "              precision    recall  f1-score   support\n",
      "\n",
      "           0       0.99      1.00      0.99       998\n",
      "           1       0.99      1.00      0.99      1127\n",
      "           2       0.99      0.99      0.99       967\n",
      "           3       0.99      0.99      0.99      1060\n",
      "           4       0.99      0.99      0.99       914\n",
      "           5       0.99      0.99      0.99       914\n",
      "           6       1.00      0.99      1.00       951\n",
      "           7       0.99      0.99      0.99      1066\n",
      "           8       0.99      0.99      0.99       995\n",
      "           9       0.99      0.97      0.98      1008\n",
      "\n",
      "    accuracy                           0.99     10000\n",
      "   macro avg       0.99      0.99      0.99     10000\n",
      "weighted avg       0.99      0.99      0.99     10000\n",
      "\n",
      "0.9903\n"
     ]
    },
    {
     "data": {
      "image/png": "[encoded data removed]",
      "text/plain": [
       "<Figure size 576x576 with 1 Axes>"
      ]
     },
     "metadata": {
      "needs_background": "light"
     },
     "output_type": "display_data"
    }
   ],
   "source": [
    "pred_val_cnn2 = model_cnn_2.predict_classes(X_val)\n",
    "plot_confusion_matrix(y_val, pred_val_cnn2)\n",
    "print(classification_report(y_val, pred_val_cnn2))\n",
    "acc_cnn2 = accuracy_score(y_val, pred_val_cnn2)\n",
    "print(acc_cnn2)"
   ]
  },
  {
   "cell_type": "markdown",
   "metadata": {},
   "source": [
    "# Part 5: Comparing classifier performance"
   ]
  },
  {
   "cell_type": "code",
   "execution_count": 75,
   "metadata": {},
   "outputs": [],
   "source": [
    "list_classifiers = ['PERC','LR','KNN',\n",
    "                    'MLP','DENSE1','DENSE2','DENSE3',\n",
    "                    'CNN1','CNN2']"
   ]
  },
  {
   "cell_type": "markdown",
   "metadata": {},
   "source": [
    "## Validation scores"
   ]
  },
  {
   "cell_type": "markdown",
   "metadata": {},
   "source": [
    "from validation data"
   ]
  },
  {
   "cell_type": "code",
   "execution_count": 76,
   "metadata": {
    "_uuid": "11f2b5a8c4d13361b317a39b2187ac18965397a8",
    "scrolled": true
   },
   "outputs": [],
   "source": [
    "val_scores = [acc_perc, acc_lr, acc_knn, acc_mlp, acc_fc1, acc_fc2, \n",
    "               acc_fc3, acc_cnn1, acc_cnn2]"
   ]
  },
  {
   "cell_type": "code",
   "execution_count": 77,
   "metadata": {},
   "outputs": [
    {
     "data": {
      "text/html": [
       "<script>requirejs.config({paths: { 'plotly': ['https://cdn.plot.ly/plotly-latest.min']},});if(!window.Plotly) {{require(['plotly'],function(plotly) {window.Plotly=plotly;});}}</script>"
      ],
      "text/vnd.plotly.v1+html": [
       "<script>requirejs.config({paths: { 'plotly': ['https://cdn.plot.ly/plotly-latest.min']},});if(!window.Plotly) {{require(['plotly'],function(plotly) {window.Plotly=plotly;});}}</script>"
      ]
     },
     "metadata": {},
     "output_type": "display_data"
    }
   ],
   "source": [
    "# plotly library\n",
    "import plotly.plotly as py\n",
    "import plotly.graph_objs as go\n",
    "from plotly import tools\n",
    "from plotly.offline import init_notebook_mode, iplot\n",
    "init_notebook_mode(connected=True)"
   ]
  },
  {
   "cell_type": "code",
   "execution_count": 78,
   "metadata": {
    "_uuid": "a2ef32f348371da4c987e5812d08ca41144930d4"
   },
   "outputs": [
    {
     "data": {
      "application/vnd.plotly.v1+json": {
       "data": [
        {
         "name": "Validation",
         "text": [
          "PERC",
          "LR",
          "KNN",
          "MLP",
          "DENSE1",
          "DENSE2",
          "DENSE3",
          "CNN1",
          "CNN2"
         ],
         "type": "scatter",
         "uid": "c19c4694-e2e4-11e9-a4fa-acde48001122",
         "x": [
          "PERC",
          "LR",
          "KNN",
          "MLP",
          "DENSE1",
          "DENSE2",
          "DENSE3",
          "CNN1",
          "CNN2"
         ],
         "y": [
          0.8787,
          0.8789,
          0.9638,
          0.9723,
          0.9625,
          0.9674,
          0.9682,
          0.9899,
          0.9903
         ]
        }
       ],
       "layout": {
        "autosize": false,
        "height": 500,
        "legend": {
         "orientation": "v",
         "x": 1.05,
         "y": 1
        },
        "title": "Validation Scores",
        "width": 750,
        "xaxis": {
         "ticklen": 10,
         "zeroline": false
        },
        "yaxis": {
         "side": "left",
         "ticklen": 10,
         "title": "Accuracy"
        }
       }
      },
      "text/html": [
       "<div id=\"907f54d3-c478-4491-8e10-c5d05dfc8b51\" style=\"height: 500px; width: 750px;\" class=\"plotly-graph-div\"></div><script type=\"text/javascript\">require([\"plotly\"], function(Plotly) { window.PLOTLYENV=window.PLOTLYENV || {};window.PLOTLYENV.BASE_URL=\"https://plot.ly\";Plotly.newPlot(\"907f54d3-c478-4491-8e10-c5d05dfc8b51\", [{\"name\": \"Validation\", \"text\": [\"PERC\", \"LR\", \"KNN\", \"MLP\", \"DENSE1\", \"DENSE2\", \"DENSE3\", \"CNN1\", \"CNN2\"], \"x\": [\"PERC\", \"LR\", \"KNN\", \"MLP\", \"DENSE1\", \"DENSE2\", \"DENSE3\", \"CNN1\", \"CNN2\"], \"y\": [0.8787, 0.8789, 0.9638, 0.9723, 0.9625, 0.9674, 0.9682, 0.9899, 0.9903], \"type\": \"scatter\", \"uid\": \"c253a38c-e2e4-11e9-8143-acde48001122\"}], {\"autosize\": false, \"height\": 500, \"legend\": {\"orientation\": \"v\", \"x\": 1.05, \"y\": 1.0}, \"title\": \"Validation Scores\", \"width\": 750, \"xaxis\": {\"ticklen\": 10, \"zeroline\": false}, \"yaxis\": {\"side\": \"left\", \"ticklen\": 10, \"title\": \"Accuracy\"}}, {\"showLink\": true, \"linkText\": \"Export to plot.ly\"})});</script>"
      ],
      "text/vnd.plotly.v1+html": [
       "<div id=\"907f54d3-c478-4491-8e10-c5d05dfc8b51\" style=\"height: 500px; width: 750px;\" class=\"plotly-graph-div\"></div><script type=\"text/javascript\">require([\"plotly\"], function(Plotly) { window.PLOTLYENV=window.PLOTLYENV || {};window.PLOTLYENV.BASE_URL=\"https://plot.ly\";Plotly.newPlot(\"907f54d3-c478-4491-8e10-c5d05dfc8b51\", [{\"name\": \"Validation\", \"text\": [\"PERC\", \"LR\", \"KNN\", \"MLP\", \"DENSE1\", \"DENSE2\", \"DENSE3\", \"CNN1\", \"CNN2\"], \"x\": [\"PERC\", \"LR\", \"KNN\", \"MLP\", \"DENSE1\", \"DENSE2\", \"DENSE3\", \"CNN1\", \"CNN2\"], \"y\": [0.8787, 0.8789, 0.9638, 0.9723, 0.9625, 0.9674, 0.9682, 0.9899, 0.9903], \"type\": \"scatter\", \"uid\": \"c253a38c-e2e4-11e9-8143-acde48001122\"}], {\"autosize\": false, \"height\": 500, \"legend\": {\"orientation\": \"v\", \"x\": 1.05, \"y\": 1.0}, \"title\": \"Validation Scores\", \"width\": 750, \"xaxis\": {\"ticklen\": 10, \"zeroline\": false}, \"yaxis\": {\"side\": \"left\", \"ticklen\": 10, \"title\": \"Accuracy\"}}, {\"showLink\": true, \"linkText\": \"Export to plot.ly\"})});</script>"
      ]
     },
     "metadata": {},
     "output_type": "display_data"
    }
   ],
   "source": [
    "trace1 = go.Scatter(x = list_classifiers, y = val_scores,\n",
    "                   name=\"Validation\", text = list_classifiers)\n",
    "\n",
    "data = [trace1]\n",
    "\n",
    "layout = dict(title = \"Validation Scores\", \n",
    "              xaxis=dict(ticklen=10, zeroline= False),\n",
    "              yaxis=dict(title = \"Accuracy\", side='left', ticklen=10,),                                  \n",
    "              legend=dict(orientation=\"v\", x=1.05, y=1.0),\n",
    "              autosize=False, width=750, height=500,\n",
    "              )\n",
    "\n",
    "fig = dict(data = data, layout = layout)\n",
    "iplot(fig)"
   ]
  },
  {
   "cell_type": "markdown",
   "metadata": {},
   "source": [
    "## Conclusions on classifier performance"
   ]
  },
  {
   "cell_type": "markdown",
   "metadata": {},
   "source": [
    "* Best accuracy around 99% is obtained with CNN1 and CNN2. \n",
    "* Except for Perceptron and Logistic regression, all classifiers get accuarcy similar to humans (above 95%)  "
   ]
  }
 ],
 "metadata": {
  "kernelspec": {
   "display_name": "Python 3",
   "language": "python",
   "name": "python3"
  },
  "language_info": {
   "codemirror_mode": {
    "name": "ipython",
    "version": 3
   },
   "file_extension": ".py",
   "mimetype": "text/x-python",
   "name": "python",
   "nbconvert_exporter": "python",
   "pygments_lexer": "ipython3",
   "version": "3.7.3"
  }
 },
 "nbformat": 4,
 "nbformat_minor": 1
}
