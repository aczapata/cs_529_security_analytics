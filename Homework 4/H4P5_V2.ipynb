{
 "cells": [
  {
   "cell_type": "code",
   "execution_count": 59,
   "metadata": {},
   "outputs": [],
   "source": [
    "import keras\n",
    "from keras.models import Sequential\n",
    "from keras.layers import Dense, Flatten, Conv2D, MaxPooling2D, Dropout\n",
    "import numpy as np\n",
    "import matplotlib.pyplot as plt \n",
    "\n",
    "from art.attacks import FastGradientMethod, DeepFool, ProjectedGradientDescent, CarliniL2Method\n",
    "from art.classifiers import KerasClassifier\n",
    "from art.utils import load_mnist"
   ]
  },
  {
   "cell_type": "code",
   "execution_count": 60,
   "metadata": {},
   "outputs": [],
   "source": [
    "(x_train, y_train), (x_test, y_test), min_pixel_value, max_pixel_value = load_mnist()\n",
    "batch_size = 128\n",
    "num_classes = 10\n",
    "epochs = 3\n",
    "\n",
    "# input image dimensions\n",
    "img_rows, img_cols = 28, 28\n",
    "input_shape = (img_rows, img_cols, 1)"
   ]
  },
  {
   "cell_type": "markdown",
   "metadata": {},
   "source": [
    "### Benign Examples"
   ]
  },
  {
   "cell_type": "markdown",
   "metadata": {},
   "source": [
    "#### Artificial Neural Network "
   ]
  },
  {
   "cell_type": "code",
   "execution_count": 61,
   "metadata": {},
   "outputs": [
    {
     "name": "stdout",
     "output_type": "stream",
     "text": [
      "_________________________________________________________________\n",
      "Layer (type)                 Output Shape              Param #   \n",
      "=================================================================\n",
      "dense_19 (Dense)             (None, 100)               78500     \n",
      "_________________________________________________________________\n",
      "dense_20 (Dense)             (None, 200)               20200     \n",
      "_________________________________________________________________\n",
      "dense_21 (Dense)             (None, 200)               40200     \n",
      "_________________________________________________________________\n",
      "dense_22 (Dense)             (None, 200)               40200     \n",
      "_________________________________________________________________\n",
      "dense_23 (Dense)             (None, 100)               20100     \n",
      "_________________________________________________________________\n",
      "dense_24 (Dense)             (None, 10)                1010      \n",
      "=================================================================\n",
      "Total params: 200,210\n",
      "Trainable params: 200,210\n",
      "Non-trainable params: 0\n",
      "_________________________________________________________________\n"
     ]
    }
   ],
   "source": [
    "ann_model = Sequential()  \n",
    "    \n",
    "ann_model.add(Dense(100, activation='relu', input_dim=784))\n",
    "ann_model.add(Dense(200, activation='relu')) \n",
    "ann_model.add(Dense(200, activation='relu')) \n",
    "ann_model.add(Dense(200, activation='relu')) \n",
    "ann_model.add(Dense(100, activation='relu')) \n",
    "ann_model.add(Dense(10, activation='softmax'))\n",
    "  \n",
    "ann_model.compile(loss=keras.losses.categorical_crossentropy, optimizer=keras.optimizers.SGD(lr=0.01), metrics=['accuracy'])\n",
    "ann_model.summary()"
   ]
  },
  {
   "cell_type": "code",
   "execution_count": 62,
   "metadata": {},
   "outputs": [],
   "source": [
    "x_train_ann = x_train.reshape(x_train.shape[0], img_rows* img_cols)\n",
    "x_test_ann = x_test.reshape(x_test.shape[0], img_rows* img_cols)"
   ]
  },
  {
   "cell_type": "code",
   "execution_count": 63,
   "metadata": {
    "scrolled": true
   },
   "outputs": [
    {
     "name": "stdout",
     "output_type": "stream",
     "text": [
      "Epoch 1/3\n",
      "469/468 [==============================] - 16s 35ms/step - loss: 1.7101 - acc: 0.5142\n",
      "Epoch 2/3\n",
      "469/468 [==============================] - 6s 13ms/step - loss: 0.5093 - acc: 0.8521\n",
      "Epoch 3/3\n",
      "469/468 [==============================] - 6s 13ms/step - loss: 0.3540 - acc: 0.8985\n"
     ]
    }
   ],
   "source": [
    "ann_classifier = KerasClassifier(model=ann_model, clip_values=(min_pixel_value, max_pixel_value), use_logits=False)\n",
    "ann_classifier.fit(x_train_ann, y_train, batch_size=batch_size, nb_epochs=epochs)"
   ]
  },
  {
   "cell_type": "code",
   "execution_count": 64,
   "metadata": {},
   "outputs": [
    {
     "name": "stdout",
     "output_type": "stream",
     "text": [
      "Accuracy on benign test examples for ANN: 90.75999999999999%\n"
     ]
    }
   ],
   "source": [
    "predictions = ann_classifier.predict(x_test_ann)\n",
    "accuracy = np.sum(np.argmax(predictions, axis=1) == np.argmax(y_test, axis=1)) / len(y_test)\n",
    "print('Accuracy on benign test examples for ANN: {}%'.format(accuracy * 100))"
   ]
  },
  {
   "cell_type": "markdown",
   "metadata": {},
   "source": [
    "#### Convolutional Neural Network "
   ]
  },
  {
   "cell_type": "code",
   "execution_count": 65,
   "metadata": {},
   "outputs": [
    {
     "name": "stdout",
     "output_type": "stream",
     "text": [
      "_________________________________________________________________\n",
      "Layer (type)                 Output Shape              Param #   \n",
      "=================================================================\n",
      "conv2d_9 (Conv2D)            (None, 26, 26, 6)         60        \n",
      "_________________________________________________________________\n",
      "conv2d_10 (Conv2D)           (None, 24, 24, 10)        550       \n",
      "_________________________________________________________________\n",
      "max_pooling2d_5 (MaxPooling2 (None, 12, 12, 10)        0         \n",
      "_________________________________________________________________\n",
      "dropout_7 (Dropout)          (None, 12, 12, 10)        0         \n",
      "_________________________________________________________________\n",
      "flatten_4 (Flatten)          (None, 1440)              0         \n",
      "_________________________________________________________________\n",
      "dense_25 (Dense)             (None, 100)               144100    \n",
      "_________________________________________________________________\n",
      "dropout_8 (Dropout)          (None, 100)               0         \n",
      "_________________________________________________________________\n",
      "dense_26 (Dense)             (None, 10)                1010      \n",
      "=================================================================\n",
      "Total params: 145,720\n",
      "Trainable params: 145,720\n",
      "Non-trainable params: 0\n",
      "_________________________________________________________________\n"
     ]
    }
   ],
   "source": [
    "cnn_model = Sequential()\n",
    "    \n",
    "cnn_model.add(Conv2D(6, kernel_size= (3, 3), activation='relu', input_shape=input_shape)) \n",
    "cnn_model.add(Conv2D(10, kernel_size= (3, 3), activation='relu'))\n",
    "cnn_model.add(MaxPooling2D(pool_size=(2, 2)))\n",
    "cnn_model.add(Dropout(0.25))\n",
    "\n",
    "cnn_model.add(Flatten())\n",
    "\n",
    "cnn_model.add(Dense(100, activation='relu'))\n",
    "cnn_model.add(Dropout(0.5))\n",
    "\n",
    "cnn_model.add(Dense(10, activation='softmax'))\n",
    "\n",
    "cnn_model.compile(loss=keras.losses.categorical_crossentropy, optimizer=keras.optimizers.SGD(lr=0.01), metrics=['accuracy'])\n",
    "cnn_model.summary()"
   ]
  },
  {
   "cell_type": "code",
   "execution_count": 66,
   "metadata": {},
   "outputs": [
    {
     "name": "stdout",
     "output_type": "stream",
     "text": [
      "Epoch 1/3\n",
      "469/468 [==============================] - 85s 181ms/step - loss: 1.4521 - acc: 0.4999\n",
      "Epoch 2/3\n",
      "469/468 [==============================] - 80s 171ms/step - loss: 0.6424 - acc: 0.7922\n",
      "Epoch 3/3\n",
      "469/468 [==============================] - 93s 199ms/step - loss: 0.5301 - acc: 0.83242s - loss: 0.5307\n"
     ]
    }
   ],
   "source": [
    "cnn_classifier = KerasClassifier(model=cnn_model, clip_values=(min_pixel_value, max_pixel_value), use_logits=False)\n",
    "cnn_classifier.fit(x_train, y_train, batch_size=batch_size, nb_epochs=epochs)"
   ]
  },
  {
   "cell_type": "markdown",
   "metadata": {},
   "source": [
    "### Adversarial Examples"
   ]
  },
  {
   "cell_type": "markdown",
   "metadata": {},
   "source": [
    "#### Artificial Neural Network "
   ]
  },
  {
   "cell_type": "code",
   "execution_count": 67,
   "metadata": {},
   "outputs": [],
   "source": [
    "ann_attack_1 = FastGradientMethod(classifier = ann_classifier)\n",
    "ann_attack_2 = DeepFool(classifier = ann_classifier)\n",
    "ann_attack_3 = ProjectedGradientDescent(classifier = ann_classifier)\n",
    "ann_attack_4 = CarliniL2Method(classifier = ann_classifier)\n",
    "x_adv_1 = ann_attack_1.generate(x=x_test_ann[0:1])\n",
    "x_adv_2 = ann_attack_2.generate(x=x_test_ann[0:1])\n",
    "x_adv_3 = ann_attack_3.generate(x=x_test_ann[0:1])\n",
    "x_adv_4 = ann_attack_4.generate(x=x_test_ann[0:1])"
   ]
  },
  {
   "cell_type": "code",
   "execution_count": 68,
   "metadata": {},
   "outputs": [
    {
     "name": "stdout",
     "output_type": "stream",
     "text": [
      "Original Sample :\n"
     ]
    },
    {
     "data": {
      "image/png": "[encoded data removed]",
      "text/plain": [
       "<Figure size 432x288 with 1 Axes>"
      ]
     },
     "metadata": {
      "needs_background": "light"
     },
     "output_type": "display_data"
    },
    {
     "name": "stdout",
     "output_type": "stream",
     "text": [
      "Adversarial Sample - FastGradientMethod:\n"
     ]
    },
    {
     "data": {
      "image/png": "[encoded data removed]",
      "text/plain": [
       "<Figure size 432x288 with 1 Axes>"
      ]
     },
     "metadata": {
      "needs_background": "light"
     },
     "output_type": "display_data"
    },
    {
     "name": "stdout",
     "output_type": "stream",
     "text": [
      "Adversarial Sample - DeepFool:\n"
     ]
    },
    {
     "data": {
      "image/png": "[encoded data removed]",
      "text/plain": [
       "<Figure size 432x288 with 1 Axes>"
      ]
     },
     "metadata": {
      "needs_background": "light"
     },
     "output_type": "display_data"
    },
    {
     "name": "stdout",
     "output_type": "stream",
     "text": [
      "Adversarial Sample - ProjectedGradientDescent:\n"
     ]
    },
    {
     "data": {
      "image/png": "[encoded data removed]",
      "text/plain": [
       "<Figure size 432x288 with 1 Axes>"
      ]
     },
     "metadata": {
      "needs_background": "light"
     },
     "output_type": "display_data"
    },
    {
     "name": "stdout",
     "output_type": "stream",
     "text": [
      "Adversarial Sample - CarliniL2Method:\n"
     ]
    },
    {
     "data": {
      "image/png": "[encoded data removed]",
      "text/plain": [
       "<Figure size 432x288 with 1 Axes>"
      ]
     },
     "metadata": {
      "needs_background": "light"
     },
     "output_type": "display_data"
    }
   ],
   "source": [
    "print(\"Original Sample :\")\n",
    "plt.imshow(x_test_ann[0].reshape((28,28)), cmap='Greys')\n",
    "plt.show()\n",
    "print(\"Adversarial Sample - FastGradientMethod:\")\n",
    "plt.imshow(x_adv_1[0].reshape((28,28)), cmap='Greys')\n",
    "plt.show()\n",
    "print(\"Adversarial Sample - DeepFool:\")\n",
    "plt.imshow(x_adv_2[0].reshape((28,28)), cmap='Greys')\n",
    "plt.show()\n",
    "print(\"Adversarial Sample - ProjectedGradientDescent:\")\n",
    "plt.imshow(x_adv_3[0].reshape((28,28)), cmap='Greys')\n",
    "plt.show()\n",
    "print(\"Adversarial Sample - CarliniL2Method:\")\n",
    "plt.imshow(x_adv_4[0].reshape((28,28)), cmap='Greys')\n",
    "plt.show()"
   ]
  },
  {
   "cell_type": "markdown",
   "metadata": {},
   "source": [
    "#### Convolutional Neural Network "
   ]
  },
  {
   "cell_type": "code",
   "execution_count": null,
   "metadata": {},
   "outputs": [],
   "source": [
    "cnn_attack_1 = FastGradientMethod(classifier = cnn_classifier)\n",
    "cnn_attack_2 = DeepFool(classifier = cnn_classifier)\n",
    "cnn_attack_3 = ProjectedGradientDescent(classifier = cnn_classifier)\n",
    "cnn_attack_4 = CarliniL2Method(classifier = cnn_classifier)\n",
    "x_adv_5 = cnn_attack_1.generate(x=x_test_ann[0:1])\n",
    "x_adv_6 = cnn_attack_2.generate(x=x_test_ann[0:1])\n",
    "x_adv_7 = cnn_attack_3.generate(x=x_test_ann[0:1])\n",
    "x_adv_8 = cnn_attack_4.generate(x=x_test_ann[0:1])"
   ]
  },
  {
   "cell_type": "code",
   "execution_count": null,
   "metadata": {},
   "outputs": [],
   "source": [
    "print(\"Original Sample :\")\n",
    "plt.imshow(x_test_ann[0].reshape((28,28)), cmap='Greys')\n",
    "plt.show()\n",
    "print(\"Adversarial Sample - FastGradientMethod:\")\n",
    "plt.imshow(x_adv_5[0].reshape((28,28)), cmap='Greys')\n",
    "plt.show()\n",
    "print(\"Adversarial Sample - DeepFool:\")\n",
    "plt.imshow(x_adv_6[0].reshape((28,28)), cmap='Greys')\n",
    "plt.show()\n",
    "print(\"Adversarial Sample - ProjectedGradientDescent:\")\n",
    "plt.imshow(x_adv_7[0].reshape((28,28)), cmap='Greys')\n",
    "plt.show(\n",
    "print(\"Adversarial Sample - CarliniL2Method:\")\n",
    "plt.imshow(x_adv_8[0].reshape((28,28)), cmap='Greys')\n",
    "plt.show()"
   ]
  },
  {
   "cell_type": "code",
   "execution_count": null,
   "metadata": {},
   "outputs": [],
   "source": [
    "# Step 7: Evaluate the ART classifier on adversarial test examples\n",
    "k = 2500\n",
    "x_test_adv_1 = ann_attack_1.generate(x=x_test_ann[0:k])\n",
    "x_test_adv_2 = ann_attack_2.generate(x=x_test_ann[k:2*k])\n",
    "x_test_adv_3 = ann_attack_3.generate(x=x_test_ann[2*k:3*k])\n",
    "x_test_adv_4 = ann_attack_4.generate(x=x_test_ann[3*k:4*k])"
   ]
  },
  {
   "cell_type": "code",
   "execution_count": null,
   "metadata": {},
   "outputs": [],
   "source": [
    "x_test_adv = np.concatenate((x_test_adv_1, x_test_adv_2, x_test_adv_3, x_test_adv_4), axis=0)\n",
    "predictions = ann_classifier.predict(x_test_adv)\n",
    "accuracy = np.sum(np.argmax(predictions, axis=1) == np.argmax(y_test[0:4*k], axis=1)) / len(y_test[0:4*k])\n",
    "print('Accuracy on adversarial test examples for ANN: {}%'.format(accuracy * 100))"
   ]
  }
 ],
 "metadata": {
  "kernelspec": {
   "display_name": "Python 3",
   "language": "python",
   "name": "python3"
  },
  "language_info": {
   "codemirror_mode": {
    "name": "ipython",
    "version": 3
   },
   "file_extension": ".py",
   "mimetype": "text/x-python",
   "name": "python",
   "nbconvert_exporter": "python",
   "pygments_lexer": "ipython3",
   "version": "3.7.3"
  }
 },
 "nbformat": 4,
 "nbformat_minor": 2
}
