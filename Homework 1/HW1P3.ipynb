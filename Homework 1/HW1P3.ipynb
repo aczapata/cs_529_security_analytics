{
 "cells": [
  {
   "cell_type": "code",
   "execution_count": 1,
   "metadata": {},
   "outputs": [],
   "source": [
    "import numpy as np\n",
    "import pandas as pd\n",
    "pd.set_option('display.max.columns', 100)\n",
    "# to draw pictures in jupyter notebook\n",
    "%matplotlib inline \n",
    "import matplotlib.pyplot as plt\n",
    "import seaborn as sns\n",
    "from sklearn.model_selection import KFold\n",
    "from sklearn import preprocessing\n",
    "from sklearn.preprocessing import PolynomialFeatures\n",
    "# we don't like warnings\n",
    "# you can comment the following 2 lines if you'd like to\n",
    "import warnings\n",
    "warnings.filterwarnings('ignore')\n"
   ]
  },
  {
   "cell_type": "code",
   "execution_count": 2,
   "metadata": {},
   "outputs": [],
   "source": [
    "data = np.loadtxt(open(\"./data.txt\",\"r\"))\n",
    "x = data[:,0].reshape(-1, 1)\n",
    "y = data[:,1].reshape(-1, 1)"
   ]
  },
  {
   "cell_type": "code",
   "execution_count": 3,
   "metadata": {},
   "outputs": [
    {
     "data": {
      "image/png": "[encoded data removed]",
      "text/plain": [
       "<Figure size 432x288 with 1 Axes>"
      ]
     },
     "metadata": {
      "needs_background": "light"
     },
     "output_type": "display_data"
    }
   ],
   "source": [
    "plt.scatter(x, y)\n",
    "plt.show()"
   ]
  },
  {
   "cell_type": "markdown",
   "metadata": {},
   "source": [
    "### 1. Partition all data randomly into 10 folds and produce 10 different training-validation set pairs"
   ]
  },
  {
   "cell_type": "code",
   "execution_count": 69,
   "metadata": {},
   "outputs": [
    {
     "name": "stdout",
     "output_type": "stream",
     "text": [
      "SET 0 TRAIN : [[-6.  -5.8 -5.6 -5.4 -5.2 -5.  -4.8 -4.6 -4.4 -4.2 -4.  -3.8 -3.6 -3.4\n",
      "  -3.  -2.8 -2.6 -2.4 -2.2 -2.  -1.6 -1.4 -1.2 -1.  -0.6 -0.4 -0.2  0.\n",
      "   0.2  0.6  0.8  1.   1.2  1.4  1.6  1.8  2.   2.2  2.4  2.8  3.   3.2\n",
      "   3.4  3.6  3.8  4.   4.2  4.4  4.6  4.8  5.   5.2  5.4  5.6  5.8  6.\n",
      "   6.2  6.4  6.6  7.4  7.6  7.8  8.   8.2  8.4  8.6  8.8  9.   9.2  9.6\n",
      "   9.8 10. ]] TEST : [[-3.2 -1.8 -0.8  0.4  2.6  6.8  7.   7.2  9.4]] \n",
      "\n",
      "72\n",
      "SET 1 TRAIN : [[-6.  -5.8 -5.6 -5.4 -5.2 -5.  -4.8 -4.6 -4.4 -4.  -3.8 -3.6 -3.4 -3.2\n",
      "  -3.  -2.8 -2.6 -2.2 -2.  -1.8 -1.4 -1.  -0.8 -0.6 -0.4 -0.2  0.   0.2\n",
      "   0.4  0.6  0.8  1.   1.2  1.4  1.6  2.   2.2  2.4  2.6  2.8  3.2  3.4\n",
      "   3.6  3.8  4.   4.4  4.6  4.8  5.   5.2  5.4  5.6  5.8  6.   6.2  6.4\n",
      "   6.6  6.8  7.   7.2  7.4  7.6  7.8  8.   8.2  8.4  8.6  8.8  9.   9.2\n",
      "   9.4  9.6  9.8]] TEST : [[-4.2 -2.4 -1.6 -1.2  1.8  3.   4.2 10. ]] \n",
      "\n",
      "73\n",
      "SET 2 TRAIN : [[-6.  -5.8 -5.6 -5.4 -5.2 -5.  -4.8 -4.6 -4.4 -4.2 -4.  -3.6 -3.4 -3.2\n",
      "  -3.  -2.8 -2.6 -2.4 -2.2 -2.  -1.8 -1.6 -1.4 -1.2 -1.  -0.8 -0.6 -0.4\n",
      "  -0.2  0.   0.2  0.4  0.6  0.8  1.   1.2  1.4  1.6  1.8  2.   2.4  2.6\n",
      "   3.   3.2  3.4  3.6  3.8  4.   4.2  4.4  4.6  4.8  5.   5.4  5.6  5.8\n",
      "   6.   6.2  6.4  6.6  6.8  7.   7.2  7.6  7.8  8.   8.2  8.6  8.8  9.\n",
      "   9.4  9.6 10. ]] TEST : [[-3.8  2.2  2.8  5.2  7.4  8.4  9.2  9.8]] \n",
      "\n",
      "73\n",
      "SET 3 TRAIN : [[-6.  -5.8 -5.6 -5.4 -5.2 -5.  -4.8 -4.6 -4.2 -4.  -3.8 -3.6 -3.4 -3.2\n",
      "  -3.  -2.8 -2.6 -2.4 -2.2 -2.  -1.8 -1.6 -1.2 -1.  -0.8 -0.6 -0.4 -0.2\n",
      "   0.   0.4  0.6  0.8  1.2  1.4  1.6  1.8  2.   2.2  2.4  2.6  2.8  3.\n",
      "   3.6  3.8  4.   4.2  4.4  4.8  5.   5.2  5.4  5.6  5.8  6.   6.2  6.4\n",
      "   6.6  6.8  7.   7.2  7.4  7.6  7.8  8.   8.2  8.4  8.6  8.8  9.   9.2\n",
      "   9.4  9.8 10. ]] TEST : [[-4.4 -1.4  0.2  1.   3.2  3.4  4.6  9.6]] \n",
      "\n",
      "73\n",
      "SET 4 TRAIN : [[-6.  -5.8 -5.6 -5.4 -5.2 -5.  -4.6 -4.4 -4.2 -3.8 -3.4 -3.2 -3.  -2.8\n",
      "  -2.4 -2.2 -2.  -1.8 -1.6 -1.4 -1.2 -0.8 -0.6 -0.4 -0.2  0.   0.2  0.4\n",
      "   0.6  0.8  1.   1.2  1.4  1.6  1.8  2.   2.2  2.4  2.6  2.8  3.   3.2\n",
      "   3.4  3.6  3.8  4.   4.2  4.4  4.6  4.8  5.   5.2  5.4  5.6  5.8  6.\n",
      "   6.2  6.4  6.6  6.8  7.   7.2  7.4  7.6  7.8  8.2  8.4  8.6  9.2  9.4\n",
      "   9.6  9.8 10. ]] TEST : [[-4.8 -4.  -3.6 -2.6 -1.   8.   8.8  9. ]] \n",
      "\n",
      "73\n",
      "SET 5 TRAIN : [[-6.  -5.8 -5.4 -5.2 -4.8 -4.6 -4.4 -4.2 -4.  -3.8 -3.6 -3.4 -3.2 -3.\n",
      "  -2.8 -2.6 -2.4 -2.  -1.8 -1.6 -1.4 -1.2 -1.  -0.8 -0.6  0.2  0.4  0.6\n",
      "   0.8  1.   1.2  1.4  1.6  1.8  2.   2.2  2.4  2.6  2.8  3.   3.2  3.4\n",
      "   3.6  3.8  4.   4.2  4.4  4.6  5.   5.2  5.4  5.6  5.8  6.   6.2  6.4\n",
      "   6.8  7.   7.2  7.4  7.6  7.8  8.   8.2  8.4  8.6  8.8  9.   9.2  9.4\n",
      "   9.6  9.8 10. ]] TEST : [[-5.6 -5.  -2.2 -0.4 -0.2  0.   4.8  6.6]] \n",
      "\n",
      "73\n",
      "SET 6 TRAIN : [[-6.  -5.8 -5.6 -5.4 -5.  -4.8 -4.6 -4.4 -4.2 -4.  -3.8 -3.6 -3.4 -3.2\n",
      "  -3.  -2.8 -2.6 -2.4 -2.2 -2.  -1.8 -1.6 -1.4 -1.2 -1.  -0.8 -0.6 -0.4\n",
      "  -0.2  0.   0.2  0.4  0.8  1.   1.4  1.6  1.8  2.   2.2  2.6  2.8  3.\n",
      "   3.2  3.4  3.6  4.   4.2  4.4  4.6  4.8  5.   5.2  5.4  5.6  6.   6.2\n",
      "   6.4  6.6  6.8  7.   7.2  7.4  7.8  8.   8.4  8.6  8.8  9.   9.2  9.4\n",
      "   9.6  9.8 10. ]] TEST : [[-5.2  0.6  1.2  2.4  3.8  5.8  7.6  8.2]] \n",
      "\n",
      "73\n",
      "SET 7 TRAIN : [[-6.  -5.8 -5.6 -5.2 -5.  -4.8 -4.4 -4.2 -4.  -3.8 -3.6 -3.4 -3.2 -3.\n",
      "  -2.8 -2.6 -2.4 -2.2 -1.8 -1.6 -1.4 -1.2 -1.  -0.8 -0.4 -0.2  0.   0.2\n",
      "   0.4  0.6  0.8  1.   1.2  1.6  1.8  2.   2.2  2.4  2.6  2.8  3.   3.2\n",
      "   3.4  3.6  3.8  4.2  4.6  4.8  5.   5.2  5.4  5.6  5.8  6.   6.4  6.6\n",
      "   6.8  7.   7.2  7.4  7.6  7.8  8.   8.2  8.4  8.6  8.8  9.   9.2  9.4\n",
      "   9.6  9.8 10. ]] TEST : [[-5.4 -4.6 -2.  -0.6  1.4  4.   4.4  6.2]] \n",
      "\n",
      "73\n",
      "SET 8 TRAIN : [[-5.6 -5.4 -5.2 -5.  -4.8 -4.6 -4.4 -4.2 -4.  -3.8 -3.6 -3.4 -3.2 -3.\n",
      "  -2.6 -2.4 -2.2 -2.  -1.8 -1.6 -1.4 -1.2 -1.  -0.8 -0.6 -0.4 -0.2  0.\n",
      "   0.2  0.4  0.6  1.   1.2  1.4  1.6  1.8  2.   2.2  2.4  2.6  2.8  3.\n",
      "   3.2  3.4  3.8  4.   4.2  4.4  4.6  4.8  5.   5.2  5.4  5.6  5.8  6.\n",
      "   6.2  6.6  6.8  7.   7.2  7.4  7.6  8.   8.2  8.4  8.8  9.   9.2  9.4\n",
      "   9.6  9.8 10. ]] TEST : [[-6.  -5.8 -2.8  0.8  3.6  6.4  7.8  8.6]] \n",
      "\n",
      "73\n",
      "SET 9 TRAIN : [[-6.  -5.8 -5.6 -5.4 -5.2 -5.  -4.8 -4.6 -4.4 -4.2 -4.  -3.8 -3.6 -3.2\n",
      "  -2.8 -2.6 -2.4 -2.2 -2.  -1.8 -1.6 -1.4 -1.2 -1.  -0.8 -0.6 -0.4 -0.2\n",
      "   0.   0.2  0.4  0.6  0.8  1.   1.2  1.4  1.8  2.2  2.4  2.6  2.8  3.\n",
      "   3.2  3.4  3.6  3.8  4.   4.2  4.4  4.6  4.8  5.2  5.8  6.2  6.4  6.6\n",
      "   6.8  7.   7.2  7.4  7.6  7.8  8.   8.2  8.4  8.6  8.8  9.   9.2  9.4\n",
      "   9.6  9.8 10. ]] TEST : [[-3.4 -3.   1.6  2.   5.   5.4  5.6  6. ]] \n",
      "\n",
      "73\n"
     ]
    }
   ],
   "source": [
    "kf = KFold(n_splits=10, shuffle=True, )\n",
    "for k,(train_index, test_index) in enumerate(kf.split(x)):\n",
    "    x_train, x_test = x[train_index], x[test_index]\n",
    "    print(\"SET\", k , \"TRAIN :\", x_train.T, \"TEST :\", x_test.T, \"\\n\")"
   ]
  },
  {
   "cell_type": "markdown",
   "metadata": {},
   "source": [
    "### 2. Normalize your training inputs and outputs by using training sample mean and std deviation"
   ]
  },
  {
   "cell_type": "code",
   "execution_count": 5,
   "metadata": {},
   "outputs": [
    {
     "name": "stdout",
     "output_type": "stream",
     "text": [
      "SET 0 TRAIN : [[-1.6788958  -1.6354136  -1.59193141 -1.54844922 -1.50496702 -1.46148483\n",
      "  -1.41800264 -1.37452044 -1.33103825 -1.28755606 -1.24407386 -1.20059167\n",
      "  -1.15710948 -1.07014509 -1.0266629  -0.93969851 -0.89621632 -0.85273412\n",
      "  -0.80925193 -0.76576974 -0.72228754 -0.67880535 -0.63532316 -0.59184096\n",
      "  -0.54835877 -0.50487658 -0.46139438 -0.37443    -0.3309478  -0.28746561\n",
      "  -0.24398342 -0.20050122 -0.15701903 -0.11353684 -0.07005464 -0.02657245\n",
      "   0.01690974  0.06039194  0.10387413  0.14735632  0.19083852  0.23432071\n",
      "   0.2778029   0.3212851   0.36476729  0.40824948  0.45173167  0.49521387\n",
      "   0.53869606  0.58217825  0.62566045  0.66914264  0.71262483  0.75610703\n",
      "   0.79958922  0.84307141  0.88655361  0.97351799  1.10396457  1.14744677\n",
      "   1.23441115  1.27789335  1.32137554  1.36485773  1.40833993  1.49530431\n",
      "   1.53878651  1.5822687   1.62575089  1.66923309  1.71271528  1.79967967]] TEST : [[-1.11362728 -0.9831807  -0.41791219  0.9300358   1.01700019  1.06048238\n",
      "   1.19092896  1.45182212  1.75619747]] \n",
      "\n",
      "SET 1 TRAIN : [[-1.75836956 -1.67236555 -1.62936355 -1.58636155 -1.54335955 -1.50035754\n",
      "  -1.45735554 -1.37135153 -1.32834953 -1.28534753 -1.24234553 -1.19934352\n",
      "  -1.15634152 -1.11333952 -1.07033752 -0.98433351 -0.89832951 -0.8553275\n",
      "  -0.8123255  -0.7693235  -0.7263215  -0.68331949 -0.64031749 -0.59731549\n",
      "  -0.55431349 -0.51131148 -0.46830948 -0.42530748 -0.38230548 -0.33930347\n",
      "  -0.29630147 -0.25329947 -0.21029746 -0.12429346 -0.08129146 -0.03828945\n",
      "   0.00471255  0.04771455  0.09071655  0.13371856  0.17672056  0.21972256\n",
      "   0.26272456  0.34872857  0.39173057  0.43473257  0.47773458  0.52073658\n",
      "   0.60674058  0.64974259  0.69274459  0.73574659  0.77874859  0.8217506\n",
      "   0.8647526   0.9077546   0.95075661  0.99375861  1.03676061  1.07976261\n",
      "   1.12276462  1.16576662  1.20876862  1.25177062  1.33777463  1.38077663\n",
      "   1.42377863  1.46678064  1.50978264  1.55278464  1.59578664  1.63878865\n",
      "   1.68179065]] TEST : [[-1.71536756 -1.41435354 -1.02733551 -0.94133151 -0.16729546  0.30572657\n",
      "   0.56373858  1.29477263]] \n",
      "\n",
      "SET 2 TRAIN : [[-1.68849425 -1.64662601 -1.60475778 -1.56288955 -1.52102131 -1.43728484\n",
      "  -1.39541661 -1.35354838 -1.31168014 -1.26981191 -1.22794368 -1.18607544\n",
      "  -1.14420721 -1.10233898 -1.01860251 -0.97673427 -0.93486604 -0.89299781\n",
      "  -0.85112957 -0.80926134 -0.76739311 -0.72552487 -0.68365664 -0.6417884\n",
      "  -0.59992017 -0.55805194 -0.5161837  -0.47431547 -0.43244724 -0.390579\n",
      "  -0.34871077 -0.30684253 -0.2649743  -0.1393696  -0.09750137 -0.05563313\n",
      "  -0.0137649   0.02810333  0.1118398   0.15370804  0.19557627  0.27931274\n",
      "   0.32118097  0.3630492   0.40491744  0.44678567  0.48865391  0.53052214\n",
      "   0.57239037  0.61425861  0.69799507  0.73986331  0.78173154  0.82359978\n",
      "   0.90733624  0.94920448  0.99107271  1.03294094  1.07480918  1.11667741\n",
      "   1.15854565  1.20041388  1.24228211  1.28415035  1.32601858  1.36788681\n",
      "   1.40975505  1.45162328  1.49349151  1.53535975  1.57722798  1.61909622\n",
      "   1.66096445]] TEST : [[-1.47915308 -1.06047074 -0.22310607 -0.18123783  0.06997157  0.2374445\n",
      "   0.65612684  0.86546801]] \n",
      "\n",
      "SET 3 TRAIN : [[-1.67838112 -1.63629186 -1.59420261 -1.55211335 -1.5100241  -1.46793484\n",
      "  -1.38375633 -1.34166708 -1.29957782 -1.25748857 -1.21539931 -1.17331006\n",
      "  -1.1312208  -1.08913155 -1.04704229 -1.00495303 -0.96286378 -0.92077452\n",
      "  -0.87868527 -0.83659601 -0.79450676 -0.7524175  -0.71032825 -0.66823899\n",
      "  -0.62614974 -0.58406048 -0.49988197 -0.45779272 -0.37361421 -0.33152495\n",
      "  -0.2894357  -0.24734644 -0.20525719 -0.16316793 -0.12107868 -0.07898942\n",
      "   0.04727834  0.0893676   0.13145685  0.17354611  0.21563536  0.25772462\n",
      "   0.29981387  0.34190313  0.38399238  0.42608164  0.46817089  0.51026015\n",
      "   0.59443866  0.63652791  0.67861717  0.72070642  0.76279568  0.80488493\n",
      "   0.84697419  0.88906344  0.9311527   0.97324195  1.05742046  1.09950972\n",
      "   1.14159897  1.18368823  1.22577748  1.30995599  1.35204525  1.3941345\n",
      "   1.43622376  1.47831301  1.52040227  1.56249152  1.60458078  1.64667003\n",
      "   1.68875929]] TEST : [[-1.42584559 -0.54197123 -0.41570346 -0.03690017  0.00518909  0.5523494\n",
      "   1.01533121  1.26786674]] \n",
      "\n",
      "SET 4 TRAIN : [[-1.7046248  -1.66239962 -1.62017444 -1.57794925 -1.53572407 -1.49349889\n",
      "  -1.45127371 -1.40904853 -1.36682335 -1.32459816 -1.28237298 -1.2401478\n",
      "  -1.15569744 -1.11347226 -1.07124707 -1.02902189 -0.98679671 -0.94457153\n",
      "  -0.90234635 -0.86012117 -0.81789598 -0.73344562 -0.69122044 -0.56454489\n",
      "  -0.52231971 -0.48009453 -0.43786935 -0.39564417 -0.3111938  -0.26896862\n",
      "  -0.22674344 -0.18451826 -0.14229308 -0.1000679  -0.05784271 -0.01561753\n",
      "   0.06883283  0.11105801  0.15328319  0.19550838  0.23773356  0.27995874\n",
      "   0.32218392  0.3644091   0.40663428  0.44885947  0.49108465  0.53330983\n",
      "   0.57553501  0.61776019  0.65998537  0.74443574  0.78666092  0.8288861\n",
      "   0.87111128  0.91333646  0.95556165  0.99778683  1.04001201  1.08223719\n",
      "   1.12446237  1.16668755  1.20891274  1.25113792  1.2933631   1.33558828\n",
      "   1.37781346  1.42003864  1.46226383  1.50448901  1.54671419  1.63116455\n",
      "   1.67338973]] TEST : [[-1.19792262 -0.7756708  -0.64899526 -0.60677008 -0.35341899  0.02660765\n",
      "   0.70221056  1.58893937]] \n",
      "\n",
      "SET 5 TRAIN : [[-1.78127204 -1.7380861  -1.69490016 -1.65171423 -1.56534235 -1.52215641\n",
      "  -1.43578454 -1.3925986  -1.34941266 -1.26304079 -1.21985485 -1.17666891\n",
      "  -1.13348297 -1.09029703 -1.0471111  -1.00392516 -0.96073922 -0.91755328\n",
      "  -0.83118141 -0.78799547 -0.74480953 -0.70162359 -0.65843766 -0.61525172\n",
      "  -0.57206578 -0.52887984 -0.4856939  -0.39932203 -0.35613609 -0.26976421\n",
      "  -0.22657828 -0.18339234 -0.1402064  -0.09702046 -0.05383453 -0.01064859\n",
      "   0.03253735  0.07572329  0.11890923  0.2052811   0.24846704  0.29165298\n",
      "   0.33483892  0.37802485  0.42121079  0.46439673  0.50758267  0.5507686\n",
      "   0.59395454  0.63714048  0.68032642  0.72351236  0.76669829  0.80988423\n",
      "   0.85307017  0.89625611  0.93944205  0.98262798  1.02581392  1.06899986\n",
      "   1.1121858   1.15537174  1.19855767  1.24174361  1.28492955  1.32811549\n",
      "   1.37130142  1.41448736  1.4576733   1.54404518  1.58723111  1.63041705\n",
      "   1.67360299]] TEST : [[-1.60852829 -1.47897048 -1.30622672 -0.87436734 -0.44250797 -0.31295015\n",
      "   0.16209516  1.50085924]] \n",
      "\n",
      "SET 6 TRAIN : [[-1.71029371 -1.6666851  -1.57946789 -1.53585928 -1.49225068 -1.44864207\n",
      "  -1.40503346 -1.36142486 -1.27420764 -1.23059904 -1.18699043 -1.14338182\n",
      "  -1.09977322 -1.05616461 -1.012556   -0.9689474  -0.92533879 -0.88173018\n",
      "  -0.83812158 -0.79451297 -0.75090436 -0.70729576 -0.66368715 -0.62007854\n",
      "  -0.57646994 -0.53286133 -0.48925272 -0.44564412 -0.40203551 -0.3584269\n",
      "  -0.3148183  -0.27120969 -0.22760108 -0.18399248 -0.14038387 -0.09677526\n",
      "  -0.05316666 -0.00955805  0.03405056  0.07765916  0.12126777  0.20848498\n",
      "   0.25209359  0.2957022   0.3393108   0.38291941  0.42652802  0.47013662\n",
      "   0.51374523  0.55735384  0.60096244  0.64457105  0.73178826  0.77539687\n",
      "   0.90622269  0.9498313   0.9934399   1.03704851  1.08065712  1.12426572\n",
      "   1.16787433  1.21148294  1.25509154  1.29870015  1.34230876  1.38591736\n",
      "   1.42952597  1.47313458  1.56035179  1.6039604   1.69117761  1.73478622\n",
      "   1.77839482]] TEST : [[-1.6230765  -1.31781625  0.16487638  0.68817966  0.81900548  0.86261408\n",
      "   1.51674318  1.647569  ]] \n",
      "\n",
      "SET 7 TRAIN : [[-1.69750631 -1.65438941 -1.61127251 -1.56815562 -1.52503872 -1.48192183\n",
      "  -1.43880493 -1.39568803 -1.35257114 -1.30945424 -1.26633734 -1.22322045\n",
      "  -1.18010355 -1.13698665 -1.05075286 -1.00763596 -0.96451907 -0.87828527\n",
      "  -0.79205148 -0.74893459 -0.70581769 -0.66270079 -0.6195839  -0.576467\n",
      "  -0.5333501  -0.49023321 -0.44711631 -0.40399941 -0.36088252 -0.31776562\n",
      "  -0.27464872 -0.23153183 -0.18841493 -0.14529803 -0.10218114 -0.01594735\n",
      "   0.02716955  0.07028645  0.11340334  0.15652024  0.19963714  0.24275403\n",
      "   0.28587093  0.32898783  0.37210472  0.41522162  0.45833852  0.50145541\n",
      "   0.54457231  0.58768921  0.6308061   0.673923    0.71703989  0.76015679\n",
      "   0.80327369  0.84639058  0.88950748  0.93262438  0.97574127  1.01885817\n",
      "   1.06197507  1.14820886  1.23444265  1.32067645  1.36379334  1.40691024\n",
      "   1.45002713  1.49314403  1.57937782  1.62249472  1.66561162  1.70872851\n",
      "   1.75184541]] TEST : [[-1.09386976 -0.92140217 -0.83516838 -0.05906424  1.10509196  1.19132576\n",
      "   1.27755955  1.53626093]] \n",
      "\n",
      "SET 8 TRAIN : [[-1.72026245 -1.67656754 -1.58917773 -1.54548282 -1.50178792 -1.45809301\n",
      "  -1.41439811 -1.3707032  -1.3270083  -1.28331339 -1.23961849 -1.19592358\n",
      "  -1.15222867 -1.10853377 -1.06483886 -1.02114396 -0.97744905 -0.93375415\n",
      "  -0.89005924 -0.84636434 -0.80266943 -0.67158471 -0.62788981 -0.5841949\n",
      "  -0.5405     -0.49680509 -0.45311019 -0.40941528 -0.36572037 -0.32202547\n",
      "  -0.27833056 -0.23463566 -0.19094075 -0.14724585 -0.10355094 -0.05985604\n",
      "  -0.01616113  0.02753378  0.07122868  0.11492359  0.2023134   0.2460083\n",
      "   0.28970321  0.33339812  0.37709302  0.42078793  0.50817774  0.55187264\n",
      "   0.59556755  0.63926245  0.68295736  0.72665227  0.77034717  0.81404208\n",
      "   0.85773698  0.90143189  0.94512679  0.9888217   1.0325166   1.07621151\n",
      "   1.11990642  1.16360132  1.25099113  1.29468604  1.33838094  1.38207585\n",
      "   1.42577075  1.46946566  1.51316057  1.55685547  1.60055038  1.64424528\n",
      "   1.68794019]] TEST : [[-1.76395735 -1.63287264 -0.75897452 -0.71527962  0.15861849  0.46448283\n",
      "   1.20729623  1.73163509]] \n",
      "\n",
      "SET 9 TRAIN : [[-1.66065146 -1.61882    -1.57698855 -1.53515709 -1.49332564 -1.45149418\n",
      "  -1.40966273 -1.36783127 -1.32599982 -1.28416836 -1.20050545 -1.158674\n",
      "  -1.11684254 -1.07501109 -1.03317963 -0.99134818 -0.94951672 -0.90768527\n",
      "  -0.86585381 -0.82402236 -0.7821909  -0.74035945 -0.69852799 -0.65669654\n",
      "  -0.61486508 -0.57303363 -0.53120217 -0.44753926 -0.40570781 -0.36387635\n",
      "  -0.3220449  -0.23838199 -0.19655053 -0.15471908 -0.11288763 -0.07105617\n",
      "  -0.02922472  0.01260674  0.05443819  0.09626965  0.1381011   0.17993256\n",
      "   0.22176401  0.26359547  0.34725838  0.47275274  0.55641565  0.59824711\n",
      "   0.64007856  0.68191002  0.72374147  0.76557293  0.80740438  0.84923584\n",
      "   0.89106729  0.93289875  0.9747302   1.01656166  1.05839311  1.10022457\n",
      "   1.14205602  1.18388748  1.22571893  1.26755039  1.30938184  1.3512133\n",
      "   1.43487621  1.47670766  1.51853912  1.56037057  1.60220203  1.64403348\n",
      "   1.68586494]] TEST : [[-1.24233691 -0.48937072 -0.28021344  0.30542692  0.38908983  0.43092129\n",
      "   0.5145842   1.39304475]] \n",
      "\n"
     ]
    }
   ],
   "source": [
    "for k,(train_index, test_index) in enumerate(kf.split(x,y)):\n",
    "    x_train, x_test = x[train_index], x[test_index]\n",
    "    std_scale = preprocessing.StandardScaler().fit(x_train)\n",
    "    x_train_std, x_test_std = std_scale.transform(x_train), std_scale.transform(x_test)\n",
    "    print(\"SET\", k , \"TRAIN :\", x_train_std.T, \"TEST :\", x_test_std.T, \"\\n\")"
   ]
  },
  {
   "cell_type": "markdown",
   "metadata": {},
   "source": [
    "### 3. For each of the 10 training sets, compute the weights that minimizes the training error for each hypothesis\n",
    "(a) g(x;w) = w0 + xw1\n",
    "\n",
    "(b) g(x;w) = w0 + xw1 + x2w2 + x3w3\n",
    "\n",
    "(c) g(x;w) = w0 + x1w1 + x2w2 + x3w3 + x4w4 + x5w5\n",
    "\n",
    "(d) g(x;w) = w0 + x1w1 + x2w2 + x3w3 + x4w4 + x5w5 + ... + x50w50"
   ]
  },
  {
   "cell_type": "code",
   "execution_count": 36,
   "metadata": {},
   "outputs": [],
   "source": [
    "def gradient_descent(X, y, w, learning_rate, iterations):\n",
    "    error_history = np.zeros(iterations)\n",
    "    w_history = np.zeros((iterations,len(w)))\n",
    "    n = len(y)\n",
    "    for it in range(iterations):        \n",
    "        prediction = np.dot(X,w)\n",
    "        w = w -  learning_rate * (2/n) * np.dot(X.T,(prediction - y))\n",
    "        w_history[it,:] =w.T\n",
    "        error_history[it]  = error(w,X,y)\n",
    "    return w, w_history, error_history"
   ]
  },
  {
   "cell_type": "code",
   "execution_count": 34,
   "metadata": {},
   "outputs": [],
   "source": [
    "def error(w,X,y):  \n",
    "    n = len(y)\n",
    "    predictions = np.dot(X,w)\n",
    "    error = (1/n) * np.sum(np.square(predictions-y))\n",
    "    return error"
   ]
  },
  {
   "cell_type": "code",
   "execution_count": 67,
   "metadata": {},
   "outputs": [
    {
     "data": {
      "image/png": "[encoded data removed]",
      "text/plain": [
       "<Figure size 432x288 with 1 Axes>"
      ]
     },
     "metadata": {
      "needs_background": "light"
     },
     "output_type": "display_data"
    },
    {
     "data": {
      "image/png": "[encoded data removed]",
      "text/plain": [
       "<Figure size 432x288 with 1 Axes>"
      ]
     },
     "metadata": {
      "needs_background": "light"
     },
     "output_type": "display_data"
    },
    {
     "data": {
      "image/png": "[encoded data removed]",
      "text/plain": [
       "<Figure size 432x288 with 1 Axes>"
      ]
     },
     "metadata": {
      "needs_background": "light"
     },
     "output_type": "display_data"
    },
    {
     "data": {
      "image/png": "[encoded data removed]",
      "text/plain": [
       "<Figure size 432x288 with 1 Axes>"
      ]
     },
     "metadata": {
      "needs_background": "light"
     },
     "output_type": "display_data"
    },
    {
     "data": {
      "image/png": "[encoded data removed]",
      "text/plain": [
       "<Figure size 432x288 with 1 Axes>"
      ]
     },
     "metadata": {
      "needs_background": "light"
     },
     "output_type": "display_data"
    },
    {
     "data": {
      "image/png": "[encoded data removed]",
      "text/plain": [
       "<Figure size 432x288 with 1 Axes>"
      ]
     },
     "metadata": {
      "needs_background": "light"
     },
     "output_type": "display_data"
    },
    {
     "data": {
      "image/png": "[encoded data removed]",
      "text/plain": [
       "<Figure size 432x288 with 1 Axes>"
      ]
     },
     "metadata": {
      "needs_background": "light"
     },
     "output_type": "display_data"
    },
    {
     "data": {
      "image/png": "[encoded data removed]",
      "text/plain": [
       "<Figure size 432x288 with 1 Axes>"
      ]
     },
     "metadata": {
      "needs_background": "light"
     },
     "output_type": "display_data"
    },
    {
     "data": {
      "image/png": "[encoded data removed]",
      "text/plain": [
       "<Figure size 432x288 with 1 Axes>"
      ]
     },
     "metadata": {
      "needs_background": "light"
     },
     "output_type": "display_data"
    },
    {
     "data": {
      "image/png": "[encoded data removed]",
      "text/plain": [
       "<Figure size 432x288 with 1 Axes>"
      ]
     },
     "metadata": {
      "needs_background": "light"
     },
     "output_type": "display_data"
    }
   ],
   "source": [
    "W_a = np.zeros((kf.get_n_splits(),2,1))\n",
    "W_b = np.zeros((kf.get_n_splits(),4,1))\n",
    "W_c = np.zeros((kf.get_n_splits(),6,1))\n",
    "W_d = np.zeros((kf.get_n_splits(),10,1))\n",
    "\n",
    "training_error_a = np.zeros(kf.get_n_splits())\n",
    "training_error_b = np.zeros(kf.get_n_splits())\n",
    "training_error_c = np.zeros(kf.get_n_splits())\n",
    "training_error_d = np.zeros(kf.get_n_splits())\n",
    "\n",
    "test_error_a = np.zeros(kf.get_n_splits())\n",
    "test_error_b = np.zeros(kf.get_n_splits())\n",
    "test_error_c = np.zeros(kf.get_n_splits())\n",
    "test_error_d = np.zeros(kf.get_n_splits())\n",
    "\n",
    "for k, (train_index, test_index) in enumerate(kf.split(x,y)):\n",
    "    x_train, x_test = x[train_index], x[test_index]\n",
    "    y_train, y_test = y[train_index], y[test_index]\n",
    "    \n",
    "    #Standarization\n",
    "    std_scale = preprocessing.StandardScaler().fit(x_train)\n",
    "    x_train, x_test = std_scale.transform(x_train), std_scale.transform(x_test)\n",
    "    \n",
    "    #Convert x_train, x_test to matrix form for each hypothesis\n",
    "    X_train_a = np.c_[np.ones((len(x_train),1)),x_train]\n",
    "    X_test_a = np.c_[np.ones((len(x_test),1)),x_test]\n",
    "    \n",
    "    ft_poly3=PolynomialFeatures(degree=3)\n",
    "    X_train_b=ft_poly3.fit_transform(x_train)\n",
    "    X_test_b=ft_poly3.fit_transform(x_test)\n",
    "        \n",
    "    ft_poly5=PolynomialFeatures(degree=5)\n",
    "    X_train_c=ft_poly5.fit_transform(x_train)\n",
    "    X_test_c=ft_poly5.fit_transform(x_test)\n",
    "        \n",
    "    ft_poly50=PolynomialFeatures(degree=9)\n",
    "    X_train_d=ft_poly50.fit_transform(x_train)\n",
    "    X_test_d=ft_poly50.fit_transform(x_test)\n",
    "    \n",
    "    #Initialize w for each hypothesis\n",
    "    \n",
    "    W_a[k] = np.random.randn(2,1)\n",
    "    W_b[k] = np.random.randn(4,1)\n",
    "    W_c[k] = np.random.randn(6,1)\n",
    "    W_d[k] = np.random.randn(10,1)\n",
    "    \n",
    "    #Define constants for GD function\n",
    "    lr =0.01\n",
    "    n_iter = 100\n",
    "        \n",
    "    #Run GD function for each hypothesis\n",
    "    W_a[k], w_hist_a, error_a = gradient_descent(X_train_a,y_train,W_a[k],lr,n_iter)\n",
    "    W_b[k], w_hist_b, error_b = gradient_descent(X_train_b,y_train,W_b[k],lr,n_iter)\n",
    "    W_c[k], w_hist_c, error_c = gradient_descent(X_train_c,y_train,W_c[k],lr,n_iter)\n",
    "    W_d[k], w_hist_d, error_d = gradient_descent(X_train_d,y_train,W_d[k],0.001,n_iter)         \n",
    "    \n",
    "    ##reg = LinearRegression().fit(x_train, y_train)\n",
    "    \n",
    "    ##Get training and testing error for each hypothesis    \n",
    "    ##training_error_a[k] = error(W_a[k], X_train_a, y_train)\n",
    "    ##training_error_b[k] = error(W_b[k], X_train_b, y_train)\n",
    "    training_error_c[k] = error(W_c[k], X_train_c, y_train)\n",
    "    ##training_error_d[k] = error(W_d[k], X_train_d, y_train)\n",
    "    \n",
    "    ##test_error_a[k] = error(W_a[k], X_test_a, y_test)\n",
    "    ##test_error_b[k] = error(W_b[k], X_test_b, y_test)\n",
    "    test_error_c[k] = error(W_c[k], X_test_c, y_test)\n",
    "    ##test_error_d[k] = error(W_d[k], X_test_d, y_test)\n",
    "\n",
    "    plt.scatter(range(n_iter),error_d)\n",
    "    plt.show()\n",
    "    \n",
    "\n",
    "    "
   ]
  },
  {
   "cell_type": "code",
   "execution_count": null,
   "metadata": {},
   "outputs": [],
   "source": [
    "\"\"\"\n",
    "    predictionsA = np.dot(X_train_a,W_a[k])\n",
    "    predictionsB = np.dot(X_train_b,W_b[k])\n",
    "    predictionsC = np.dot(X_train_c,W_c[k])\n",
    "    predictionsD = np.dot(X_train_d,W_d[k])\n",
    "    plt.scatter(x_train, y_train)\n",
    "    plt.scatter(x_train, predictionsA)\n",
    "    plt.scatter(x_train, predictionsB)\n",
    "    plt.scatter(x_train, predictionsC)\n",
    "    plt.scatter(x_train, predictionsD)\n",
    "    plt.show()\n",
    "    \"\"\"         \n",
    "print (\"A - Weights : \", W_a)\n",
    "print (\"B - Weights : \", W_b)\n",
    "print (\"C - Weights : \", W_c)\n",
    "print (\"D - Weights : \", W_d)"
   ]
  },
  {
   "cell_type": "code",
   "execution_count": null,
   "metadata": {},
   "outputs": [],
   "source": [
    "hypothesis = ['A', 'B', 'C', 'D']\n",
    "error_mean_trainning = [training_error_a.mean(), training_error_b.mean(), training_error_c.mean(), training_error_d.mean()]\n",
    "error_std_trainning = [training_error_a.std(), training_error_b.std(), training_error_c.std(),training_error_d.std()]\n",
    "\n",
    "print (error_mean_trainning)\n",
    "print (error_std_trainning)\n",
    "\n",
    "plt.figure()\n",
    "plt.bar(hypothesis, error_mean_trainning, yerr= error_std_trainning,align='center')\n",
    "plt.show()"
   ]
  },
  {
   "cell_type": "code",
   "execution_count": null,
   "metadata": {},
   "outputs": [],
   "source": []
  }
 ],
 "metadata": {
  "kernelspec": {
   "display_name": "Python 3",
   "language": "python",
   "name": "python3"
  },
  "language_info": {
   "codemirror_mode": {
    "name": "ipython",
    "version": 3
   },
   "file_extension": ".py",
   "mimetype": "text/x-python",
   "name": "python",
   "nbconvert_exporter": "python",
   "pygments_lexer": "ipython3",
   "version": "3.7.3"
  }
 },
 "nbformat": 4,
 "nbformat_minor": 2
}
