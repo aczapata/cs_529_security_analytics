{
 "cells": [
  {
   "cell_type": "code",
   "execution_count": 179,
   "metadata": {},
   "outputs": [],
   "source": [
    "import pandas as pd\n",
    "import matplotlib\n",
    "import matplotlib.pyplot as plt\n",
    "from sklearn import preprocessing\n",
    "import numpy as np\n",
    "import sys\n",
    "from sklearn.preprocessing import StandardScaler"
   ]
  },
  {
   "cell_type": "code",
   "execution_count": 3,
   "metadata": {},
   "outputs": [
    {
     "data": {
      "text/html": [
       "<div>\n",
       "<style scoped>\n",
       "    .dataframe tbody tr th:only-of-type {\n",
       "        vertical-align: middle;\n",
       "    }\n",
       "\n",
       "    .dataframe tbody tr th {\n",
       "        vertical-align: top;\n",
       "    }\n",
       "\n",
       "    .dataframe thead th {\n",
       "        text-align: right;\n",
       "    }\n",
       "</style>\n",
       "<table border=\"1\" class=\"dataframe\">\n",
       "  <thead>\n",
       "    <tr style=\"text-align: right;\">\n",
       "      <th></th>\n",
       "      <th>0</th>\n",
       "      <th>1</th>\n",
       "      <th>2</th>\n",
       "      <th>3</th>\n",
       "    </tr>\n",
       "  </thead>\n",
       "  <tbody>\n",
       "    <tr>\n",
       "      <th>count</th>\n",
       "      <td>150.000000</td>\n",
       "      <td>150.000000</td>\n",
       "      <td>150.000000</td>\n",
       "      <td>150.000000</td>\n",
       "    </tr>\n",
       "    <tr>\n",
       "      <th>mean</th>\n",
       "      <td>5.843333</td>\n",
       "      <td>3.054000</td>\n",
       "      <td>3.758667</td>\n",
       "      <td>1.198667</td>\n",
       "    </tr>\n",
       "    <tr>\n",
       "      <th>std</th>\n",
       "      <td>0.828066</td>\n",
       "      <td>0.433594</td>\n",
       "      <td>1.764420</td>\n",
       "      <td>0.763161</td>\n",
       "    </tr>\n",
       "    <tr>\n",
       "      <th>min</th>\n",
       "      <td>4.300000</td>\n",
       "      <td>2.000000</td>\n",
       "      <td>1.000000</td>\n",
       "      <td>0.100000</td>\n",
       "    </tr>\n",
       "    <tr>\n",
       "      <th>25%</th>\n",
       "      <td>5.100000</td>\n",
       "      <td>2.800000</td>\n",
       "      <td>1.600000</td>\n",
       "      <td>0.300000</td>\n",
       "    </tr>\n",
       "    <tr>\n",
       "      <th>50%</th>\n",
       "      <td>5.800000</td>\n",
       "      <td>3.000000</td>\n",
       "      <td>4.350000</td>\n",
       "      <td>1.300000</td>\n",
       "    </tr>\n",
       "    <tr>\n",
       "      <th>75%</th>\n",
       "      <td>6.400000</td>\n",
       "      <td>3.300000</td>\n",
       "      <td>5.100000</td>\n",
       "      <td>1.800000</td>\n",
       "    </tr>\n",
       "    <tr>\n",
       "      <th>max</th>\n",
       "      <td>7.900000</td>\n",
       "      <td>4.400000</td>\n",
       "      <td>6.900000</td>\n",
       "      <td>2.500000</td>\n",
       "    </tr>\n",
       "  </tbody>\n",
       "</table>\n",
       "</div>"
      ],
      "text/plain": [
       "                0           1           2           3\n",
       "count  150.000000  150.000000  150.000000  150.000000\n",
       "mean     5.843333    3.054000    3.758667    1.198667\n",
       "std      0.828066    0.433594    1.764420    0.763161\n",
       "min      4.300000    2.000000    1.000000    0.100000\n",
       "25%      5.100000    2.800000    1.600000    0.300000\n",
       "50%      5.800000    3.000000    4.350000    1.300000\n",
       "75%      6.400000    3.300000    5.100000    1.800000\n",
       "max      7.900000    4.400000    6.900000    2.500000"
      ]
     },
     "execution_count": 3,
     "metadata": {},
     "output_type": "execute_result"
    }
   ],
   "source": [
    "data = pd.read_csv(\"iris.data\", header=None)\n",
    "data.describe()"
   ]
  },
  {
   "cell_type": "code",
   "execution_count": 4,
   "metadata": {},
   "outputs": [],
   "source": [
    "x1 = data[0]/data[1]\n",
    "x2 = data[2]/data[3]\n",
    "le = preprocessing.LabelEncoder()\n",
    "le.fit(data[4])\n",
    "cl = le.transform(data[4])"
   ]
  },
  {
   "cell_type": "code",
   "execution_count": 5,
   "metadata": {
    "scrolled": true
   },
   "outputs": [
    {
     "data": {
      "text/plain": [
       "<matplotlib.collections.PathCollection at 0x29a6d1d4080>"
      ]
     },
     "execution_count": 5,
     "metadata": {},
     "output_type": "execute_result"
    },
    {
     "data": {
      "image/png": "[encoded data removed]",
      "text/plain": [
       "<Figure size 432x288 with 1 Axes>"
      ]
     },
     "metadata": {
      "needs_background": "light"
     },
     "output_type": "display_data"
    }
   ],
   "source": [
    "colors = ['red','green','blue']\n",
    "plt.scatter(x1, x2,c=cl, cmap=matplotlib.colors.ListedColormap(colors))"
   ]
  },
  {
   "cell_type": "code",
   "execution_count": 191,
   "metadata": {},
   "outputs": [],
   "source": [
    "def k_init(X, k):\n",
    "    \"\"\" k-means++: initialization algorithm\n",
    "\n",
    "    Parameters\n",
    "    ----------\n",
    "    X: array, shape(n ,d)\n",
    "        Input array of n samples and d features\n",
    "\n",
    "    k: int\n",
    "        The number of clusters\n",
    "\n",
    "    Returns\n",
    "    -------\n",
    "    init_centers: array (k, d)\n",
    "        The initialize centers for kmeans++\n",
    "    \"\"\"\n",
    "\n",
    "    C = np.zeros((k, X.shape[1]))\n",
    "    np.random.seed(23)\n",
    "    ix = np.random.choice(X.shape[0], 1)\n",
    "    C[0] = X[ix, :]\n",
    "    D = np.sum(np.square(X - C[0]), axis=1)\n",
    "    for ki in range(1, k):\n",
    "        ix = np.argmax(D)\n",
    "        C[ki] = X[ix, :]\n",
    "        D = np.minimum(D, np.sum(np.square(X - C[ki]), axis=1))\n",
    "    return C\n",
    "\n",
    "\n",
    "def k_means_pp(X, k, max_iter):\n",
    "    \"\"\" k-means++ clustering algorithm\n",
    "\n",
    "    step 1: call k_init() to initialize the centers\n",
    "    step 2: iteratively refine the assignments\n",
    "\n",
    "    Parameters\n",
    "    ----------\n",
    "    X: array, shape(n ,d)\n",
    "        Input array of n samples and d features\n",
    "\n",
    "    k: int\n",
    "        The number of clusters\n",
    "\n",
    "    max_iter: int\n",
    "        Maximum number of iteration\n",
    "\n",
    "    Returns\n",
    "    -------\n",
    "    final_centers: array, shape (k, d)\n",
    "        The final cluster centers\n",
    "    \"\"\"\n",
    "    C = k_init(X, k)\n",
    "\n",
    "    for i in range(max_iter):\n",
    "        print(\"It: \", i, \"Centers :\", C)\n",
    "        data_map = assign_data2clusters(X, C)\n",
    "        for ki in range(k):\n",
    "            # I multiply the data map column of the given center to get the points in the cluster and remove 0 rows\n",
    "            cluster_points = (X.T * data_map[:, ki]).T\n",
    "            cluster_points = cluster_points[~(cluster_points == 0).all(1)]\n",
    "            C[ki] = np.mean(cluster_points, axis=0)\n",
    "    return C\n",
    "\n",
    "\n",
    "def map_cluster(x):\n",
    "    return [1 if c == np.min(x) else 0 for c in x]\n",
    "\n",
    "\n",
    "def assign_data2clusters(X, C):\n",
    "    \"\"\" Assignments of data to the clusters\n",
    "    Parameters\n",
    "    ----------\n",
    "    X: array, shape(n ,d)\n",
    "        Input array of n samples and d features\n",
    "\n",
    "    C: array, shape(k ,d)\n",
    "        The final cluster centers\n",
    "\n",
    "    Returns\n",
    "    -------\n",
    "    data_map: array, shape(n, k)\n",
    "        The binary matrix A which shows the assignments of data points (X) to\n",
    "        the input centers (C).\n",
    "    \"\"\"\n",
    "    k = C.shape[0]\n",
    "    D = np.zeros((X.shape[0], k))\n",
    "\n",
    "    for ki in range(k):\n",
    "        D[:, ki] = np.sum(np.square(X - C[ki]), axis=1)\n",
    "    #print(\"Distance \", D)\n",
    "    data_map = np.apply_along_axis(map_cluster, axis=1, arr=D)\n",
    "    return data_map\n",
    "\n",
    "\n",
    "def silhouette_score(xi, ci, k, C_points):\n",
    "    \"\"\" Compute the silhouette score for xi\n",
    "    ----------\n",
    "    xi: array, shape(d,)\n",
    "        Input array d features\n",
    "\n",
    "    ci: int\n",
    "        Cluster index of xi\n",
    "\n",
    "    k: int\n",
    "        Number of clusters\n",
    "\n",
    "\n",
    "    C_points: dictionary\n",
    "        The points in each cluster\n",
    "\n",
    "    Returns\n",
    "    -------\n",
    "    accuracy: float\n",
    "        The silhouette_score for the given assigments\n",
    "    \"\"\"\n",
    "    if k == 1 :\n",
    "        return  0\n",
    "    else:\n",
    "        bi = sys.maxsize\n",
    "        ai = sys.maxsize\n",
    "\n",
    "        for ki in range(k):\n",
    "            if ki == ci:\n",
    "                ai = np.mean(np.sum(np.square(C_points[ki] - xi), axis=1))\n",
    "\n",
    "            else:\n",
    "                bi = min(bi, np.mean(np.sum(np.square(C_points[ki] - xi), axis=1)))\n",
    "\n",
    "        si = (bi - ai) / max(bi, ai)\n",
    "        return si"
   ]
  },
  {
   "cell_type": "code",
   "execution_count": 196,
   "metadata": {
    "scrolled": false
   },
   "outputs": [
    {
     "name": "stdout",
     "output_type": "stream",
     "text": [
      "It:  0 Centers : [[ 0.67212026 -0.44639443]\n",
      " [-1.72851127  4.02354227]\n",
      " [-1.62475021  0.99628355]\n",
      " [ 2.53266215 -0.51734581]\n",
      " [-1.32515841 -0.64348159]\n",
      " [-1.31317474  2.50991291]\n",
      " [-0.33121856 -0.7641332 ]]\n",
      "It:  1 Centers : [[ 0.65715219 -0.48437676]\n",
      " [-1.08992392  3.9478608 ]\n",
      " [-1.21826273  0.9984583 ]\n",
      " [ 2.01486054 -0.39906053]\n",
      " [-1.30865641 -0.1418493 ]\n",
      " [-1.34031423  2.2261074 ]\n",
      " [-0.07161464 -0.61756135]]\n",
      "It:  2 Centers : [[ 0.67156853 -0.48473505]\n",
      " [-1.08992392  3.9478608 ]\n",
      " [-1.18823041  1.05467974]\n",
      " [ 1.76725715 -0.43101558]\n",
      " [-1.35066209 -0.09100687]\n",
      " [-1.34031423  2.2261074 ]\n",
      " [ 0.02312105 -0.57320937]]\n",
      "It:  3 Centers : [[ 0.6862142  -0.48669075]\n",
      " [-1.08992392  3.9478608 ]\n",
      " [-1.18823041  1.05467974]\n",
      " [ 1.76725715 -0.43101558]\n",
      " [-1.35066209 -0.09100687]\n",
      " [-1.34031423  2.2261074 ]\n",
      " [ 0.03838083 -0.56578414]]\n",
      "It:  4 Centers : [[ 0.6862142  -0.48669075]\n",
      " [-1.08992392  3.9478608 ]\n",
      " [-1.18823041  1.05467974]\n",
      " [ 1.76725715 -0.43101558]\n",
      " [-1.35066209 -0.09100687]\n",
      " [-1.34031423  2.2261074 ]\n",
      " [ 0.03838083 -0.56578414]]\n",
      "Centers : [[ 0.6862142  -0.48669075]\n",
      " [-1.08992392  3.9478608 ]\n",
      " [-1.18823041  1.05467974]\n",
      " [ 1.76725715 -0.43101558]\n",
      " [-1.35066209 -0.09100687]\n",
      " [-1.34031423  2.2261074 ]\n",
      " [ 0.03838083 -0.56578414]]\n"
     ]
    }
   ],
   "source": [
    "X = np.column_stack((x1, x2))\n",
    "scaler = StandardScaler()\n",
    "scaler.fit(X)\n",
    "X = scaler.transform(X)\n",
    "#X = np.column_stack(([1,2,5,4,6,7,5,4,3], [1,3,1,2,1,7,1,6,1]))\n",
    "#print(X)\n",
    "k= 7\n",
    "C= k_means_pp(X, k, 5)\n",
    "print (\"Centers :\", C)\n",
    "\n"
   ]
  },
  {
   "cell_type": "code",
   "execution_count": 197,
   "metadata": {},
   "outputs": [],
   "source": [
    "data_map = assign_data2clusters(X, C)\n",
    "C_points = {}\n",
    "for ki in range(k):\n",
    "    #I multiply the data map column of the given center to get the points in the cluster and remove 0 rows\n",
    "    cluster_points  = (X.T * data_map[:,ki]).T\n",
    "    cluster_points = cluster_points[~(cluster_points==0).all(1)]\n",
    "    C_points[ki] = cluster_points"
   ]
  },
  {
   "cell_type": "code",
   "execution_count": 150,
   "metadata": {},
   "outputs": [
    {
     "name": "stdout",
     "output_type": "stream",
     "text": [
      "[[ 2.09289505  3.1673129 ]\n",
      " [ 1.52204563 14.8       ]\n",
      " [ 1.47881418  7.36781609]]\n"
     ]
    },
    {
     "data": {
      "text/plain": [
       "array([0.93323873, 0.9931902 , 0.84769046])"
      ]
     },
     "execution_count": 150,
     "metadata": {},
     "output_type": "execute_result"
    }
   ],
   "source": [
    "print(C)\n",
    "compute_objective(X,C)\n"
   ]
  },
  {
   "cell_type": "code",
   "execution_count": 204,
   "metadata": {},
   "outputs": [
    {
     "data": {
      "text/plain": [
       "<matplotlib.collections.PathCollection at 0x29a705d0a90>"
      ]
     },
     "execution_count": 204,
     "metadata": {},
     "output_type": "execute_result"
    },
    {
     "data": {
      "image/png": "[encoded data removed]",
      "text/plain": [
       "<Figure size 432x288 with 1 Axes>"
      ]
     },
     "metadata": {
      "needs_background": "light"
     },
     "output_type": "display_data"
    }
   ],
   "source": [
    "plt.scatter(C_points[0][:,0], C_points[0][:,1])\n",
    "plt.scatter(C_points[1][:,0], C_points[1][:,1], c='green')\n",
    "plt.scatter(C_points[2][:,0], C_points[2][:,1], c='orange')\n",
    "plt.scatter(C_points[3][:,0], C_points[3][:,1], c='green')\n",
    "plt.scatter(C_points[4][:,0], C_points[4][:,1], c='blue')\n",
    "plt.scatter(C_points[5][:,0], C_points[5][:,1], c='purple')\n",
    "plt.scatter(C_points[6][:,0], C_points[6][:,1], c='purple')\n",
    "plt.scatter(C[:,0], C[:,1], c='red')"
   ]
  },
  {
   "cell_type": "code",
   "execution_count": null,
   "metadata": {},
   "outputs": [],
   "source": []
  }
 ],
 "metadata": {
  "kernelspec": {
   "display_name": "Python 3",
   "language": "python",
   "name": "python3"
  },
  "language_info": {
   "codemirror_mode": {
    "name": "ipython",
    "version": 3
   },
   "file_extension": ".py",
   "mimetype": "text/x-python",
   "name": "python",
   "nbconvert_exporter": "python",
   "pygments_lexer": "ipython3",
   "version": "3.7.3"
  }
 },
 "nbformat": 4,
 "nbformat_minor": 2
}
